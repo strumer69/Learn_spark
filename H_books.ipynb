{
  "nbformat": 4,
  "nbformat_minor": 0,
  "metadata": {
    "colab": {
      "provenance": [],
      "mount_file_id": "1ja21TKLFpqeiZgyReOfr3vU4evU_0b0v",
      "authorship_tag": "ABX9TyMXy4lcl/etBZhj9QrAMkdk",
      "include_colab_link": true
    },
    "kernelspec": {
      "name": "python3",
      "display_name": "Python 3"
    },
    "language_info": {
      "name": "python"
    }
  },
  "cells": [
    {
      "cell_type": "markdown",
      "metadata": {
        "id": "view-in-github",
        "colab_type": "text"
      },
      "source": [
        "<a href=\"https://colab.research.google.com/github/strumer69/Learn_spark/blob/main/H_books.ipynb\" target=\"_parent\"><img src=\"https://colab.research.google.com/assets/colab-badge.svg\" alt=\"Open In Colab\"/></a>"
      ]
    },
    {
      "cell_type": "code",
      "execution_count": 2,
      "metadata": {
        "colab": {
          "base_uri": "https://localhost:8080/"
        },
        "id": "XHGMiYHzlZ0Q",
        "outputId": "fcb9f47c-8fc1-40b2-c7ff-c2c5b5af6860"
      },
      "outputs": [
        {
          "output_type": "stream",
          "name": "stdout",
          "text": [
            "Looking in indexes: https://pypi.org/simple, https://us-python.pkg.dev/colab-wheels/public/simple/\n",
            "Collecting pyspark\n",
            "  Downloading pyspark-3.3.2.tar.gz (281.4 MB)\n",
            "\u001b[2K     \u001b[90m━━━━━━━━━━━━━━━━━━━━━━━━━━━━━━━━━━━━━━━\u001b[0m \u001b[32m281.4/281.4 MB\u001b[0m \u001b[31m4.6 MB/s\u001b[0m eta \u001b[36m0:00:00\u001b[0m\n",
            "\u001b[?25h  Preparing metadata (setup.py) ... \u001b[?25l\u001b[?25hdone\n",
            "Collecting py4j==0.10.9.5\n",
            "  Downloading py4j-0.10.9.5-py2.py3-none-any.whl (199 kB)\n",
            "\u001b[2K     \u001b[90m━━━━━━━━━━━━━━━━━━━━━━━━━━━━━━━━━━━━━━\u001b[0m \u001b[32m199.7/199.7 KB\u001b[0m \u001b[31m18.8 MB/s\u001b[0m eta \u001b[36m0:00:00\u001b[0m\n",
            "\u001b[?25hBuilding wheels for collected packages: pyspark\n",
            "  Building wheel for pyspark (setup.py) ... \u001b[?25l\u001b[?25hdone\n",
            "  Created wheel for pyspark: filename=pyspark-3.3.2-py2.py3-none-any.whl size=281824025 sha256=d68b3579fbaba215e334f3fc44ec8d04e3c3dbb402a9e47a69d2a714d5cffc6c\n",
            "  Stored in directory: /root/.cache/pip/wheels/6c/e3/9b/0525ce8a69478916513509d43693511463c6468db0de237c86\n",
            "Successfully built pyspark\n",
            "Installing collected packages: py4j, pyspark\n",
            "Successfully installed py4j-0.10.9.5 pyspark-3.3.2\n"
          ]
        }
      ],
      "source": [
        "pip install pyspark"
      ]
    },
    {
      "cell_type": "code",
      "source": [
        "from pyspark.sql import SparkSession\n",
        "spark=SparkSession.builder.appName('Practicec').getOrCreate()\n"
      ],
      "metadata": {
        "id": "OudYpxnnlcDL"
      },
      "execution_count": 3,
      "outputs": []
    },
    {
      "cell_type": "code",
      "source": [
        "spark"
      ],
      "metadata": {
        "colab": {
          "base_uri": "https://localhost:8080/",
          "height": 222
        },
        "id": "RdJygLWHluHw",
        "outputId": "39a64a2c-8600-43e8-dcce-9862166fbd41"
      },
      "execution_count": 4,
      "outputs": [
        {
          "output_type": "execute_result",
          "data": {
            "text/plain": [
              "<pyspark.sql.session.SparkSession at 0x7f8bea6741c0>"
            ],
            "text/html": [
              "\n",
              "            <div>\n",
              "                <p><b>SparkSession - in-memory</b></p>\n",
              "                \n",
              "        <div>\n",
              "            <p><b>SparkContext</b></p>\n",
              "\n",
              "            <p><a href=\"http://b3a27f1c190d:4040\">Spark UI</a></p>\n",
              "\n",
              "            <dl>\n",
              "              <dt>Version</dt>\n",
              "                <dd><code>v3.3.2</code></dd>\n",
              "              <dt>Master</dt>\n",
              "                <dd><code>local[*]</code></dd>\n",
              "              <dt>AppName</dt>\n",
              "                <dd><code>Practicec</code></dd>\n",
              "            </dl>\n",
              "        </div>\n",
              "        \n",
              "            </div>\n",
              "        "
            ]
          },
          "metadata": {},
          "execution_count": 4
        }
      ]
    },
    {
      "cell_type": "code",
      "source": [
        "spark.sparkContext"
      ],
      "metadata": {
        "colab": {
          "base_uri": "https://localhost:8080/",
          "height": 199
        },
        "id": "FoKclGiLaE01",
        "outputId": "bb9ad90f-8a61-4698-a52c-1e7e613c7fed"
      },
      "execution_count": 5,
      "outputs": [
        {
          "output_type": "execute_result",
          "data": {
            "text/plain": [
              "<SparkContext master=local[*] appName=Practicec>"
            ],
            "text/html": [
              "\n",
              "        <div>\n",
              "            <p><b>SparkContext</b></p>\n",
              "\n",
              "            <p><a href=\"http://b3a27f1c190d:4040\">Spark UI</a></p>\n",
              "\n",
              "            <dl>\n",
              "              <dt>Version</dt>\n",
              "                <dd><code>v3.3.2</code></dd>\n",
              "              <dt>Master</dt>\n",
              "                <dd><code>local[*]</code></dd>\n",
              "              <dt>AppName</dt>\n",
              "                <dd><code>Practicec</code></dd>\n",
              "            </dl>\n",
              "        </div>\n",
              "        "
            ]
          },
          "metadata": {},
          "execution_count": 5
        }
      ]
    },
    {
      "cell_type": "code",
      "source": [
        "# link of data:\n",
        "# https://drive.google.com/file/d/1LgibGOp2aJGbqjqAuU3iKKWYWcB0SAZd/view?usp=share_link\n",
        "df1=spark.read.csv('Book-Ratings.csv')"
      ],
      "metadata": {
        "id": "145myCGwZ7u1"
      },
      "execution_count": 6,
      "outputs": []
    },
    {
      "cell_type": "code",
      "source": [
        "df1.printSchema()"
      ],
      "metadata": {
        "id": "SLAP3wIslhBB",
        "colab": {
          "base_uri": "https://localhost:8080/"
        },
        "outputId": "b76d33ea-d9c9-4ea5-edc5-57a914ee9ffd"
      },
      "execution_count": 7,
      "outputs": [
        {
          "output_type": "stream",
          "name": "stdout",
          "text": [
            "root\n",
            " |-- _c0: string (nullable = true)\n",
            "\n"
          ]
        }
      ]
    },
    {
      "cell_type": "code",
      "source": [
        "df1.show()"
      ],
      "metadata": {
        "colab": {
          "base_uri": "https://localhost:8080/"
        },
        "id": "rCurCVHmY9Td",
        "outputId": "3dc7c06e-9210-4bd5-8bc1-0f5aaec8e7cc"
      },
      "execution_count": 8,
      "outputs": [
        {
          "output_type": "stream",
          "name": "stdout",
          "text": [
            "+--------------------+\n",
            "|                 _c0|\n",
            "+--------------------+\n",
            "|\"userid\";\"isbn\";\"...|\n",
            "|\"276725\";\"0345451...|\n",
            "|\"276726\";\"0155061...|\n",
            "|\"276727\";\"0446520...|\n",
            "|\"276729\";\"0521656...|\n",
            "|\"276729\";\"0521795...|\n",
            "|\"276733\";\"2080674...|\n",
            "|\"276736\";\"3257224...|\n",
            "|\"276737\";\"0600570...|\n",
            "|\"276744\";\"0385501...|\n",
            "|\"276745\";\"3423105...|\n",
            "|\"276746\";\"0425115...|\n",
            "|\"276746\";\"0449006...|\n",
            "|\"276746\";\"0553561...|\n",
            "|\"276746\";\"0553564...|\n",
            "|\"276746\";\"0786013...|\n",
            "|\"276746\";\"0786014...|\n",
            "|\"276747\";\"0060517...|\n",
            "|\"276747\";\"0451192...|\n",
            "|\"276747\";\"0609801...|\n",
            "+--------------------+\n",
            "only showing top 20 rows\n",
            "\n"
          ]
        }
      ]
    },
    {
      "cell_type": "code",
      "source": [
        "df1=spark.read.options(sep=';').csv('Book-Ratings.csv')\n",
        "df1.show()"
      ],
      "metadata": {
        "colab": {
          "base_uri": "https://localhost:8080/"
        },
        "id": "42ljXBL6gNiy",
        "outputId": "5b1626a3-0f0e-44c3-9863-87961092e216"
      },
      "execution_count": 9,
      "outputs": [
        {
          "output_type": "stream",
          "name": "stdout",
          "text": [
            "+------+----------+----+\n",
            "|   _c0|       _c1| _c2|\n",
            "+------+----------+----+\n",
            "|userid|      isbn|rate|\n",
            "|276725|034545104X|   0|\n",
            "|276726|0155061224|   5|\n",
            "|276727|0446520802|   0|\n",
            "|276729|052165615X|   3|\n",
            "|276729|0521795028|   6|\n",
            "|276733|2080674722|   0|\n",
            "|276736|3257224281|   8|\n",
            "|276737|0600570967|   6|\n",
            "|276744|038550120X|   7|\n",
            "|276745| 342310538|  10|\n",
            "|276746|0425115801|   0|\n",
            "|276746|0449006522|   0|\n",
            "|276746|0553561618|   0|\n",
            "|276746|055356451X|   0|\n",
            "|276746|0786013990|   0|\n",
            "|276746|0786014512|   0|\n",
            "|276747|0060517794|   9|\n",
            "|276747|0451192001|   0|\n",
            "|276747|0609801279|   0|\n",
            "+------+----------+----+\n",
            "only showing top 20 rows\n",
            "\n"
          ]
        }
      ]
    },
    {
      "cell_type": "code",
      "source": [
        "df1=spark.read.options(sep=';',header=True).csv('Book-Ratings.csv')\n",
        "df1.show()"
      ],
      "metadata": {
        "colab": {
          "base_uri": "https://localhost:8080/"
        },
        "id": "-DOXiTqjiYdh",
        "outputId": "16d5d660-4870-458b-e0cb-e0c7c9debab7"
      },
      "execution_count": 10,
      "outputs": [
        {
          "output_type": "stream",
          "name": "stdout",
          "text": [
            "+------+----------+----+\n",
            "|userid|      isbn|rate|\n",
            "+------+----------+----+\n",
            "|276725|034545104X|   0|\n",
            "|276726|0155061224|   5|\n",
            "|276727|0446520802|   0|\n",
            "|276729|052165615X|   3|\n",
            "|276729|0521795028|   6|\n",
            "|276733|2080674722|   0|\n",
            "|276736|3257224281|   8|\n",
            "|276737|0600570967|   6|\n",
            "|276744|038550120X|   7|\n",
            "|276745| 342310538|  10|\n",
            "|276746|0425115801|   0|\n",
            "|276746|0449006522|   0|\n",
            "|276746|0553561618|   0|\n",
            "|276746|055356451X|   0|\n",
            "|276746|0786013990|   0|\n",
            "|276746|0786014512|   0|\n",
            "|276747|0060517794|   9|\n",
            "|276747|0451192001|   0|\n",
            "|276747|0609801279|   0|\n",
            "|276747|0671537458|   9|\n",
            "+------+----------+----+\n",
            "only showing top 20 rows\n",
            "\n"
          ]
        }
      ]
    },
    {
      "cell_type": "code",
      "source": [
        "df1.printSchema()"
      ],
      "metadata": {
        "colab": {
          "base_uri": "https://localhost:8080/"
        },
        "id": "kNhUPkfAlD60",
        "outputId": "236603ac-b31b-48e5-f819-980a4989b02d"
      },
      "execution_count": 11,
      "outputs": [
        {
          "output_type": "stream",
          "name": "stdout",
          "text": [
            "root\n",
            " |-- userid: string (nullable = true)\n",
            " |-- isbn: string (nullable = true)\n",
            " |-- rate: string (nullable = true)\n",
            "\n"
          ]
        }
      ]
    },
    {
      "cell_type": "code",
      "source": [
        "df1=spark.read.options(sep=';',header=True,inferSchema=True).csv('Book-Ratings.csv')\n",
        "df1.printSchema()"
      ],
      "metadata": {
        "colab": {
          "base_uri": "https://localhost:8080/"
        },
        "id": "SD8vSGLQmN3T",
        "outputId": "8812637a-615c-4dd9-d824-f81cfe0d775e"
      },
      "execution_count": 12,
      "outputs": [
        {
          "output_type": "stream",
          "name": "stdout",
          "text": [
            "root\n",
            " |-- userid: integer (nullable = true)\n",
            " |-- isbn: string (nullable = true)\n",
            " |-- rate: integer (nullable = true)\n",
            "\n"
          ]
        }
      ]
    },
    {
      "cell_type": "code",
      "source": [
        "df1.filter('rate>5').show()"
      ],
      "metadata": {
        "colab": {
          "base_uri": "https://localhost:8080/"
        },
        "id": "h2oFLNnFmw_h",
        "outputId": "e191ccfc-1448-4356-9358-de928daec55e"
      },
      "execution_count": 13,
      "outputs": [
        {
          "output_type": "stream",
          "name": "stdout",
          "text": [
            "+------+----------+----+\n",
            "|userid|      isbn|rate|\n",
            "+------+----------+----+\n",
            "|276729|0521795028|   6|\n",
            "|276736|3257224281|   8|\n",
            "|276737|0600570967|   6|\n",
            "|276744|038550120X|   7|\n",
            "|276745| 342310538|  10|\n",
            "|276747|0060517794|   9|\n",
            "|276747|0671537458|   9|\n",
            "|276747|0679776818|   8|\n",
            "|276747|0943066433|   7|\n",
            "|276747|1885408226|   7|\n",
            "|276748|0747558167|   6|\n",
            "|276751|3596218098|   8|\n",
            "|276754|0684867621|   8|\n",
            "|276760|8440682697|  10|\n",
            "|276762|3453092007|   8|\n",
            "|276772|0553572369|   7|\n",
            "|276772|3499230933|  10|\n",
            "|276772|3596151465|  10|\n",
            "|276774|3442136644|   9|\n",
            "|276780|8484330478|   7|\n",
            "+------+----------+----+\n",
            "only showing top 20 rows\n",
            "\n"
          ]
        }
      ]
    },
    {
      "cell_type": "code",
      "source": [
        "df1.filter('rate>5').select('isbn').show()"
      ],
      "metadata": {
        "colab": {
          "base_uri": "https://localhost:8080/"
        },
        "id": "WH4Gjdcq8IFE",
        "outputId": "92821c16-1393-475e-8e70-1a16a3798ec7"
      },
      "execution_count": 14,
      "outputs": [
        {
          "output_type": "stream",
          "name": "stdout",
          "text": [
            "+----------+\n",
            "|      isbn|\n",
            "+----------+\n",
            "|0521795028|\n",
            "|3257224281|\n",
            "|0600570967|\n",
            "|038550120X|\n",
            "| 342310538|\n",
            "|0060517794|\n",
            "|0671537458|\n",
            "|0679776818|\n",
            "|0943066433|\n",
            "|1885408226|\n",
            "|0747558167|\n",
            "|3596218098|\n",
            "|0684867621|\n",
            "|8440682697|\n",
            "|3453092007|\n",
            "|0553572369|\n",
            "|3499230933|\n",
            "|3596151465|\n",
            "|3442136644|\n",
            "|8484330478|\n",
            "+----------+\n",
            "only showing top 20 rows\n",
            "\n"
          ]
        }
      ]
    },
    {
      "cell_type": "code",
      "source": [
        "df1.groupBy('isbn').avg('rate').show()"
      ],
      "metadata": {
        "colab": {
          "base_uri": "https://localhost:8080/"
        },
        "id": "c9M91KyF9LRT",
        "outputId": "47238696-e40c-4c22-9f4e-4b48665bc05e"
      },
      "execution_count": 15,
      "outputs": [
        {
          "output_type": "stream",
          "name": "stdout",
          "text": [
            "+----------+-----------------+\n",
            "|      isbn|        avg(rate)|\n",
            "+----------+-----------------+\n",
            "|2080674722|              0.0|\n",
            "|3499134004|              0.0|\n",
            "|3548603203|              4.8|\n",
            "|880781112X|              6.0|\n",
            "|0738205737|              5.0|\n",
            "|0749317256|              0.0|\n",
            "|0515131520|              2.0|\n",
            "|8471662531|              7.0|\n",
            "|0441005470|              0.0|\n",
            "|0739417096|8.666666666666666|\n",
            "|0767906373|              0.0|\n",
            "|0425087859|              0.0|\n",
            "|0553574566|              4.0|\n",
            "|0498024253|              3.5|\n",
            "|0395977894|              4.0|\n",
            "|0505522004|              7.0|\n",
            "|0425188787|2.823529411764706|\n",
            "|0515137111|3.142857142857143|\n",
            "|0767905385|4.622222222222222|\n",
            "|0553580906|           2.3125|\n",
            "+----------+-----------------+\n",
            "only showing top 20 rows\n",
            "\n"
          ]
        }
      ]
    },
    {
      "cell_type": "code",
      "source": [
        "df1.groupBy('isbn').count().show()"
      ],
      "metadata": {
        "colab": {
          "base_uri": "https://localhost:8080/"
        },
        "id": "j4AJCQlf-bAG",
        "outputId": "39c5c3c3-b5d0-40b1-98f0-2ac7ee5d3b14"
      },
      "execution_count": 16,
      "outputs": [
        {
          "output_type": "stream",
          "name": "stdout",
          "text": [
            "+----------+-----+\n",
            "|      isbn|count|\n",
            "+----------+-----+\n",
            "|2080674722|    1|\n",
            "|3499134004|    1|\n",
            "|3548603203|    5|\n",
            "|880781112X|    1|\n",
            "|0738205737|    1|\n",
            "|0749317256|    1|\n",
            "|0515131520|    3|\n",
            "|8471662531|    1|\n",
            "|0441005470|    1|\n",
            "|0739417096|    3|\n",
            "|0767906373|    2|\n",
            "|0425087859|    1|\n",
            "|0553574566|   11|\n",
            "|0498024253|    2|\n",
            "|0395977894|    5|\n",
            "|0505522004|    1|\n",
            "|0425188787|   17|\n",
            "|0515137111|   14|\n",
            "|0767905385|   45|\n",
            "|0553580906|   16|\n",
            "+----------+-----+\n",
            "only showing top 20 rows\n",
            "\n"
          ]
        }
      ]
    },
    {
      "cell_type": "code",
      "source": [
        "from pyspark.sql.functions import *"
      ],
      "metadata": {
        "id": "wOfWwj8N-7W_"
      },
      "execution_count": 17,
      "outputs": []
    },
    {
      "cell_type": "code",
      "source": [
        "df1.groupBy('isbn').agg(sum('rate'),count('rate'),avg('rate'),max('rate')).show()"
      ],
      "metadata": {
        "colab": {
          "base_uri": "https://localhost:8080/"
        },
        "id": "MQCgV0zqAGFD",
        "outputId": "206b2e13-14c3-444f-9577-c3febac6745d"
      },
      "execution_count": 18,
      "outputs": [
        {
          "output_type": "stream",
          "name": "stdout",
          "text": [
            "+----------+---------+-----------+-----------------+---------+\n",
            "|      isbn|sum(rate)|count(rate)|        avg(rate)|max(rate)|\n",
            "+----------+---------+-----------+-----------------+---------+\n",
            "|2080674722|        0|          1|              0.0|        0|\n",
            "|3499134004|        0|          1|              0.0|        0|\n",
            "|3548603203|       24|          5|              4.8|        9|\n",
            "|880781112X|        6|          1|              6.0|        6|\n",
            "|0738205737|        5|          1|              5.0|        5|\n",
            "|0749317256|        0|          1|              0.0|        0|\n",
            "|0515131520|        6|          3|              2.0|        6|\n",
            "|8471662531|        7|          1|              7.0|        7|\n",
            "|0441005470|        0|          1|              0.0|        0|\n",
            "|0739417096|       26|          3|8.666666666666666|       10|\n",
            "|0767906373|        0|          2|              0.0|        0|\n",
            "|0425087859|        0|          1|              0.0|        0|\n",
            "|0553574566|       44|         11|              4.0|       10|\n",
            "|0498024253|        7|          2|              3.5|        7|\n",
            "|0395977894|       20|          5|              4.0|       10|\n",
            "|0505522004|        7|          1|              7.0|        7|\n",
            "|0425188787|       48|         17|2.823529411764706|       10|\n",
            "|0515137111|       44|         14|3.142857142857143|       10|\n",
            "|0767905385|      208|         45|4.622222222222222|       10|\n",
            "|0553580906|       37|         16|           2.3125|        8|\n",
            "+----------+---------+-----------+-----------------+---------+\n",
            "only showing top 20 rows\n",
            "\n"
          ]
        }
      ]
    },
    {
      "cell_type": "code",
      "source": [
        "df1.groupBy('isbn').agg(sum('rate'),count('rate'),avg('rate'),max('rate')).printSchema()"
      ],
      "metadata": {
        "colab": {
          "base_uri": "https://localhost:8080/"
        },
        "id": "s5BLYb7rAgW5",
        "outputId": "171337fd-e320-4a94-fcd7-0676805c95b2"
      },
      "execution_count": 19,
      "outputs": [
        {
          "output_type": "stream",
          "name": "stdout",
          "text": [
            "root\n",
            " |-- isbn: string (nullable = true)\n",
            " |-- sum(rate): long (nullable = true)\n",
            " |-- count(rate): long (nullable = false)\n",
            " |-- avg(rate): double (nullable = true)\n",
            " |-- max(rate): integer (nullable = true)\n",
            "\n"
          ]
        }
      ]
    },
    {
      "cell_type": "code",
      "source": [
        "df3=df1.groupBy('isbn').agg(sum('rate').alias('sum'),count('rate').alias('countee'),avg('rate').alias('avge'),max('rate'))"
      ],
      "metadata": {
        "id": "ZgjBpewNCY3F"
      },
      "execution_count": 20,
      "outputs": []
    },
    {
      "cell_type": "code",
      "source": [
        "df3.filter('avge>3').show()"
      ],
      "metadata": {
        "colab": {
          "base_uri": "https://localhost:8080/"
        },
        "id": "UPdFCmDTCfJS",
        "outputId": "9b4b2057-37e0-496a-f4f4-c07cdeef8f99"
      },
      "execution_count": 21,
      "outputs": [
        {
          "output_type": "stream",
          "name": "stdout",
          "text": [
            "+----------+---+-------+------------------+---------+\n",
            "|      isbn|sum|countee|              avge|max(rate)|\n",
            "+----------+---+-------+------------------+---------+\n",
            "|3548603203| 24|      5|               4.8|        9|\n",
            "|880781112X|  6|      1|               6.0|        6|\n",
            "|0738205737|  5|      1|               5.0|        5|\n",
            "|8471662531|  7|      1|               7.0|        7|\n",
            "|0739417096| 26|      3| 8.666666666666666|       10|\n",
            "|0553574566| 44|     11|               4.0|       10|\n",
            "|0498024253|  7|      2|               3.5|        7|\n",
            "|0395977894| 20|      5|               4.0|       10|\n",
            "|0505522004|  7|      1|               7.0|        7|\n",
            "|0515137111| 44|     14| 3.142857142857143|       10|\n",
            "|0767905385|208|     45| 4.622222222222222|       10|\n",
            "|0060801115| 25|      6| 4.166666666666667|       10|\n",
            "|  19973/88|  6|      1|               6.0|        6|\n",
            "|0842329129|289|     77|3.7532467532467533|       10|\n",
            "|0425168948| 16|      5|               3.2|        9|\n",
            "|3423620005| 18|      3|               6.0|        9|\n",
            "|0174434642|  8|      1|               8.0|        8|\n",
            "|0446606723|  7|      1|               7.0|        7|\n",
            "|0553351702|  8|      2|               4.0|        8|\n",
            "|0099428385| 15|      4|              3.75|        8|\n",
            "+----------+---+-------+------------------+---------+\n",
            "only showing top 20 rows\n",
            "\n"
          ]
        }
      ]
    },
    {
      "cell_type": "code",
      "source": [
        "df3=df1.groupBy('isbn').agg(sum('rate').alias('sum'),count('rate').alias('countee'),avg('rate').alias('avge'),max('rate'))\n",
        "df3.filter('countee>200').filter('avge>4').show()"
      ],
      "metadata": {
        "colab": {
          "base_uri": "https://localhost:8080/"
        },
        "id": "1PPPndbvCfKo",
        "outputId": "8fad6249-4b2d-4d34-db80-33ce3e0a7946"
      },
      "execution_count": 22,
      "outputs": [
        {
          "output_type": "stream",
          "name": "stdout",
          "text": [
            "+----------+----+-------+------------------+---------+\n",
            "|      isbn| sum|countee|              avge|max(rate)|\n",
            "+----------+----+-------+------------------+---------+\n",
            "|0385504209|1034|    224| 4.616071428571429|       10|\n",
            "|0316666343|1491|    333|4.4774774774774775|       10|\n",
            "+----------+----+-------+------------------+---------+\n",
            "\n"
          ]
        }
      ]
    },
    {
      "cell_type": "code",
      "source": [
        "df1.groupBy('isbn').count().orderBy(col('count').desc()).show()\n",
        "\n"
      ],
      "metadata": {
        "colab": {
          "base_uri": "https://localhost:8080/"
        },
        "id": "0YKOLI7lCfPA",
        "outputId": "d70d8ee0-3393-428c-f537-2865a66c4a5a"
      },
      "execution_count": 23,
      "outputs": [
        {
          "output_type": "stream",
          "name": "stdout",
          "text": [
            "+----------+-----+\n",
            "|      isbn|count|\n",
            "+----------+-----+\n",
            "|0971880107|  612|\n",
            "|0316666343|  333|\n",
            "|0385504209|  224|\n",
            "|0060928336|  201|\n",
            "|0312195516|  188|\n",
            "|044023722X|  165|\n",
            "|0446672211|  155|\n",
            "|067976402X|  147|\n",
            "|0679781587|  146|\n",
            "|0375727345|  144|\n",
            "|059035342X|  140|\n",
            "|0440214041|  138|\n",
            "|0671027360|  138|\n",
            "|0316601950|  133|\n",
            "|0452282152|  132|\n",
            "|0142001740|  132|\n",
            "|044021145X|  132|\n",
            "|0060930535|  132|\n",
            "|0804106304|  131|\n",
            "|0345370775|  123|\n",
            "+----------+-----+\n",
            "only showing top 20 rows\n",
            "\n"
          ]
        }
      ]
    },
    {
      "cell_type": "code",
      "source": [
        "df3.orderBy(col('countee').desc()).show()\n"
      ],
      "metadata": {
        "colab": {
          "base_uri": "https://localhost:8080/"
        },
        "id": "T6kVocLTCfQJ",
        "outputId": "24994065-4547-409e-dacf-79c04de9a109"
      },
      "execution_count": 24,
      "outputs": [
        {
          "output_type": "stream",
          "name": "stdout",
          "text": [
            "+----------+----+-------+------------------+---------+\n",
            "|      isbn| sum|countee|              avge|max(rate)|\n",
            "+----------+----+-------+------------------+---------+\n",
            "|0971880107| 671|    612|  1.09640522875817|       10|\n",
            "|0316666343|1491|    333|4.4774774774774775|       10|\n",
            "|0385504209|1034|    224| 4.616071428571429|       10|\n",
            "|0060928336| 715|    201| 3.557213930348259|       10|\n",
            "|0312195516| 828|    188| 4.404255319148936|       10|\n",
            "|044023722X| 567|    165|3.4363636363636365|       10|\n",
            "|0446672211| 632|    155| 4.077419354838709|       10|\n",
            "|067976402X| 505|    147| 3.435374149659864|       10|\n",
            "|0679781587| 610|    146| 4.178082191780822|       10|\n",
            "|0375727345| 499|    144|3.4652777777777777|       10|\n",
            "|059035342X| 655|    140| 4.678571428571429|       10|\n",
            "|0671027360| 543|    138|3.9347826086956523|       10|\n",
            "|0440214041| 423|    138|3.0652173913043477|       10|\n",
            "|0316601950| 499|    133|3.7518796992481205|       10|\n",
            "|0060930535| 467|    132| 3.537878787878788|       10|\n",
            "|044021145X| 445|    132| 3.371212121212121|       10|\n",
            "|0452282152| 526|    132| 3.984848484848485|       10|\n",
            "|0142001740| 636|    132| 4.818181818181818|       10|\n",
            "|0804106304| 435|    131|3.3206106870229006|       10|\n",
            "|0345370775| 475|    123| 3.861788617886179|       10|\n",
            "+----------+----+-------+------------------+---------+\n",
            "only showing top 20 rows\n",
            "\n"
          ]
        }
      ]
    },
    {
      "cell_type": "code",
      "source": [
        "# مبحث بعدی\n",
        "df1.createOrReplaceTempView('my_rating')"
      ],
      "metadata": {
        "id": "zTaVkmOHCfVD"
      },
      "execution_count": 25,
      "outputs": []
    },
    {
      "cell_type": "code",
      "source": [
        "spark.sql('select * from my_rating where rate > 5').show()"
      ],
      "metadata": {
        "colab": {
          "base_uri": "https://localhost:8080/"
        },
        "id": "RidP6nUrR5FN",
        "outputId": "4811ee12-58d1-4473-ea67-8e65cf0839f2"
      },
      "execution_count": 26,
      "outputs": [
        {
          "output_type": "stream",
          "name": "stdout",
          "text": [
            "+------+----------+----+\n",
            "|userid|      isbn|rate|\n",
            "+------+----------+----+\n",
            "|276729|0521795028|   6|\n",
            "|276736|3257224281|   8|\n",
            "|276737|0600570967|   6|\n",
            "|276744|038550120X|   7|\n",
            "|276745| 342310538|  10|\n",
            "|276747|0060517794|   9|\n",
            "|276747|0671537458|   9|\n",
            "|276747|0679776818|   8|\n",
            "|276747|0943066433|   7|\n",
            "|276747|1885408226|   7|\n",
            "|276748|0747558167|   6|\n",
            "|276751|3596218098|   8|\n",
            "|276754|0684867621|   8|\n",
            "|276760|8440682697|  10|\n",
            "|276762|3453092007|   8|\n",
            "|276772|0553572369|   7|\n",
            "|276772|3499230933|  10|\n",
            "|276772|3596151465|  10|\n",
            "|276774|3442136644|   9|\n",
            "|276780|8484330478|   7|\n",
            "+------+----------+----+\n",
            "only showing top 20 rows\n",
            "\n"
          ]
        }
      ]
    },
    {
      "cell_type": "code",
      "source": [
        "spark.sql('select isbn, avg(rate) as AVG from my_rating group By isbn').show()"
      ],
      "metadata": {
        "colab": {
          "base_uri": "https://localhost:8080/"
        },
        "id": "WvBq_7LWSzdd",
        "outputId": "12a95346-648b-46db-b3e7-7a78f99e0cd9"
      },
      "execution_count": 27,
      "outputs": [
        {
          "output_type": "stream",
          "name": "stdout",
          "text": [
            "+----------+-----------------+\n",
            "|      isbn|              AVG|\n",
            "+----------+-----------------+\n",
            "|2080674722|              0.0|\n",
            "|3499134004|              0.0|\n",
            "|3548603203|              4.8|\n",
            "|880781112X|              6.0|\n",
            "|0738205737|              5.0|\n",
            "|0749317256|              0.0|\n",
            "|0515131520|              2.0|\n",
            "|8471662531|              7.0|\n",
            "|0441005470|              0.0|\n",
            "|0739417096|8.666666666666666|\n",
            "|0767906373|              0.0|\n",
            "|0425087859|              0.0|\n",
            "|0553574566|              4.0|\n",
            "|0498024253|              3.5|\n",
            "|0395977894|              4.0|\n",
            "|0505522004|              7.0|\n",
            "|0425188787|2.823529411764706|\n",
            "|0515137111|3.142857142857143|\n",
            "|0767905385|4.622222222222222|\n",
            "|0553580906|           2.3125|\n",
            "+----------+-----------------+\n",
            "only showing top 20 rows\n",
            "\n"
          ]
        }
      ]
    },
    {
      "cell_type": "code",
      "source": [
        "spark.sql('select isbn, avg(rate) as AVG from my_rating group By isbn ORDER BY AVG DESC').show()"
      ],
      "metadata": {
        "colab": {
          "base_uri": "https://localhost:8080/"
        },
        "id": "bBFnVXXaU-Lr",
        "outputId": "6caf7b7b-38ee-4811-cafd-a76675987f94"
      },
      "execution_count": 28,
      "outputs": [
        {
          "output_type": "stream",
          "name": "stdout",
          "text": [
            "+----------+----+\n",
            "|      isbn| AVG|\n",
            "+----------+----+\n",
            "|0385411197|10.0|\n",
            "|0552130214|10.0|\n",
            "|0316111678|10.0|\n",
            "|0965550117|10.0|\n",
            "|0316112321|10.0|\n",
            "|8428210373|10.0|\n",
            "|0965238385|10.0|\n",
            "|3442431468|10.0|\n",
            "|8401341671|10.0|\n",
            "|0310249716|10.0|\n",
            "|0865530017|10.0|\n",
            "|887644193X|10.0|\n",
            "|3895082848|10.0|\n",
            "|0753451948|10.0|\n",
            "|0451525353|10.0|\n",
            "|0809085178|10.0|\n",
            "|0471485527|10.0|\n",
            "|1569553602|10.0|\n",
            "|0395629497|10.0|\n",
            "|0875849059|10.0|\n",
            "+----------+----+\n",
            "only showing top 20 rows\n",
            "\n"
          ]
        }
      ]
    },
    {
      "cell_type": "code",
      "source": [
        "spark.sql('select isbn, avg(rate) as AVG from my_rating group By isbn ORDER BY AVG DESC').show()"
      ],
      "metadata": {
        "colab": {
          "base_uri": "https://localhost:8080/"
        },
        "id": "umUlNSX3WaIO",
        "outputId": "0c1b392a-9097-4909-8ef4-4c158dd4a2a3"
      },
      "execution_count": 29,
      "outputs": [
        {
          "output_type": "stream",
          "name": "stdout",
          "text": [
            "+-----------+----+\n",
            "|       isbn| AVG|\n",
            "+-----------+----+\n",
            "|07416811048|10.0|\n",
            "| 1886411999|10.0|\n",
            "| 080482052X|10.0|\n",
            "| 156987512X|10.0|\n",
            "| 0425105156|10.0|\n",
            "| 0688147208|10.0|\n",
            "|  006073941|10.0|\n",
            "| 1586851578|10.0|\n",
            "| 0525938508|10.0|\n",
            "| 0590066560|10.0|\n",
            "| 9707100567|10.0|\n",
            "| 0809423103|10.0|\n",
            "| 0859051595|10.0|\n",
            "| 1576903389|10.0|\n",
            "| 0803720963|10.0|\n",
            "|  006092833|10.0|\n",
            "| 0690041535|10.0|\n",
            "| 3190032947|10.0|\n",
            "| 0874774357|10.0|\n",
            "| 1897959206|10.0|\n",
            "+-----------+----+\n",
            "only showing top 20 rows\n",
            "\n"
          ]
        }
      ]
    },
    {
      "cell_type": "markdown",
      "source": [
        "## next\n",
        "### join"
      ],
      "metadata": {
        "id": "9waAwXYW1_H2"
      }
    },
    {
      "cell_type": "code",
      "source": [
        "rating_df=spark.read.options(sep=';',header=True,inferSchema=True).csv('Book-Ratings.csv')\n",
        "book_df=  spark.read.options(sep=';',header=True,inferSchema=True).csv('Books.csv')\n",
        "user_df=  spark.read.options(sep=';',header=True,inferSchema=True).csv('Users.csv')\n"
      ],
      "metadata": {
        "id": "0Fz6EtGo0K2j"
      },
      "execution_count": 30,
      "outputs": []
    },
    {
      "cell_type": "code",
      "source": [
        "rating_df.printSchema()"
      ],
      "metadata": {
        "colab": {
          "base_uri": "https://localhost:8080/"
        },
        "id": "D9Oa4ti12e7U",
        "outputId": "af765572-9c95-49ee-b4b9-6458b1b359c4"
      },
      "execution_count": 31,
      "outputs": [
        {
          "output_type": "stream",
          "name": "stdout",
          "text": [
            "root\n",
            " |-- userid: integer (nullable = true)\n",
            " |-- isbn: string (nullable = true)\n",
            " |-- rate: integer (nullable = true)\n",
            "\n"
          ]
        }
      ]
    },
    {
      "cell_type": "code",
      "source": [
        "book_df.printSchema()"
      ],
      "metadata": {
        "colab": {
          "base_uri": "https://localhost:8080/"
        },
        "id": "oUctXlXk2ns2",
        "outputId": "891576b5-02ad-4a1c-ba4b-58abb64eb085"
      },
      "execution_count": 32,
      "outputs": [
        {
          "output_type": "stream",
          "name": "stdout",
          "text": [
            "root\n",
            " |-- ISBN: string (nullable = true)\n",
            " |-- BookTitle: string (nullable = true)\n",
            " |-- BookAuthor: string (nullable = true)\n",
            " |-- YearOfPublication: integer (nullable = true)\n",
            " |-- Publisher: string (nullable = true)\n",
            " |-- ImageURLS: string (nullable = true)\n",
            " |-- ImageURLM: string (nullable = true)\n",
            " |-- ImageURLL: string (nullable = true)\n",
            "\n"
          ]
        }
      ]
    },
    {
      "cell_type": "code",
      "source": [
        "user_df.printSchema()"
      ],
      "metadata": {
        "colab": {
          "base_uri": "https://localhost:8080/"
        },
        "id": "r5nHuQ7I2zxj",
        "outputId": "e9ae72db-ae7f-4e4e-aaec-de3e4f8c1c4f"
      },
      "execution_count": 33,
      "outputs": [
        {
          "output_type": "stream",
          "name": "stdout",
          "text": [
            "root\n",
            " |-- UserID: integer (nullable = true)\n",
            " |-- USERNAME: string (nullable = true)\n",
            " |-- Location: string (nullable = true)\n",
            " |-- Age: string (nullable = true)\n",
            "\n"
          ]
        }
      ]
    },
    {
      "cell_type": "code",
      "source": [
        "rating_df.join(user_df).show()\n",
        "# the default is cross_join"
      ],
      "metadata": {
        "colab": {
          "base_uri": "https://localhost:8080/"
        },
        "id": "VSDfOX-F256p",
        "outputId": "0a832816-28ee-4683-9e1c-74682001382d"
      },
      "execution_count": 35,
      "outputs": [
        {
          "output_type": "stream",
          "name": "stdout",
          "text": [
            "+------+----------+----+------+-----------+--------------------+----+\n",
            "|userid|      isbn|rate|UserID|   USERNAME|            Location| Age|\n",
            "+------+----------+----+------+-----------+--------------------+----+\n",
            "|276725|034545104X|   0|     1|bzsufoRTLN2|  nyc, new york, usa|NULL|\n",
            "|276725|034545104X|   0|     2|fq7kfHg4VEI|stockton, califor...|  18|\n",
            "|276725|034545104X|   0|     3|W0Hbkd3xR8v|moscow, yukon ter...|NULL|\n",
            "|276725|034545104X|   0|     4|W51GahAx5Ap|porto, v.n.gaia, ...|  17|\n",
            "|276725|034545104X|   0|     5|VKN3PQ18GgN|farnborough, hant...|NULL|\n",
            "|276725|034545104X|   0|     6|h9BSgQZ5wOk|santa monica, cal...|  61|\n",
            "|276725|034545104X|   0|     7|7rdddpZpjWp| washington, dc, usa|NULL|\n",
            "|276725|034545104X|   0|     8|qiOJebWJS2i|timmins, ontario,...|NULL|\n",
            "|276725|034545104X|   0|     9|gkcxQJLS13A|germantown, tenne...|NULL|\n",
            "|276725|034545104X|   0|    10|BANPptNSbPy|albacete, wiscons...|  26|\n",
            "|276725|034545104X|   0|    11|X0ELjsCzJt0|melbourne, victor...|  14|\n",
            "|276725|034545104X|   0|    12|z4qLRN05PYT|fort bragg, calif...|NULL|\n",
            "|276725|034545104X|   0|    13|4YgtGJggfAx|barcelona, barcel...|  26|\n",
            "|276725|034545104X|   0|    14|FZW1MG3zLpo|mediapolis, iowa,...|NULL|\n",
            "|276725|034545104X|   0|    15|FHo7m8eHkPb|calgary, alberta,...|NULL|\n",
            "|276725|034545104X|   0|    16|HwLFQdzk30o|albuquerque, new ...|NULL|\n",
            "|276725|034545104X|   0|    17|dk15dEDpgbc|chesapeake, virgi...|NULL|\n",
            "|276725|034545104X|   0|    18|aNFnRPqjGL1|rio de janeiro, r...|  25|\n",
            "|276725|034545104X|   0|    19|hNw8CkHF2HO|           weston, ,|  14|\n",
            "|276725|034545104X|   0|    20|aDZu7b2Eitu|langhorne, pennsy...|  19|\n",
            "+------+----------+----+------+-----------+--------------------+----+\n",
            "only showing top 20 rows\n",
            "\n"
          ]
        }
      ]
    },
    {
      "cell_type": "code",
      "source": [
        "rating_df.join(user_df,rating_df['userid']==user_df['UserID']).show()\n",
        "# جوین با شرط"
      ],
      "metadata": {
        "colab": {
          "base_uri": "https://localhost:8080/"
        },
        "id": "vJpCOlh14DAX",
        "outputId": "758520ea-cd36-44a0-a7d2-7e1702ddb572"
      },
      "execution_count": 36,
      "outputs": [
        {
          "output_type": "stream",
          "name": "stdout",
          "text": [
            "+------+----------+----+------+-----------+--------------------+----+\n",
            "|userid|      isbn|rate|UserID|   USERNAME|            Location| Age|\n",
            "+------+----------+----+------+-----------+--------------------+----+\n",
            "|     2|0195153448|   0|     2|fq7kfHg4VEI|stockton, califor...|  18|\n",
            "|     7| 034542252|   0|     7|7rdddpZpjWp| washington, dc, usa|NULL|\n",
            "|     8|0002005018|   5|     8|qiOJebWJS2i|timmins, ontario,...|NULL|\n",
            "|     8|0060973129|   0|     8|qiOJebWJS2i|timmins, ontario,...|NULL|\n",
            "|     8|0374157065|   0|     8|qiOJebWJS2i|timmins, ontario,...|NULL|\n",
            "|     8|0393045218|   0|     8|qiOJebWJS2i|timmins, ontario,...|NULL|\n",
            "|     8|0399135782|   0|     8|qiOJebWJS2i|timmins, ontario,...|NULL|\n",
            "|     8|0425176428|   0|     8|qiOJebWJS2i|timmins, ontario,...|NULL|\n",
            "|     8|0671870432|   0|     8|qiOJebWJS2i|timmins, ontario,...|NULL|\n",
            "|     8|0679425608|   0|     8|qiOJebWJS2i|timmins, ontario,...|NULL|\n",
            "|     8|074322678X|   5|     8|qiOJebWJS2i|timmins, ontario,...|NULL|\n",
            "|     8|0771025661|   0|     8|qiOJebWJS2i|timmins, ontario,...|NULL|\n",
            "|     8|0771074670|   0|     8|qiOJebWJS2i|timmins, ontario,...|NULL|\n",
            "|     8|080652121X|   0|     8|qiOJebWJS2i|timmins, ontario,...|NULL|\n",
            "|     8|0887841740|   5|     8|qiOJebWJS2i|timmins, ontario,...|NULL|\n",
            "|     8|1552041778|   5|     8|qiOJebWJS2i|timmins, ontario,...|NULL|\n",
            "|     8|1558746218|   0|     8|qiOJebWJS2i|timmins, ontario,...|NULL|\n",
            "|     8|1567407781|   6|     8|qiOJebWJS2i|timmins, ontario,...|NULL|\n",
            "|     8|1575663937|   6|     8|qiOJebWJS2i|timmins, ontario,...|NULL|\n",
            "|     8|1881320189|   7|     8|qiOJebWJS2i|timmins, ontario,...|NULL|\n",
            "+------+----------+----+------+-----------+--------------------+----+\n",
            "only showing top 20 rows\n",
            "\n"
          ]
        }
      ]
    },
    {
      "cell_type": "code",
      "source": [
        "rating_df.join(user_df,rating_df['userid']==user_df['UserID']).show(truncate=False)\n"
      ],
      "metadata": {
        "colab": {
          "base_uri": "https://localhost:8080/"
        },
        "id": "oGunCNNq6bfj",
        "outputId": "5f255783-2092-459a-8265-035115c3c4cf"
      },
      "execution_count": 37,
      "outputs": [
        {
          "output_type": "stream",
          "name": "stdout",
          "text": [
            "+------+----------+----+------+-----------+-------------------------+----+\n",
            "|userid|isbn      |rate|UserID|USERNAME   |Location                 |Age |\n",
            "+------+----------+----+------+-----------+-------------------------+----+\n",
            "|2     |0195153448|0   |2     |fq7kfHg4VEI|stockton, california, usa|18  |\n",
            "|7     |034542252 |0   |7     |7rdddpZpjWp|washington, dc, usa      |NULL|\n",
            "|8     |0002005018|5   |8     |qiOJebWJS2i|timmins, ontario, canada |NULL|\n",
            "|8     |0060973129|0   |8     |qiOJebWJS2i|timmins, ontario, canada |NULL|\n",
            "|8     |0374157065|0   |8     |qiOJebWJS2i|timmins, ontario, canada |NULL|\n",
            "|8     |0393045218|0   |8     |qiOJebWJS2i|timmins, ontario, canada |NULL|\n",
            "|8     |0399135782|0   |8     |qiOJebWJS2i|timmins, ontario, canada |NULL|\n",
            "|8     |0425176428|0   |8     |qiOJebWJS2i|timmins, ontario, canada |NULL|\n",
            "|8     |0671870432|0   |8     |qiOJebWJS2i|timmins, ontario, canada |NULL|\n",
            "|8     |0679425608|0   |8     |qiOJebWJS2i|timmins, ontario, canada |NULL|\n",
            "|8     |074322678X|5   |8     |qiOJebWJS2i|timmins, ontario, canada |NULL|\n",
            "|8     |0771025661|0   |8     |qiOJebWJS2i|timmins, ontario, canada |NULL|\n",
            "|8     |0771074670|0   |8     |qiOJebWJS2i|timmins, ontario, canada |NULL|\n",
            "|8     |080652121X|0   |8     |qiOJebWJS2i|timmins, ontario, canada |NULL|\n",
            "|8     |0887841740|5   |8     |qiOJebWJS2i|timmins, ontario, canada |NULL|\n",
            "|8     |1552041778|5   |8     |qiOJebWJS2i|timmins, ontario, canada |NULL|\n",
            "|8     |1558746218|0   |8     |qiOJebWJS2i|timmins, ontario, canada |NULL|\n",
            "|8     |1567407781|6   |8     |qiOJebWJS2i|timmins, ontario, canada |NULL|\n",
            "|8     |1575663937|6   |8     |qiOJebWJS2i|timmins, ontario, canada |NULL|\n",
            "|8     |1881320189|7   |8     |qiOJebWJS2i|timmins, ontario, canada |NULL|\n",
            "+------+----------+----+------+-----------+-------------------------+----+\n",
            "only showing top 20 rows\n",
            "\n"
          ]
        }
      ]
    },
    {
      "cell_type": "code",
      "source": [],
      "metadata": {
        "id": "V1VOLbUI7k_B"
      },
      "execution_count": null,
      "outputs": []
    }
  ]
}