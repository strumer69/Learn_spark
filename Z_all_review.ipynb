{
  "nbformat": 4,
  "nbformat_minor": 0,
  "metadata": {
    "colab": {
      "provenance": [],
      "authorship_tag": "ABX9TyOmWE1j/Xh4yU3OjpqNCP2i",
      "include_colab_link": true
    },
    "kernelspec": {
      "name": "python3",
      "display_name": "Python 3"
    },
    "language_info": {
      "name": "python"
    }
  },
  "cells": [
    {
      "cell_type": "markdown",
      "metadata": {
        "id": "view-in-github",
        "colab_type": "text"
      },
      "source": [
        "<a href=\"https://colab.research.google.com/github/strumer69/Learn_spark/blob/main/Z_all_review.ipynb\" target=\"_parent\"><img src=\"https://colab.research.google.com/assets/colab-badge.svg\" alt=\"Open In Colab\"/></a>"
      ]
    },
    {
      "cell_type": "markdown",
      "source": [
        "# session 1 : \n",
        "## initialization"
      ],
      "metadata": {
        "id": "spZ8QJ6Y19lj"
      }
    },
    {
      "cell_type": "code",
      "execution_count": 1,
      "metadata": {
        "colab": {
          "base_uri": "https://localhost:8080/"
        },
        "id": "1PtinzUF0p3d",
        "outputId": "a4cd2e84-3401-4a1f-c07d-52bcff45d12d"
      },
      "outputs": [
        {
          "output_type": "stream",
          "name": "stdout",
          "text": [
            "Looking in indexes: https://pypi.org/simple, https://us-python.pkg.dev/colab-wheels/public/simple/\n",
            "Collecting pyspark\n",
            "  Downloading pyspark-3.3.2.tar.gz (281.4 MB)\n",
            "\u001b[2K     \u001b[90m━━━━━━━━━━━━━━━━━━━━━━━━━━━━━━━━━━━━━━━\u001b[0m \u001b[32m281.4/281.4 MB\u001b[0m \u001b[31m3.4 MB/s\u001b[0m eta \u001b[36m0:00:00\u001b[0m\n",
            "\u001b[?25h  Preparing metadata (setup.py) ... \u001b[?25l\u001b[?25hdone\n",
            "Collecting py4j==0.10.9.5\n",
            "  Downloading py4j-0.10.9.5-py2.py3-none-any.whl (199 kB)\n",
            "\u001b[2K     \u001b[90m━━━━━━━━━━━━━━━━━━━━━━━━━━━━━━━━━━━━━━\u001b[0m \u001b[32m199.7/199.7 KB\u001b[0m \u001b[31m21.0 MB/s\u001b[0m eta \u001b[36m0:00:00\u001b[0m\n",
            "\u001b[?25hBuilding wheels for collected packages: pyspark\n",
            "  Building wheel for pyspark (setup.py) ... \u001b[?25l\u001b[?25hdone\n",
            "  Created wheel for pyspark: filename=pyspark-3.3.2-py2.py3-none-any.whl size=281824025 sha256=804490a81246d19ccdcf617c77ee590364d245fbfd7199fdb8dc749c4a490096\n",
            "  Stored in directory: /root/.cache/pip/wheels/6c/e3/9b/0525ce8a69478916513509d43693511463c6468db0de237c86\n",
            "Successfully built pyspark\n",
            "Installing collected packages: py4j, pyspark\n",
            "Successfully installed py4j-0.10.9.5 pyspark-3.3.2\n"
          ]
        }
      ],
      "source": [
        "pip install pyspark"
      ]
    },
    {
      "cell_type": "code",
      "source": [
        "from pyspark.sql import SparkSession"
      ],
      "metadata": {
        "id": "PKw52iOx0szO"
      },
      "execution_count": 2,
      "outputs": []
    },
    {
      "cell_type": "code",
      "source": [
        "spark=SparkSession.builder.appName('emrooz').getOrCreate()"
      ],
      "metadata": {
        "id": "PcSmPXJC0xlR"
      },
      "execution_count": 4,
      "outputs": []
    },
    {
      "cell_type": "code",
      "source": [
        "spark"
      ],
      "metadata": {
        "colab": {
          "base_uri": "https://localhost:8080/",
          "height": 219
        },
        "id": "ZiFBSr7R05ku",
        "outputId": "ea05aeb2-37c5-4e1e-af2e-d0e75394be03"
      },
      "execution_count": 5,
      "outputs": [
        {
          "output_type": "execute_result",
          "data": {
            "text/plain": [
              "<pyspark.sql.session.SparkSession at 0x7f00cfab4cd0>"
            ],
            "text/html": [
              "\n",
              "            <div>\n",
              "                <p><b>SparkSession - in-memory</b></p>\n",
              "                \n",
              "        <div>\n",
              "            <p><b>SparkContext</b></p>\n",
              "\n",
              "            <p><a href=\"http://5855e0309b8d:4040\">Spark UI</a></p>\n",
              "\n",
              "            <dl>\n",
              "              <dt>Version</dt>\n",
              "                <dd><code>v3.3.2</code></dd>\n",
              "              <dt>Master</dt>\n",
              "                <dd><code>local[*]</code></dd>\n",
              "              <dt>AppName</dt>\n",
              "                <dd><code>emrooz</code></dd>\n",
              "            </dl>\n",
              "        </div>\n",
              "        \n",
              "            </div>\n",
              "        "
            ]
          },
          "metadata": {},
          "execution_count": 5
        }
      ]
    },
    {
      "cell_type": "code",
      "source": [
        "df_pyspark=spark.read.csv('file.csv')"
      ],
      "metadata": {
        "id": "7oICHODf066n"
      },
      "execution_count": 6,
      "outputs": []
    },
    {
      "cell_type": "code",
      "source": [
        "df_pyspark"
      ],
      "metadata": {
        "colab": {
          "base_uri": "https://localhost:8080/"
        },
        "id": "pEFeXSRM1LZj",
        "outputId": "83b4047e-4aa2-44e0-dd66-89003977a3e5"
      },
      "execution_count": 7,
      "outputs": [
        {
          "output_type": "execute_result",
          "data": {
            "text/plain": [
              "DataFrame[_c0: string, _c1: string]"
            ]
          },
          "metadata": {},
          "execution_count": 7
        }
      ]
    },
    {
      "cell_type": "code",
      "source": [
        "df_pyspark.show()"
      ],
      "metadata": {
        "colab": {
          "base_uri": "https://localhost:8080/"
        },
        "id": "11fL8YqV1PEM",
        "outputId": "844e5919-17ff-409a-d1cc-30358acad85a"
      },
      "execution_count": 8,
      "outputs": [
        {
          "output_type": "stream",
          "name": "stdout",
          "text": [
            "+-------+---+\n",
            "|    _c0|_c1|\n",
            "+-------+---+\n",
            "|   name|age|\n",
            "|    ali| 20|\n",
            "|   reza| 25|\n",
            "|shahram| 31|\n",
            "+-------+---+\n",
            "\n"
          ]
        }
      ]
    },
    {
      "cell_type": "code",
      "source": [
        "spark.read.option('header','true').csv('file.csv').show()\n"
      ],
      "metadata": {
        "colab": {
          "base_uri": "https://localhost:8080/"
        },
        "id": "tALuuM6z1STz",
        "outputId": "3da2326f-621a-40c5-8e10-6a147468ab17"
      },
      "execution_count": 9,
      "outputs": [
        {
          "output_type": "stream",
          "name": "stdout",
          "text": [
            "+-------+---+\n",
            "|   name|age|\n",
            "+-------+---+\n",
            "|    ali| 20|\n",
            "|   reza| 25|\n",
            "|shahram| 31|\n",
            "+-------+---+\n",
            "\n"
          ]
        }
      ]
    },
    {
      "cell_type": "code",
      "source": [
        "type(df_pyspark)"
      ],
      "metadata": {
        "colab": {
          "base_uri": "https://localhost:8080/"
        },
        "id": "YcZ0jGal1USH",
        "outputId": "8aa3c212-dcf8-4d47-8f75-0af2b82f6c80"
      },
      "execution_count": 11,
      "outputs": [
        {
          "output_type": "execute_result",
          "data": {
            "text/plain": [
              "pyspark.sql.dataframe.DataFrame"
            ]
          },
          "metadata": {},
          "execution_count": 11
        }
      ]
    },
    {
      "cell_type": "code",
      "source": [
        "df_pyspark.head(3)"
      ],
      "metadata": {
        "colab": {
          "base_uri": "https://localhost:8080/"
        },
        "id": "r_ft2pln1XfC",
        "outputId": "c477a115-1f72-4510-ca6d-877a7b1808b0"
      },
      "execution_count": 12,
      "outputs": [
        {
          "output_type": "execute_result",
          "data": {
            "text/plain": [
              "[Row(_c0='name', _c1='age'),\n",
              " Row(_c0='ali', _c1='20'),\n",
              " Row(_c0='reza', _c1='25')]"
            ]
          },
          "metadata": {},
          "execution_count": 12
        }
      ]
    },
    {
      "cell_type": "code",
      "source": [
        "df_pyspark.printSchema()"
      ],
      "metadata": {
        "colab": {
          "base_uri": "https://localhost:8080/"
        },
        "id": "aZohrKa81dKV",
        "outputId": "b86499d2-9518-490d-ea36-ae92d14d8485"
      },
      "execution_count": 13,
      "outputs": [
        {
          "output_type": "stream",
          "name": "stdout",
          "text": [
            "root\n",
            " |-- _c0: string (nullable = true)\n",
            " |-- _c1: string (nullable = true)\n",
            "\n"
          ]
        }
      ]
    },
    {
      "cell_type": "markdown",
      "source": [
        "# session 2:\n",
        "* Pyspark DataFrame\n",
        "* reading the data set\n",
        "* checking the Datatype of the Columns\n",
        "* Check Describe option similar to pandas\n",
        "* adding Columns\n",
        "* Dropping Columns\n",
        "* renaming columns\n",
        "* link:\n",
        "https://github.com/strumer69/Learn_spark/blob/main/B_practice%20.ipynb\n"
      ],
      "metadata": {
        "id": "YpJ4RW9913cJ"
      }
    },
    {
      "cell_type": "code",
      "source": [
        "# pip install pyspark\n",
        "#from pyspark.sql import SparkSession\n",
        "\n",
        "df_pyspark=spark.read.option('header','true').csv('file2.csv').show()\n"
      ],
      "metadata": {
        "id": "DYJkBCNt1m4U"
      },
      "execution_count": null,
      "outputs": []
    },
    {
      "cell_type": "code",
      "source": [
        "df_pyspark=spark.read.option('header','true').csv('file2.csv')\n"
      ],
      "metadata": {
        "id": "xKc3U6cU2-F3"
      },
      "execution_count": 14,
      "outputs": []
    },
    {
      "cell_type": "code",
      "source": [
        "df_pyspark.printSchema()\n"
      ],
      "metadata": {
        "colab": {
          "base_uri": "https://localhost:8080/"
        },
        "id": "w-0u4MHQ3EfI",
        "outputId": "36cbdd98-7280-40fc-dfba-bbb2a083b2ab"
      },
      "execution_count": 15,
      "outputs": [
        {
          "output_type": "stream",
          "name": "stdout",
          "text": [
            "root\n",
            " |-- name: string (nullable = true)\n",
            " |-- age: string (nullable = true)\n",
            " |-- experience: string (nullable = true)\n",
            "\n"
          ]
        }
      ]
    },
    {
      "cell_type": "code",
      "source": [
        "df_pyspark=spark.read.csv('file2.csv',header=True,inferSchema=True)\n",
        "df_pyspark.show()"
      ],
      "metadata": {
        "colab": {
          "base_uri": "https://localhost:8080/"
        },
        "id": "NWxmypQS3LlF",
        "outputId": "c20beb88-b6ba-45ea-83e7-a5077cc30d8f"
      },
      "execution_count": 16,
      "outputs": [
        {
          "output_type": "stream",
          "name": "stdout",
          "text": [
            "+-------+---+----------+\n",
            "|   name|age|experience|\n",
            "+-------+---+----------+\n",
            "|    ali| 20|         2|\n",
            "|   reza| 25|         5|\n",
            "|shahram| 32|         7|\n",
            "+-------+---+----------+\n",
            "\n"
          ]
        }
      ]
    },
    {
      "cell_type": "code",
      "source": [
        "type(df_pyspark)\n"
      ],
      "metadata": {
        "colab": {
          "base_uri": "https://localhost:8080/"
        },
        "id": "baTaz4cD3OxQ",
        "outputId": "ef76d44d-9800-457c-fdf0-3d80b694c42c"
      },
      "execution_count": 17,
      "outputs": [
        {
          "output_type": "execute_result",
          "data": {
            "text/plain": [
              "pyspark.sql.dataframe.DataFrame"
            ]
          },
          "metadata": {},
          "execution_count": 17
        }
      ]
    },
    {
      "cell_type": "code",
      "source": [
        "df_pyspark.select('Name','Experience').show()\n"
      ],
      "metadata": {
        "colab": {
          "base_uri": "https://localhost:8080/"
        },
        "id": "IFU_rEO-3QuI",
        "outputId": "5c8b2a78-3ad2-4ff0-a7dd-ea742fe2fb74"
      },
      "execution_count": 19,
      "outputs": [
        {
          "output_type": "stream",
          "name": "stdout",
          "text": [
            "+-------+----------+\n",
            "|   Name|Experience|\n",
            "+-------+----------+\n",
            "|    ali|         2|\n",
            "|   reza|         5|\n",
            "|shahram|         7|\n",
            "+-------+----------+\n",
            "\n"
          ]
        }
      ]
    },
    {
      "cell_type": "code",
      "source": [
        "df_pyspark.dtypes\n"
      ],
      "metadata": {
        "colab": {
          "base_uri": "https://localhost:8080/"
        },
        "id": "2og9H8wW3VOi",
        "outputId": "2bcdfc16-b3d7-408f-8a24-149cfd073985"
      },
      "execution_count": 20,
      "outputs": [
        {
          "output_type": "execute_result",
          "data": {
            "text/plain": [
              "[('name', 'string'), ('age', 'int'), ('experience', 'int')]"
            ]
          },
          "metadata": {},
          "execution_count": 20
        }
      ]
    },
    {
      "cell_type": "code",
      "source": [
        "df_pyspark.describe().show()\n"
      ],
      "metadata": {
        "colab": {
          "base_uri": "https://localhost:8080/"
        },
        "id": "6bfxCnIV3fPu",
        "outputId": "dd7d13b0-a953-4c17-d6a9-a8c1661a8d29"
      },
      "execution_count": 21,
      "outputs": [
        {
          "output_type": "stream",
          "name": "stdout",
          "text": [
            "+-------+-------+------------------+-----------------+\n",
            "|summary|   name|               age|       experience|\n",
            "+-------+-------+------------------+-----------------+\n",
            "|  count|      3|                 3|                3|\n",
            "|   mean|   null|25.666666666666668|4.666666666666667|\n",
            "| stddev|   null| 6.027713773341708|2.516611478423583|\n",
            "|    min|    ali|                20|                2|\n",
            "|    max|shahram|                32|                7|\n",
            "+-------+-------+------------------+-----------------+\n",
            "\n"
          ]
        }
      ]
    },
    {
      "cell_type": "code",
      "source": [
        "# add column\n",
        "new_data_frame=df_pyspark.withColumn('Exoerience-after_2_years',df_pyspark['Experience']+2).show()"
      ],
      "metadata": {
        "colab": {
          "base_uri": "https://localhost:8080/"
        },
        "id": "1Nr-Nfpv8acV",
        "outputId": "859a7bbd-8773-4e26-c6b1-6d3e721d5455"
      },
      "execution_count": 23,
      "outputs": [
        {
          "output_type": "stream",
          "name": "stdout",
          "text": [
            "+-------+---+----------+------------------------+\n",
            "|   name|age|experience|Exoerience-after_2_years|\n",
            "+-------+---+----------+------------------------+\n",
            "|    ali| 20|         2|                       4|\n",
            "|   reza| 25|         5|                       7|\n",
            "|shahram| 32|         7|                       9|\n",
            "+-------+---+----------+------------------------+\n",
            "\n"
          ]
        }
      ]
    },
    {
      "cell_type": "code",
      "source": [
        "df_pyspark.withColumnRenamed('name','new_name').show()"
      ],
      "metadata": {
        "colab": {
          "base_uri": "https://localhost:8080/"
        },
        "id": "T2wQHfCJ3ieh",
        "outputId": "ae2aeac9-e4ce-40be-cb22-6e8df814fd5d"
      },
      "execution_count": 24,
      "outputs": [
        {
          "output_type": "stream",
          "name": "stdout",
          "text": [
            "+--------+---+----------+\n",
            "|new_name|age|experience|\n",
            "+--------+---+----------+\n",
            "|     ali| 20|         2|\n",
            "|    reza| 25|         5|\n",
            "| shahram| 32|         7|\n",
            "+--------+---+----------+\n",
            "\n"
          ]
        }
      ]
    },
    {
      "cell_type": "markdown",
      "source": [
        "# session 3\n",
        "## missing values\n",
        "* link :\n",
        "* https://github.com/strumer69/Learn_spark/blob/main/C_missing_values.ipynb\n",
        "\n",
        "* Dropping Columns\n",
        "* Dropping Rows\n",
        "* Various Parameter In Dropping functionalities\n",
        "* Handling Missing values by Mean, MEdian And Mode"
      ],
      "metadata": {
        "id": "X-oxf8Ee9vhS"
      }
    },
    {
      "cell_type": "code",
      "source": [
        "# pip install pyspark\n",
        "#from pyspark.sql import SparkSession\n",
        "# spark=SparkSession.builder.appName('Practise').getOrCreate()"
      ],
      "metadata": {
        "id": "8rQMLBNe9tVn"
      },
      "execution_count": 25,
      "outputs": []
    },
    {
      "cell_type": "code",
      "source": [
        "df_pyspark=spark.read.csv('table.csv',header=True,inferSchema=True)\n"
      ],
      "metadata": {
        "id": "gpC28DZ1-NJB"
      },
      "execution_count": 26,
      "outputs": []
    },
    {
      "cell_type": "code",
      "source": [
        "df_pyspark.printSchema()\n"
      ],
      "metadata": {
        "colab": {
          "base_uri": "https://localhost:8080/"
        },
        "id": "iVHbnLaE-Xpp",
        "outputId": "0d082f76-c997-4d37-afcf-558cc8c6ee54"
      },
      "execution_count": 27,
      "outputs": [
        {
          "output_type": "stream",
          "name": "stdout",
          "text": [
            "root\n",
            " |-- Name: string (nullable = true)\n",
            " |-- age: integer (nullable = true)\n",
            " |-- Experience: integer (nullable = true)\n",
            " |-- Salary: integer (nullable = true)\n",
            "\n"
          ]
        }
      ]
    },
    {
      "cell_type": "code",
      "source": [
        "df_pyspark.show()\n"
      ],
      "metadata": {
        "colab": {
          "base_uri": "https://localhost:8080/"
        },
        "id": "ZVIESlY0-ZZ9",
        "outputId": "9c8b044a-2df0-4b21-f01d-dd0b7ce3545e"
      },
      "execution_count": 28,
      "outputs": [
        {
          "output_type": "stream",
          "name": "stdout",
          "text": [
            "+--------+----+----------+------+\n",
            "|    Name| age|Experience|Salary|\n",
            "+--------+----+----------+------+\n",
            "|     ali|  31|        10| 30000|\n",
            "|    reza|  30|         8| 25000|\n",
            "|  mammad|  29|         4| 20000|\n",
            "|   david|  24|         3| 20000|\n",
            "|  davood|  21|         1| 15000|\n",
            "| ebrahim|  23|         2| 18000|\n",
            "|abrahamo|null|      null| 40000|\n",
            "|    null|  34|        10| 38000|\n",
            "|    null|  36|      null|  null|\n",
            "+--------+----+----------+------+\n",
            "\n"
          ]
        }
      ]
    },
    {
      "cell_type": "code",
      "source": [
        "df_pyspark_miss_dar=df_pyspark.na.fill('missed')\n",
        "df_pyspark_miss_dar.show()"
      ],
      "metadata": {
        "colab": {
          "base_uri": "https://localhost:8080/"
        },
        "id": "YktISEf9-b0D",
        "outputId": "5aae2a33-909e-4f8b-8add-05b787ff9e76"
      },
      "execution_count": 29,
      "outputs": [
        {
          "output_type": "stream",
          "name": "stdout",
          "text": [
            "+--------+----+----------+------+\n",
            "|    Name| age|Experience|Salary|\n",
            "+--------+----+----------+------+\n",
            "|     ali|  31|        10| 30000|\n",
            "|    reza|  30|         8| 25000|\n",
            "|  mammad|  29|         4| 20000|\n",
            "|   david|  24|         3| 20000|\n",
            "|  davood|  21|         1| 15000|\n",
            "| ebrahim|  23|         2| 18000|\n",
            "|abrahamo|null|      null| 40000|\n",
            "|  missed|  34|        10| 38000|\n",
            "|  missed|  36|      null|  null|\n",
            "+--------+----+----------+------+\n",
            "\n"
          ]
        }
      ]
    },
    {
      "cell_type": "code",
      "source": [
        "df_pyspark.drop('Name').show()"
      ],
      "metadata": {
        "colab": {
          "base_uri": "https://localhost:8080/"
        },
        "id": "YeEx4F8_-sI1",
        "outputId": "2101c97e-6981-4b46-8cb0-9398bc3b8b3a"
      },
      "execution_count": 30,
      "outputs": [
        {
          "output_type": "stream",
          "name": "stdout",
          "text": [
            "+----+----------+------+\n",
            "| age|Experience|Salary|\n",
            "+----+----------+------+\n",
            "|  31|        10| 30000|\n",
            "|  30|         8| 25000|\n",
            "|  29|         4| 20000|\n",
            "|  24|         3| 20000|\n",
            "|  21|         1| 15000|\n",
            "|  23|         2| 18000|\n",
            "|null|      null| 40000|\n",
            "|  34|        10| 38000|\n",
            "|  36|      null|  null|\n",
            "+----+----------+------+\n",
            "\n"
          ]
        }
      ]
    },
    {
      "cell_type": "code",
      "source": [
        "df_pyspark.show()"
      ],
      "metadata": {
        "colab": {
          "base_uri": "https://localhost:8080/"
        },
        "id": "PZaNw45p_HL_",
        "outputId": "15a41c5e-b3bf-4262-a64d-4fea90c90bbb"
      },
      "execution_count": 31,
      "outputs": [
        {
          "output_type": "stream",
          "name": "stdout",
          "text": [
            "+--------+----+----------+------+\n",
            "|    Name| age|Experience|Salary|\n",
            "+--------+----+----------+------+\n",
            "|     ali|  31|        10| 30000|\n",
            "|    reza|  30|         8| 25000|\n",
            "|  mammad|  29|         4| 20000|\n",
            "|   david|  24|         3| 20000|\n",
            "|  davood|  21|         1| 15000|\n",
            "| ebrahim|  23|         2| 18000|\n",
            "|abrahamo|null|      null| 40000|\n",
            "|    null|  34|        10| 38000|\n",
            "|    null|  36|      null|  null|\n",
            "+--------+----+----------+------+\n",
            "\n"
          ]
        }
      ]
    },
    {
      "cell_type": "code",
      "source": [
        "df_pyspark.na.drop().show()"
      ],
      "metadata": {
        "colab": {
          "base_uri": "https://localhost:8080/"
        },
        "id": "XL2gi0HP_MxW",
        "outputId": "cd216547-14af-45cd-959d-34bc8a56c4be"
      },
      "execution_count": 32,
      "outputs": [
        {
          "output_type": "stream",
          "name": "stdout",
          "text": [
            "+-------+---+----------+------+\n",
            "|   Name|age|Experience|Salary|\n",
            "+-------+---+----------+------+\n",
            "|    ali| 31|        10| 30000|\n",
            "|   reza| 30|         8| 25000|\n",
            "| mammad| 29|         4| 20000|\n",
            "|  david| 24|         3| 20000|\n",
            "| davood| 21|         1| 15000|\n",
            "|ebrahim| 23|         2| 18000|\n",
            "+-------+---+----------+------+\n",
            "\n"
          ]
        }
      ]
    },
    {
      "cell_type": "code",
      "source": [
        "df_pyspark.na.drop(how='any').show()"
      ],
      "metadata": {
        "colab": {
          "base_uri": "https://localhost:8080/"
        },
        "id": "hlFr0DBc_STk",
        "outputId": "c33873b2-5e51-4a80-e35b-be33bd6eb7e9"
      },
      "execution_count": 33,
      "outputs": [
        {
          "output_type": "stream",
          "name": "stdout",
          "text": [
            "+-------+---+----------+------+\n",
            "|   Name|age|Experience|Salary|\n",
            "+-------+---+----------+------+\n",
            "|    ali| 31|        10| 30000|\n",
            "|   reza| 30|         8| 25000|\n",
            "| mammad| 29|         4| 20000|\n",
            "|  david| 24|         3| 20000|\n",
            "| davood| 21|         1| 15000|\n",
            "|ebrahim| 23|         2| 18000|\n",
            "+-------+---+----------+------+\n",
            "\n"
          ]
        }
      ]
    },
    {
      "cell_type": "code",
      "source": [
        "df_pyspark.na.drop(how='any',thresh=0).show()"
      ],
      "metadata": {
        "colab": {
          "base_uri": "https://localhost:8080/"
        },
        "id": "qBThXa1Y_cx-",
        "outputId": "fd22c2e8-a3d2-4129-9746-ef1ff92c1614"
      },
      "execution_count": 37,
      "outputs": [
        {
          "output_type": "stream",
          "name": "stdout",
          "text": [
            "+--------+----+----------+------+\n",
            "|    Name| age|Experience|Salary|\n",
            "+--------+----+----------+------+\n",
            "|     ali|  31|        10| 30000|\n",
            "|    reza|  30|         8| 25000|\n",
            "|  mammad|  29|         4| 20000|\n",
            "|   david|  24|         3| 20000|\n",
            "|  davood|  21|         1| 15000|\n",
            "| ebrahim|  23|         2| 18000|\n",
            "|abrahamo|null|      null| 40000|\n",
            "|    null|  34|        10| 38000|\n",
            "|    null|  36|      null|  null|\n",
            "+--------+----+----------+------+\n",
            "\n"
          ]
        }
      ]
    },
    {
      "cell_type": "code",
      "source": [
        "# ردیفی که  یک مورد صفر  یا کمتر داشته باشد، بماند \n",
        "\n",
        "df_pyspark.na.drop(how='any',thresh=1).show()"
      ],
      "metadata": {
        "colab": {
          "base_uri": "https://localhost:8080/"
        },
        "id": "M3pIp4xq_mQ3",
        "outputId": "6f86defe-3f28-45d4-8e5e-da12f3e87a0f"
      },
      "execution_count": 38,
      "outputs": [
        {
          "output_type": "stream",
          "name": "stdout",
          "text": [
            "+--------+----+----------+------+\n",
            "|    Name| age|Experience|Salary|\n",
            "+--------+----+----------+------+\n",
            "|     ali|  31|        10| 30000|\n",
            "|    reza|  30|         8| 25000|\n",
            "|  mammad|  29|         4| 20000|\n",
            "|   david|  24|         3| 20000|\n",
            "|  davood|  21|         1| 15000|\n",
            "| ebrahim|  23|         2| 18000|\n",
            "|abrahamo|null|      null| 40000|\n",
            "|    null|  34|        10| 38000|\n",
            "|    null|  36|      null|  null|\n",
            "+--------+----+----------+------+\n",
            "\n"
          ]
        }
      ]
    },
    {
      "cell_type": "code",
      "source": [
        "#  ردیفی که بیشتر از دو  صفر یا کمتر داشته باشد، بماند \n",
        "# مثلا ردیفی که سه مورد صفر داشته حذف شده است\n",
        "df_pyspark.na.drop(how='any',thresh=2).show()"
      ],
      "metadata": {
        "colab": {
          "base_uri": "https://localhost:8080/"
        },
        "id": "iYj69iPNAF1B",
        "outputId": "8c415725-5ee1-41ae-e452-9c5be8083b05"
      },
      "execution_count": 39,
      "outputs": [
        {
          "output_type": "stream",
          "name": "stdout",
          "text": [
            "+--------+----+----------+------+\n",
            "|    Name| age|Experience|Salary|\n",
            "+--------+----+----------+------+\n",
            "|     ali|  31|        10| 30000|\n",
            "|    reza|  30|         8| 25000|\n",
            "|  mammad|  29|         4| 20000|\n",
            "|   david|  24|         3| 20000|\n",
            "|  davood|  21|         1| 15000|\n",
            "| ebrahim|  23|         2| 18000|\n",
            "|abrahamo|null|      null| 40000|\n",
            "|    null|  34|        10| 38000|\n",
            "+--------+----+----------+------+\n",
            "\n"
          ]
        }
      ]
    },
    {
      "cell_type": "code",
      "source": [
        "##Subset-- delet nan values only from the subset column\n",
        "df_pyspark.na.drop(how=\"any\",subset=['Age']).show()"
      ],
      "metadata": {
        "colab": {
          "base_uri": "https://localhost:8080/"
        },
        "id": "mubaH6taALKI",
        "outputId": "250eb64b-a2f4-433f-ece6-5e0e8026a63f"
      },
      "execution_count": 40,
      "outputs": [
        {
          "output_type": "stream",
          "name": "stdout",
          "text": [
            "+-------+---+----------+------+\n",
            "|   Name|age|Experience|Salary|\n",
            "+-------+---+----------+------+\n",
            "|    ali| 31|        10| 30000|\n",
            "|   reza| 30|         8| 25000|\n",
            "| mammad| 29|         4| 20000|\n",
            "|  david| 24|         3| 20000|\n",
            "| davood| 21|         1| 15000|\n",
            "|ebrahim| 23|         2| 18000|\n",
            "|   null| 34|        10| 38000|\n",
            "|   null| 36|      null|  null|\n",
            "+-------+---+----------+------+\n",
            "\n"
          ]
        }
      ]
    },
    {
      "cell_type": "code",
      "source": [
        "df_pyspark_miss"
      ],
      "metadata": {
        "colab": {
          "base_uri": "https://localhost:8080/"
        },
        "id": "92JPsmKJFR9Z",
        "outputId": "a102b473-b93b-428a-ab05-d36e9becc51b"
      },
      "execution_count": 45,
      "outputs": [
        {
          "output_type": "execute_result",
          "data": {
            "text/plain": [
              "DataFrame[Name: string, age: int, Experience: int, Salary: int]"
            ]
          },
          "metadata": {},
          "execution_count": 45
        }
      ]
    },
    {
      "cell_type": "code",
      "source": [
        "# سوال: چرا جایگذاری نمی شود\n",
        "df_pyspark_miss=df_pyspark.na.fill('Missed',['Experience','age'])\n",
        "df_pyspark_miss.show()"
      ],
      "metadata": {
        "colab": {
          "base_uri": "https://localhost:8080/"
        },
        "id": "mDD_QRPZBHVb",
        "outputId": "4b70011c-1949-47b9-ed33-d47da4e673e2"
      },
      "execution_count": 44,
      "outputs": [
        {
          "output_type": "stream",
          "name": "stdout",
          "text": [
            "+--------+----+----------+------+\n",
            "|    Name| age|Experience|Salary|\n",
            "+--------+----+----------+------+\n",
            "|     ali|  31|        10| 30000|\n",
            "|    reza|  30|         8| 25000|\n",
            "|  mammad|  29|         4| 20000|\n",
            "|   david|  24|         3| 20000|\n",
            "|  davood|  21|         1| 15000|\n",
            "| ebrahim|  23|         2| 18000|\n",
            "|abrahamo|null|      null| 40000|\n",
            "|    null|  34|        10| 38000|\n",
            "|    null|  36|      null|  null|\n",
            "+--------+----+----------+------+\n",
            "\n"
          ]
        }
      ]
    },
    {
      "cell_type": "code",
      "source": [
        "type(df_pyspark)"
      ],
      "metadata": {
        "colab": {
          "base_uri": "https://localhost:8080/"
        },
        "id": "qx3z5GbyGVL2",
        "outputId": "0d5637d9-a660-4e53-9e04-2a5542e64d90"
      },
      "execution_count": 49,
      "outputs": [
        {
          "output_type": "execute_result",
          "data": {
            "text/plain": [
              "pyspark.sql.dataframe.DataFrame"
            ]
          },
          "metadata": {},
          "execution_count": 49
        }
      ]
    },
    {
      "cell_type": "code",
      "source": [
        "df_pyspark.na.fill('Missing Values',['Experience','age']).show()\n"
      ],
      "metadata": {
        "colab": {
          "base_uri": "https://localhost:8080/"
        },
        "id": "VdS08bxuBu_r",
        "outputId": "4e59fc48-fae7-40e5-981e-692b68007533"
      },
      "execution_count": 41,
      "outputs": [
        {
          "output_type": "stream",
          "name": "stdout",
          "text": [
            "+--------+----+----------+------+\n",
            "|    Name| age|Experience|Salary|\n",
            "+--------+----+----------+------+\n",
            "|     ali|  31|        10| 30000|\n",
            "|    reza|  30|         8| 25000|\n",
            "|  mammad|  29|         4| 20000|\n",
            "|   david|  24|         3| 20000|\n",
            "|  davood|  21|         1| 15000|\n",
            "| ebrahim|  23|         2| 18000|\n",
            "|abrahamo|null|      null| 40000|\n",
            "|    null|  34|        10| 38000|\n",
            "|    null|  36|      null|  null|\n",
            "+--------+----+----------+------+\n",
            "\n"
          ]
        }
      ]
    },
    {
      "cell_type": "code",
      "source": [
        "df_pyspark.show()"
      ],
      "metadata": {
        "colab": {
          "base_uri": "https://localhost:8080/"
        },
        "id": "KwvzZqTuByY8",
        "outputId": "4b64d3a3-4d6d-45c8-b21b-58c812b8f342"
      },
      "execution_count": 42,
      "outputs": [
        {
          "output_type": "stream",
          "name": "stdout",
          "text": [
            "+--------+----+----------+------+\n",
            "|    Name| age|Experience|Salary|\n",
            "+--------+----+----------+------+\n",
            "|     ali|  31|        10| 30000|\n",
            "|    reza|  30|         8| 25000|\n",
            "|  mammad|  29|         4| 20000|\n",
            "|   david|  24|         3| 20000|\n",
            "|  davood|  21|         1| 15000|\n",
            "| ebrahim|  23|         2| 18000|\n",
            "|abrahamo|null|      null| 40000|\n",
            "|    null|  34|        10| 38000|\n",
            "|    null|  36|      null|  null|\n",
            "+--------+----+----------+------+\n",
            "\n"
          ]
        }
      ]
    },
    {
      "cell_type": "code",
      "source": [
        "import numpy as np\n",
        "from pyspark.sql import SparkSession\n",
        "spark = SparkSession.builder.appName('SparkByExamples.com').getOrCreate()\n",
        "data = [\n",
        "    (\"James\",\"CA\",np.NaN), (\"Julia\",\"\",None),\n",
        "    (\"Ram\",None,200.0), (\"Ramya\",\"NULL\",np.NAN)\n",
        "]\n",
        "df =spark.createDataFrame(data,[\"name\",\"state\",\"number\"])\n",
        "df.show()\n",
        "\n",
        "\n"
      ],
      "metadata": {
        "colab": {
          "base_uri": "https://localhost:8080/"
        },
        "id": "IEG8lRYvB4QP",
        "outputId": "b3d8076d-c193-4ee4-9400-1d26c682c0a5"
      },
      "execution_count": 46,
      "outputs": [
        {
          "output_type": "stream",
          "name": "stdout",
          "text": [
            "+-----+-----+------+\n",
            "| name|state|number|\n",
            "+-----+-----+------+\n",
            "|James|   CA|   NaN|\n",
            "|Julia|     |  null|\n",
            "|  Ram| null| 200.0|\n",
            "|Ramya| NULL|   NaN|\n",
            "+-----+-----+------+\n",
            "\n"
          ]
        }
      ]
    },
    {
      "cell_type": "code",
      "source": [
        "type(df)"
      ],
      "metadata": {
        "colab": {
          "base_uri": "https://localhost:8080/"
        },
        "id": "rIuZdUE0GBiB",
        "outputId": "f846e74d-f26f-421c-e978-9a50f9107a89"
      },
      "execution_count": 47,
      "outputs": [
        {
          "output_type": "execute_result",
          "data": {
            "text/plain": [
              "pyspark.sql.dataframe.DataFrame"
            ]
          },
          "metadata": {},
          "execution_count": 47
        }
      ]
    },
    {
      "cell_type": "code",
      "source": [
        "df.na.fill('Missing Values',['state','number']).show()\n"
      ],
      "metadata": {
        "colab": {
          "base_uri": "https://localhost:8080/"
        },
        "id": "XN4rMWZwFtFs",
        "outputId": "c3e6a2a4-7560-4533-80cb-def3322a1573"
      },
      "execution_count": 48,
      "outputs": [
        {
          "output_type": "stream",
          "name": "stdout",
          "text": [
            "+-----+--------------+------+\n",
            "| name|         state|number|\n",
            "+-----+--------------+------+\n",
            "|James|            CA|   NaN|\n",
            "|Julia|              |  null|\n",
            "|  Ram|Missing Values| 200.0|\n",
            "|Ramya|          NULL|   NaN|\n",
            "+-----+--------------+------+\n",
            "\n"
          ]
        }
      ]
    },
    {
      "cell_type": "code",
      "source": [
        "# like the same in Sklearn library\n",
        "from pyspark.ml.feature import Imputer"
      ],
      "metadata": {
        "id": "mTJztY-tGIU1"
      },
      "execution_count": 50,
      "outputs": []
    },
    {
      "cell_type": "code",
      "source": [
        "imputer=Imputer(\n",
        "    inputCols=['age','Experience','Salary'],\n",
        "    outputCols=['{}_imputed'.format(c) for c in ['age', 'Experience', 'Salary']]  ).setStrategy(\"median\")\n"
      ],
      "metadata": {
        "id": "EVYqj_D3IAAX"
      },
      "execution_count": 51,
      "outputs": []
    },
    {
      "cell_type": "code",
      "source": [
        "# Add imputation cols to df\n",
        "imputer.fit(df_pyspark).transform(df_pyspark).show()"
      ],
      "metadata": {
        "colab": {
          "base_uri": "https://localhost:8080/"
        },
        "id": "wtzqifmiIkjt",
        "outputId": "0d9cee9f-b39f-414b-d263-67b3130b525c"
      },
      "execution_count": 52,
      "outputs": [
        {
          "output_type": "stream",
          "name": "stdout",
          "text": [
            "+--------+----+----------+------+-----------+------------------+--------------+\n",
            "|    Name| age|Experience|Salary|age_imputed|Experience_imputed|Salary_imputed|\n",
            "+--------+----+----------+------+-----------+------------------+--------------+\n",
            "|     ali|  31|        10| 30000|         31|                10|         30000|\n",
            "|    reza|  30|         8| 25000|         30|                 8|         25000|\n",
            "|  mammad|  29|         4| 20000|         29|                 4|         20000|\n",
            "|   david|  24|         3| 20000|         24|                 3|         20000|\n",
            "|  davood|  21|         1| 15000|         21|                 1|         15000|\n",
            "| ebrahim|  23|         2| 18000|         23|                 2|         18000|\n",
            "|abrahamo|null|      null| 40000|         29|                 4|         40000|\n",
            "|    null|  34|        10| 38000|         34|                10|         38000|\n",
            "|    null|  36|      null|  null|         36|                 4|         20000|\n",
            "+--------+----+----------+------+-----------+------------------+--------------+\n",
            "\n"
          ]
        }
      ]
    },
    {
      "cell_type": "markdown",
      "source": [
        "# session 4\n",
        "## filters\n",
        "* link\n",
        "* https://github.com/strumer69/Learn_spark/blob/main/D_Filter_Operations.ipynb"
      ],
      "metadata": {
        "id": "5pJ9cjWkI9X4"
      }
    },
    {
      "cell_type": "code",
      "source": [
        "#pip install pyspark\n",
        "#from pyspark.sql import SparkSession\n",
        "#spark=SparkSession.builder.appName('dataframe').getOrCreate()\n",
        "df_pyspark=spark.read.csv('salary.csv',header=True,inferSchema=True)\n",
        "df_pyspark.show()\n",
        "\n"
      ],
      "metadata": {
        "colab": {
          "base_uri": "https://localhost:8080/"
        },
        "id": "DZMxHQWnIrnb",
        "outputId": "31ddc0a1-5bd5-4f1b-d37e-9213ec618243"
      },
      "execution_count": 53,
      "outputs": [
        {
          "output_type": "stream",
          "name": "stdout",
          "text": [
            "+-------+---+----------+------+\n",
            "|   Name|age|Experience|Salary|\n",
            "+-------+---+----------+------+\n",
            "|    ali| 31|        10| 30000|\n",
            "|   reza| 30|         8| 25000|\n",
            "| mammad| 29|         4| 20000|\n",
            "|  rasul| 24|         3| 20000|\n",
            "|srashel| 21|         1| 15000|\n",
            "|   tomy| 23|         2| 18000|\n",
            "+-------+---+----------+------+\n",
            "\n"
          ]
        }
      ]
    },
    {
      "cell_type": "code",
      "source": [
        "### Salary of the people less than or equal to 20000\n",
        "df_pyspark.filter('Salary<=20000').show()"
      ],
      "metadata": {
        "colab": {
          "base_uri": "https://localhost:8080/"
        },
        "id": "duh5BeeBJVUQ",
        "outputId": "1d305185-deff-4e84-958d-4867fdbae03d"
      },
      "execution_count": 54,
      "outputs": [
        {
          "output_type": "stream",
          "name": "stdout",
          "text": [
            "+-------+---+----------+------+\n",
            "|   Name|age|Experience|Salary|\n",
            "+-------+---+----------+------+\n",
            "| mammad| 29|         4| 20000|\n",
            "|  rasul| 24|         3| 20000|\n",
            "|srashel| 21|         1| 15000|\n",
            "|   tomy| 23|         2| 18000|\n",
            "+-------+---+----------+------+\n",
            "\n"
          ]
        }
      ]
    },
    {
      "cell_type": "code",
      "source": [
        "# فیلتر افرادی که در آمد کمتر مساوی بیست هزار دارند.\n",
        "# در خروجی فقط نام و سن به ما نمایش داده شود\n",
        "df_pyspark.filter('Salary<=20000').select(['Name','age']).show()"
      ],
      "metadata": {
        "colab": {
          "base_uri": "https://localhost:8080/"
        },
        "id": "Vm5VeLs-Jicr",
        "outputId": "bb06ed33-3353-492f-a6a5-575df9a9d2aa"
      },
      "execution_count": 58,
      "outputs": [
        {
          "output_type": "stream",
          "name": "stdout",
          "text": [
            "+-------+---+\n",
            "|   Name|age|\n",
            "+-------+---+\n",
            "| mammad| 29|\n",
            "|  rasul| 24|\n",
            "|srashel| 21|\n",
            "|   tomy| 23|\n",
            "+-------+---+\n",
            "\n"
          ]
        }
      ]
    },
    {
      "cell_type": "code",
      "source": [],
      "metadata": {
        "id": "RLhXp5GzKcgj"
      },
      "execution_count": null,
      "outputs": []
    },
    {
      "cell_type": "code",
      "source": [
        "# استفاده از عملگر شرطی اُر :)\n",
        "df_pyspark.filter((df_pyspark['Salary']<=20000) | \n",
        "                  (df_pyspark['Salary']>=15000)).show()"
      ],
      "metadata": {
        "colab": {
          "base_uri": "https://localhost:8080/"
        },
        "id": "LndLpX0ZJyxI",
        "outputId": "44568ec8-5042-426f-dc50-197ab08d411e"
      },
      "execution_count": 59,
      "outputs": [
        {
          "output_type": "stream",
          "name": "stdout",
          "text": [
            "+-------+---+----------+------+\n",
            "|   Name|age|Experience|Salary|\n",
            "+-------+---+----------+------+\n",
            "|    ali| 31|        10| 30000|\n",
            "|   reza| 30|         8| 25000|\n",
            "| mammad| 29|         4| 20000|\n",
            "|  rasul| 24|         3| 20000|\n",
            "|srashel| 21|         1| 15000|\n",
            "|   tomy| 23|         2| 18000|\n",
            "+-------+---+----------+------+\n",
            "\n"
          ]
        }
      ]
    },
    {
      "cell_type": "code",
      "source": [
        "# inverse condition\n",
        "# عملگر نقیض\n",
        "df_pyspark.filter(~(df_pyspark['Salary']<=20000)).show()"
      ],
      "metadata": {
        "colab": {
          "base_uri": "https://localhost:8080/"
        },
        "id": "hmqDwN55KZsz",
        "outputId": "c5bd6bf4-dd1e-44f5-f2d5-ea75c88ce93e"
      },
      "execution_count": 60,
      "outputs": [
        {
          "output_type": "stream",
          "name": "stdout",
          "text": [
            "+----+---+----------+------+\n",
            "|Name|age|Experience|Salary|\n",
            "+----+---+----------+------+\n",
            "| ali| 31|        10| 30000|\n",
            "|reza| 30|         8| 25000|\n",
            "+----+---+----------+------+\n",
            "\n"
          ]
        }
      ]
    },
    {
      "cell_type": "markdown",
      "source": [
        "# Session 5\n",
        "## GroupBy - Aggregate\n",
        "* link:\n",
        "* https://github.com/strumer69/Learn_spark/blob/main/E_groupBy_aggregate.ipynb"
      ],
      "metadata": {
        "id": "ikyOKqMbKhlD"
      }
    },
    {
      "cell_type": "code",
      "source": [
        "# pip install pyspark\n",
        "# from pyspark.sql import SparkSession\n",
        "# spark=SparkSession.builder.appName('GroupByPractice').getOrCreate()\n",
        "dfspark=spark.read.csv('salary_2.csv',header=True,inferSchema=True)\n"
      ],
      "metadata": {
        "id": "CplQ86zyKfHW"
      },
      "execution_count": 62,
      "outputs": []
    },
    {
      "cell_type": "code",
      "source": [
        "dfspark.show()\n"
      ],
      "metadata": {
        "colab": {
          "base_uri": "https://localhost:8080/"
        },
        "id": "7_dBdV9rLBvE",
        "outputId": "fc956ede-12e6-41fc-fd1c-a1c632d39864"
      },
      "execution_count": 63,
      "outputs": [
        {
          "output_type": "stream",
          "name": "stdout",
          "text": [
            "+----+------------+------+\n",
            "|Name| Departments|salary|\n",
            "+----+------------+------+\n",
            "| ali|Data Science| 10000|\n",
            "| ali|         IOT|  5000|\n",
            "| ali|    Big Data|  4000|\n",
            "|reza|    Big Data|  4000|\n",
            "|reza|Data Science|  3000|\n",
            "|reza|Data Science| 20000|\n",
            "|mahi|         IOT| 10000|\n",
            "|mahi|    Big Data|  5000|\n",
            "|mahi|Data Science| 10000|\n",
            "|mahi|    Big Data|  2000|\n",
            "+----+------------+------+\n",
            "\n"
          ]
        }
      ]
    },
    {
      "cell_type": "code",
      "source": [
        "# جمع دریافتی علی از شرکتهای مختلف چقدر است؟\n",
        "dfspark.groupBy('Name').sum().show()\n"
      ],
      "metadata": {
        "colab": {
          "base_uri": "https://localhost:8080/"
        },
        "id": "4mokXNlrLChv",
        "outputId": "f53833cd-e41c-4d7b-9cd0-c1f33197431e"
      },
      "execution_count": 65,
      "outputs": [
        {
          "output_type": "stream",
          "name": "stdout",
          "text": [
            "+----+-----------+\n",
            "|Name|sum(salary)|\n",
            "+----+-----------+\n",
            "| ali|      19000|\n",
            "|mahi|      27000|\n",
            "|reza|      27000|\n",
            "+----+-----------+\n",
            "\n"
          ]
        }
      ]
    },
    {
      "cell_type": "code",
      "source": [
        "# میانگین دریافتی نفرات از شرکتهای مختلف چقدر است؟\n",
        "dfspark.groupBy('Name').avg().show()\n"
      ],
      "metadata": {
        "colab": {
          "base_uri": "https://localhost:8080/"
        },
        "id": "SKIXZQ2JLPkB",
        "outputId": "048d93ba-2b1e-4d33-8fcc-00f76a63479b"
      },
      "execution_count": 66,
      "outputs": [
        {
          "output_type": "stream",
          "name": "stdout",
          "text": [
            "+----+-----------------+\n",
            "|Name|      avg(salary)|\n",
            "+----+-----------------+\n",
            "| ali|6333.333333333333|\n",
            "|mahi|           6750.0|\n",
            "|reza|           9000.0|\n",
            "+----+-----------------+\n",
            "\n"
          ]
        }
      ]
    },
    {
      "cell_type": "code",
      "source": [
        "#count frequency of departments\n",
        "# به تفکیک بگویید هر دپارتمان چند بار تکرار شده است؟\n",
        "dfspark.groupBy('Departments').count().show()\n"
      ],
      "metadata": {
        "colab": {
          "base_uri": "https://localhost:8080/"
        },
        "id": "YAX4SaHOLKL4",
        "outputId": "bcbdc5df-3f94-474b-e83d-cf09358773b5"
      },
      "execution_count": 67,
      "outputs": [
        {
          "output_type": "stream",
          "name": "stdout",
          "text": [
            "+------------+-----+\n",
            "| Departments|count|\n",
            "+------------+-----+\n",
            "|         IOT|    2|\n",
            "|    Big Data|    4|\n",
            "|Data Science|    4|\n",
            "+------------+-----+\n",
            "\n"
          ]
        }
      ]
    },
    {
      "cell_type": "code",
      "source": [
        "# مجموع پرداختی هر سازمان چقدر است؟\n",
        "dfspark.groupBy('Departments').sum().show()"
      ],
      "metadata": {
        "colab": {
          "base_uri": "https://localhost:8080/"
        },
        "id": "b7eaicqJLjoY",
        "outputId": "97f3075e-e05b-4408-e2d7-27aff83c73f5"
      },
      "execution_count": 68,
      "outputs": [
        {
          "output_type": "stream",
          "name": "stdout",
          "text": [
            "+------------+-----------+\n",
            "| Departments|sum(salary)|\n",
            "+------------+-----------+\n",
            "|         IOT|      15000|\n",
            "|    Big Data|      15000|\n",
            "|Data Science|      43000|\n",
            "+------------+-----------+\n",
            "\n"
          ]
        }
      ]
    },
    {
      "cell_type": "code",
      "source": [
        "# جمع پرداختی سازمان ها باهم دیگر چقدر است؟\n",
        "dfspark.agg({'Salary':'sum'}).show()"
      ],
      "metadata": {
        "colab": {
          "base_uri": "https://localhost:8080/"
        },
        "id": "PIEVVJ2xL3Rm",
        "outputId": "2867db96-ef69-4355-c758-fc6be48d0bb7"
      },
      "execution_count": 69,
      "outputs": [
        {
          "output_type": "stream",
          "name": "stdout",
          "text": [
            "+-----------+\n",
            "|sum(Salary)|\n",
            "+-----------+\n",
            "|      73000|\n",
            "+-----------+\n",
            "\n"
          ]
        }
      ]
    },
    {
      "cell_type": "markdown",
      "source": [
        "# session 6\n",
        "## machine learning in spark\n",
        "* link: \n",
        "* https://github.com/strumer69/Learn_spark/blob/main/F_spark_Mlib.ipynb\n",
        "\n"
      ],
      "metadata": {
        "id": "8hvuujHdMRUC"
      }
    },
    {
      "cell_type": "code",
      "source": [
        "#  pip install pyspark\n",
        "# from pyspark.sql import SparkSession\n",
        "# spark=SparkSession.builder.appName('Missing').getOrCreate()"
      ],
      "metadata": {
        "id": "dlPGvnQpMH6J"
      },
      "execution_count": 70,
      "outputs": []
    },
    {
      "cell_type": "code",
      "source": [
        "#\n",
        "training = spark.read.csv('test1_data.csv',header=True,inferSchema=True)\n",
        "training.show()\n",
        "\n"
      ],
      "metadata": {
        "colab": {
          "base_uri": "https://localhost:8080/"
        },
        "id": "IgHFPcPFMjRg",
        "outputId": "e8925645-2246-4392-883a-16960cf039cf"
      },
      "execution_count": 73,
      "outputs": [
        {
          "output_type": "stream",
          "name": "stdout",
          "text": [
            "+--------+---+----------+------+\n",
            "|    Name|age|Experience|Salary|\n",
            "+--------+---+----------+------+\n",
            "|     ali| 31|        10| 30000|\n",
            "|    reza| 30|         8| 25000|\n",
            "|   akbar| 29|         4| 20000|\n",
            "|pedramoo| 24|         3| 20000|\n",
            "| hasanoo| 21|         1| 15000|\n",
            "|    kami| 23|         2| 18000|\n",
            "+--------+---+----------+------+\n",
            "\n"
          ]
        }
      ]
    },
    {
      "cell_type": "code",
      "source": [
        "training.printSchema()\n"
      ],
      "metadata": {
        "colab": {
          "base_uri": "https://localhost:8080/"
        },
        "id": "uJFavd4qMqW2",
        "outputId": "8f3bf768-75f0-4f37-a168-8fa48be6deec"
      },
      "execution_count": 74,
      "outputs": [
        {
          "output_type": "stream",
          "name": "stdout",
          "text": [
            "root\n",
            " |-- Name: string (nullable = true)\n",
            " |-- age: integer (nullable = true)\n",
            " |-- Experience: integer (nullable = true)\n",
            " |-- Salary: integer (nullable = true)\n",
            "\n"
          ]
        }
      ]
    },
    {
      "cell_type": "code",
      "source": [
        "training.columns"
      ],
      "metadata": {
        "colab": {
          "base_uri": "https://localhost:8080/"
        },
        "id": "RB5WUmbKTge8",
        "outputId": "fac3ad6f-d8ef-450c-f136-4e108651ede8"
      },
      "execution_count": 75,
      "outputs": [
        {
          "output_type": "execute_result",
          "data": {
            "text/plain": [
              "['Name', 'age', 'Experience', 'Salary']"
            ]
          },
          "metadata": {},
          "execution_count": 75
        }
      ]
    },
    {
      "cell_type": "code",
      "source": [
        "from pyspark.ml.feature import VectorAssembler\n",
        "featureassembler=VectorAssembler(inputCols=[\"age\",\"Experience\"],outputCol=\"Independent Features\")\n"
      ],
      "metadata": {
        "id": "IMCQmV-sTkl1"
      },
      "execution_count": 76,
      "outputs": []
    },
    {
      "cell_type": "code",
      "source": [
        "output=featureassembler.transform(training)\n",
        "output.show()\n"
      ],
      "metadata": {
        "colab": {
          "base_uri": "https://localhost:8080/"
        },
        "id": "d7wzy8ZoTrE6",
        "outputId": "935dd006-3b1c-4255-f856-3a4fe0216e56"
      },
      "execution_count": 78,
      "outputs": [
        {
          "output_type": "stream",
          "name": "stdout",
          "text": [
            "+--------+---+----------+------+--------------------+\n",
            "|    Name|age|Experience|Salary|Independent Features|\n",
            "+--------+---+----------+------+--------------------+\n",
            "|     ali| 31|        10| 30000|         [31.0,10.0]|\n",
            "|    reza| 30|         8| 25000|          [30.0,8.0]|\n",
            "|   akbar| 29|         4| 20000|          [29.0,4.0]|\n",
            "|pedramoo| 24|         3| 20000|          [24.0,3.0]|\n",
            "| hasanoo| 21|         1| 15000|          [21.0,1.0]|\n",
            "|    kami| 23|         2| 18000|          [23.0,2.0]|\n",
            "+--------+---+----------+------+--------------------+\n",
            "\n"
          ]
        }
      ]
    },
    {
      "cell_type": "code",
      "source": [
        "output.columns\n"
      ],
      "metadata": {
        "colab": {
          "base_uri": "https://localhost:8080/"
        },
        "id": "66GzUFL0Tw7k",
        "outputId": "c44526e1-e28c-4310-fff4-2b501765d764"
      },
      "execution_count": 79,
      "outputs": [
        {
          "output_type": "execute_result",
          "data": {
            "text/plain": [
              "['Name', 'age', 'Experience', 'Salary', 'Independent Features']"
            ]
          },
          "metadata": {},
          "execution_count": 79
        }
      ]
    },
    {
      "cell_type": "code",
      "source": [
        "finalized_data=output.select(\"Independent Features\",\"Salary\")\n",
        "finalized_data.show()\n"
      ],
      "metadata": {
        "colab": {
          "base_uri": "https://localhost:8080/"
        },
        "id": "c7OzCMvkT3AS",
        "outputId": "c32b6621-fa0c-4143-b50c-6c5c47548e48"
      },
      "execution_count": 81,
      "outputs": [
        {
          "output_type": "stream",
          "name": "stdout",
          "text": [
            "+--------------------+------+\n",
            "|Independent Features|Salary|\n",
            "+--------------------+------+\n",
            "|         [31.0,10.0]| 30000|\n",
            "|          [30.0,8.0]| 25000|\n",
            "|          [29.0,4.0]| 20000|\n",
            "|          [24.0,3.0]| 20000|\n",
            "|          [21.0,1.0]| 15000|\n",
            "|          [23.0,2.0]| 18000|\n",
            "+--------------------+------+\n",
            "\n"
          ]
        }
      ]
    },
    {
      "cell_type": "code",
      "source": [
        "from pyspark.ml.regression import LinearRegression\n",
        "train_data,test_data=finalized_data.randomSplit([0.75,0.25])"
      ],
      "metadata": {
        "id": "Ip0D6ZdUT7SQ"
      },
      "execution_count": 82,
      "outputs": []
    },
    {
      "cell_type": "code",
      "source": [
        "regressor=LinearRegression(featuresCol='Independent Features', labelCol='Salary')\n",
        "regressor=regressor.fit(train_data)\n"
      ],
      "metadata": {
        "id": "0O-YiqrlUURK"
      },
      "execution_count": 83,
      "outputs": []
    },
    {
      "cell_type": "code",
      "source": [
        "### Coefficients\n",
        "regressor.coefficients\n"
      ],
      "metadata": {
        "colab": {
          "base_uri": "https://localhost:8080/"
        },
        "id": "CGWIExDjUcCV",
        "outputId": "b6059b6d-7f5b-4d91-ad9a-8ed1e23f07a4"
      },
      "execution_count": 84,
      "outputs": [
        {
          "output_type": "execute_result",
          "data": {
            "text/plain": [
              "DenseVector([-500.0, 2500.0])"
            ]
          },
          "metadata": {},
          "execution_count": 84
        }
      ]
    },
    {
      "cell_type": "code",
      "source": [
        "### Prediction\n",
        "pred_results=regressor.evaluate(test_data)"
      ],
      "metadata": {
        "id": "Pb2NpnT7Ue_J"
      },
      "execution_count": 85,
      "outputs": []
    },
    {
      "cell_type": "code",
      "source": [
        "pred_results.predictions.show()\n"
      ],
      "metadata": {
        "colab": {
          "base_uri": "https://localhost:8080/"
        },
        "id": "7vN6aFZDUnk0",
        "outputId": "28eb4264-65e3-4c61-e63d-81822f70c301"
      },
      "execution_count": 86,
      "outputs": [
        {
          "output_type": "stream",
          "name": "stdout",
          "text": [
            "+--------------------+------+------------------+\n",
            "|Independent Features|Salary|        prediction|\n",
            "+--------------------+------+------------------+\n",
            "|          [21.0,1.0]| 15000|16500.000000000156|\n",
            "|          [30.0,8.0]| 25000|29499.999999999123|\n",
            "|         [31.0,10.0]| 30000|33999.999999998705|\n",
            "+--------------------+------+------------------+\n",
            "\n"
          ]
        }
      ]
    },
    {
      "cell_type": "code",
      "source": [
        "pred_results.meanAbsoluteError,pred_results.meanSquaredError\n"
      ],
      "metadata": {
        "colab": {
          "base_uri": "https://localhost:8080/"
        },
        "id": "ZqSrwd5VUotc",
        "outputId": "520113d5-d09e-42c7-a6de-512ba7baa921"
      },
      "execution_count": 87,
      "outputs": [
        {
          "output_type": "execute_result",
          "data": {
            "text/plain": [
              "(3333.3333333326614, 12833333.333327407)"
            ]
          },
          "metadata": {},
          "execution_count": 87
        }
      ]
    },
    {
      "cell_type": "markdown",
      "source": [
        "# session 7\n",
        "## Data_Bricks\n",
        "* link:\n",
        "* https://github.com/strumer69/Learn_spark/blob/main/G_Data_bricks_linear-regression_.ipynb\n",
        "\n"
      ],
      "metadata": {
        "id": "o0wxnEnoU3Aa"
      }
    },
    {
      "cell_type": "code",
      "source": [
        "df=spark.read.csv(\"tips.csv\",header=True,inferSchema=True)\n",
        "df.show()"
      ],
      "metadata": {
        "colab": {
          "base_uri": "https://localhost:8080/"
        },
        "id": "B5WKafoVUzUb",
        "outputId": "f44c7bb5-374c-4ec5-8612-5546683f561b"
      },
      "execution_count": 92,
      "outputs": [
        {
          "output_type": "stream",
          "name": "stdout",
          "text": [
            "+----------+----+------+------+---+------+----+\n",
            "|total_bill| tip|   sex|smoker|day|  time|size|\n",
            "+----------+----+------+------+---+------+----+\n",
            "|     16.99|1.01|Female|    No|Sun|Dinner|   2|\n",
            "|     10.34|1.66|  Male|    No|Sun|Dinner|   3|\n",
            "|     21.01| 3.5|  Male|    No|Sun|Dinner|   3|\n",
            "|     23.68|3.31|  Male|    No|Sun|Dinner|   2|\n",
            "|     24.59|3.61|Female|    No|Sun|Dinner|   4|\n",
            "|     25.29|4.71|  Male|    No|Sun|Dinner|   4|\n",
            "|      8.77| 2.0|  Male|    No|Sun|Dinner|   2|\n",
            "|     26.88|3.12|  Male|    No|Sun|Dinner|   4|\n",
            "|     15.04|1.96|  Male|    No|Sun|Dinner|   2|\n",
            "|     14.78|3.23|  Male|    No|Sun|Dinner|   2|\n",
            "|     10.27|1.71|  Male|    No|Sun|Dinner|   2|\n",
            "|     35.26| 5.0|Female|    No|Sun|Dinner|   4|\n",
            "|     15.42|1.57|  Male|    No|Sun|Dinner|   2|\n",
            "|     18.43| 3.0|  Male|    No|Sun|Dinner|   4|\n",
            "|     14.83|3.02|Female|    No|Sun|Dinner|   2|\n",
            "|     21.58|3.92|  Male|    No|Sun|Dinner|   2|\n",
            "|     10.33|1.67|Female|    No|Sun|Dinner|   3|\n",
            "|     16.29|3.71|  Male|    No|Sun|Dinner|   3|\n",
            "|     16.97| 3.5|Female|    No|Sun|Dinner|   3|\n",
            "|     20.65|3.35|  Male|    No|Sat|Dinner|   3|\n",
            "+----------+----+------+------+---+------+----+\n",
            "only showing top 20 rows\n",
            "\n"
          ]
        }
      ]
    },
    {
      "cell_type": "code",
      "source": [
        "df.printSchema()\n"
      ],
      "metadata": {
        "colab": {
          "base_uri": "https://localhost:8080/"
        },
        "id": "S61Sx3qUVfga",
        "outputId": "3896d0ae-453a-46ee-ad9b-6839d1eaec75"
      },
      "execution_count": 93,
      "outputs": [
        {
          "output_type": "stream",
          "name": "stdout",
          "text": [
            "root\n",
            " |-- total_bill: double (nullable = true)\n",
            " |-- tip: double (nullable = true)\n",
            " |-- sex: string (nullable = true)\n",
            " |-- smoker: string (nullable = true)\n",
            " |-- day: string (nullable = true)\n",
            " |-- time: string (nullable = true)\n",
            " |-- size: integer (nullable = true)\n",
            "\n"
          ]
        }
      ]
    },
    {
      "cell_type": "code",
      "source": [
        "df.columns"
      ],
      "metadata": {
        "colab": {
          "base_uri": "https://localhost:8080/"
        },
        "id": "-vql6zihXB2S",
        "outputId": "db11c01d-4fdd-4bdf-8e81-9ea851af90a4"
      },
      "execution_count": 94,
      "outputs": [
        {
          "output_type": "execute_result",
          "data": {
            "text/plain": [
              "['total_bill', 'tip', 'sex', 'smoker', 'day', 'time', 'size']"
            ]
          },
          "metadata": {},
          "execution_count": 94
        }
      ]
    },
    {
      "cell_type": "code",
      "source": [
        "df.show()"
      ],
      "metadata": {
        "colab": {
          "base_uri": "https://localhost:8080/"
        },
        "id": "-bwEOgi4XFb0",
        "outputId": "f34b4390-4774-42d9-b36a-a92a071c2289"
      },
      "execution_count": 95,
      "outputs": [
        {
          "output_type": "stream",
          "name": "stdout",
          "text": [
            "+----------+----+------+------+---+------+----+\n",
            "|total_bill| tip|   sex|smoker|day|  time|size|\n",
            "+----------+----+------+------+---+------+----+\n",
            "|     16.99|1.01|Female|    No|Sun|Dinner|   2|\n",
            "|     10.34|1.66|  Male|    No|Sun|Dinner|   3|\n",
            "|     21.01| 3.5|  Male|    No|Sun|Dinner|   3|\n",
            "|     23.68|3.31|  Male|    No|Sun|Dinner|   2|\n",
            "|     24.59|3.61|Female|    No|Sun|Dinner|   4|\n",
            "|     25.29|4.71|  Male|    No|Sun|Dinner|   4|\n",
            "|      8.77| 2.0|  Male|    No|Sun|Dinner|   2|\n",
            "|     26.88|3.12|  Male|    No|Sun|Dinner|   4|\n",
            "|     15.04|1.96|  Male|    No|Sun|Dinner|   2|\n",
            "|     14.78|3.23|  Male|    No|Sun|Dinner|   2|\n",
            "|     10.27|1.71|  Male|    No|Sun|Dinner|   2|\n",
            "|     35.26| 5.0|Female|    No|Sun|Dinner|   4|\n",
            "|     15.42|1.57|  Male|    No|Sun|Dinner|   2|\n",
            "|     18.43| 3.0|  Male|    No|Sun|Dinner|   4|\n",
            "|     14.83|3.02|Female|    No|Sun|Dinner|   2|\n",
            "|     21.58|3.92|  Male|    No|Sun|Dinner|   2|\n",
            "|     10.33|1.67|Female|    No|Sun|Dinner|   3|\n",
            "|     16.29|3.71|  Male|    No|Sun|Dinner|   3|\n",
            "|     16.97| 3.5|Female|    No|Sun|Dinner|   3|\n",
            "|     20.65|3.35|  Male|    No|Sat|Dinner|   3|\n",
            "+----------+----+------+------+---+------+----+\n",
            "only showing top 20 rows\n",
            "\n"
          ]
        }
      ]
    },
    {
      "cell_type": "code",
      "source": [
        "### handling categorical features\n",
        "from pyspark.ml.feature import StringIndexer\n"
      ],
      "metadata": {
        "id": "2KzDA2w_XJ7-"
      },
      "execution_count": 96,
      "outputs": []
    },
    {
      "cell_type": "code",
      "source": [
        "from pygments.token import String\n",
        "indexer=StringIndexer(inputCol='sex',outputCol='Sex_indexed')\n",
        "df_r=indexer.fit(df).transform(df)\n",
        "df_r.show()"
      ],
      "metadata": {
        "colab": {
          "base_uri": "https://localhost:8080/"
        },
        "id": "mM9KZUyqXb-P",
        "outputId": "6530a124-c8f7-4cc7-edcc-79a691c6ba76"
      },
      "execution_count": 97,
      "outputs": [
        {
          "output_type": "stream",
          "name": "stdout",
          "text": [
            "+----------+----+------+------+---+------+----+-----------+\n",
            "|total_bill| tip|   sex|smoker|day|  time|size|Sex_indexed|\n",
            "+----------+----+------+------+---+------+----+-----------+\n",
            "|     16.99|1.01|Female|    No|Sun|Dinner|   2|        1.0|\n",
            "|     10.34|1.66|  Male|    No|Sun|Dinner|   3|        0.0|\n",
            "|     21.01| 3.5|  Male|    No|Sun|Dinner|   3|        0.0|\n",
            "|     23.68|3.31|  Male|    No|Sun|Dinner|   2|        0.0|\n",
            "|     24.59|3.61|Female|    No|Sun|Dinner|   4|        1.0|\n",
            "|     25.29|4.71|  Male|    No|Sun|Dinner|   4|        0.0|\n",
            "|      8.77| 2.0|  Male|    No|Sun|Dinner|   2|        0.0|\n",
            "|     26.88|3.12|  Male|    No|Sun|Dinner|   4|        0.0|\n",
            "|     15.04|1.96|  Male|    No|Sun|Dinner|   2|        0.0|\n",
            "|     14.78|3.23|  Male|    No|Sun|Dinner|   2|        0.0|\n",
            "|     10.27|1.71|  Male|    No|Sun|Dinner|   2|        0.0|\n",
            "|     35.26| 5.0|Female|    No|Sun|Dinner|   4|        1.0|\n",
            "|     15.42|1.57|  Male|    No|Sun|Dinner|   2|        0.0|\n",
            "|     18.43| 3.0|  Male|    No|Sun|Dinner|   4|        0.0|\n",
            "|     14.83|3.02|Female|    No|Sun|Dinner|   2|        1.0|\n",
            "|     21.58|3.92|  Male|    No|Sun|Dinner|   2|        0.0|\n",
            "|     10.33|1.67|Female|    No|Sun|Dinner|   3|        1.0|\n",
            "|     16.29|3.71|  Male|    No|Sun|Dinner|   3|        0.0|\n",
            "|     16.97| 3.5|Female|    No|Sun|Dinner|   3|        1.0|\n",
            "|     20.65|3.35|  Male|    No|Sat|Dinner|   3|        0.0|\n",
            "+----------+----+------+------+---+------+----+-----------+\n",
            "only showing top 20 rows\n",
            "\n"
          ]
        }
      ]
    },
    {
      "cell_type": "code",
      "source": [
        "indexer=StringIndexer(inputCols=['smoker','day','time'],outputCols=['smoker_indexed','day_indexed','time_indexed'])\n",
        "df_r2=indexer.fit(df_r).transform(df_r)\n",
        "df_r2.show()"
      ],
      "metadata": {
        "colab": {
          "base_uri": "https://localhost:8080/"
        },
        "id": "dpBjJMXkX7v9",
        "outputId": "5059210d-8c12-4df2-ec9d-249636ee9f99"
      },
      "execution_count": 102,
      "outputs": [
        {
          "output_type": "stream",
          "name": "stdout",
          "text": [
            "+----------+----+------+------+---+------+----+-----------+--------------+-----------+------------+\n",
            "|total_bill| tip|   sex|smoker|day|  time|size|Sex_indexed|smoker_indexed|day_indexed|time_indexed|\n",
            "+----------+----+------+------+---+------+----+-----------+--------------+-----------+------------+\n",
            "|     16.99|1.01|Female|    No|Sun|Dinner|   2|        1.0|           0.0|        1.0|         0.0|\n",
            "|     10.34|1.66|  Male|    No|Sun|Dinner|   3|        0.0|           0.0|        1.0|         0.0|\n",
            "|     21.01| 3.5|  Male|    No|Sun|Dinner|   3|        0.0|           0.0|        1.0|         0.0|\n",
            "|     23.68|3.31|  Male|    No|Sun|Dinner|   2|        0.0|           0.0|        1.0|         0.0|\n",
            "|     24.59|3.61|Female|    No|Sun|Dinner|   4|        1.0|           0.0|        1.0|         0.0|\n",
            "|     25.29|4.71|  Male|    No|Sun|Dinner|   4|        0.0|           0.0|        1.0|         0.0|\n",
            "|      8.77| 2.0|  Male|    No|Sun|Dinner|   2|        0.0|           0.0|        1.0|         0.0|\n",
            "|     26.88|3.12|  Male|    No|Sun|Dinner|   4|        0.0|           0.0|        1.0|         0.0|\n",
            "|     15.04|1.96|  Male|    No|Sun|Dinner|   2|        0.0|           0.0|        1.0|         0.0|\n",
            "|     14.78|3.23|  Male|    No|Sun|Dinner|   2|        0.0|           0.0|        1.0|         0.0|\n",
            "|     10.27|1.71|  Male|    No|Sun|Dinner|   2|        0.0|           0.0|        1.0|         0.0|\n",
            "|     35.26| 5.0|Female|    No|Sun|Dinner|   4|        1.0|           0.0|        1.0|         0.0|\n",
            "|     15.42|1.57|  Male|    No|Sun|Dinner|   2|        0.0|           0.0|        1.0|         0.0|\n",
            "|     18.43| 3.0|  Male|    No|Sun|Dinner|   4|        0.0|           0.0|        1.0|         0.0|\n",
            "|     14.83|3.02|Female|    No|Sun|Dinner|   2|        1.0|           0.0|        1.0|         0.0|\n",
            "|     21.58|3.92|  Male|    No|Sun|Dinner|   2|        0.0|           0.0|        1.0|         0.0|\n",
            "|     10.33|1.67|Female|    No|Sun|Dinner|   3|        1.0|           0.0|        1.0|         0.0|\n",
            "|     16.29|3.71|  Male|    No|Sun|Dinner|   3|        0.0|           0.0|        1.0|         0.0|\n",
            "|     16.97| 3.5|Female|    No|Sun|Dinner|   3|        1.0|           0.0|        1.0|         0.0|\n",
            "|     20.65|3.35|  Male|    No|Sat|Dinner|   3|        0.0|           0.0|        0.0|         0.0|\n",
            "+----------+----+------+------+---+------+----+-----------+--------------+-----------+------------+\n",
            "only showing top 20 rows\n",
            "\n"
          ]
        }
      ]
    },
    {
      "cell_type": "code",
      "source": [
        "df_r2.columns"
      ],
      "metadata": {
        "colab": {
          "base_uri": "https://localhost:8080/"
        },
        "id": "zw5rUQ4pYe7k",
        "outputId": "718a2be2-b006-4ca5-e73c-3dacdb24050d"
      },
      "execution_count": 103,
      "outputs": [
        {
          "output_type": "execute_result",
          "data": {
            "text/plain": [
              "['total_bill',\n",
              " 'tip',\n",
              " 'sex',\n",
              " 'smoker',\n",
              " 'day',\n",
              " 'time',\n",
              " 'size',\n",
              " 'Sex_indexed',\n",
              " 'smoker_indexed',\n",
              " 'day_indexed',\n",
              " 'time_indexed']"
            ]
          },
          "metadata": {},
          "execution_count": 103
        }
      ]
    },
    {
      "cell_type": "code",
      "source": [
        "from pyspark.ml.feature import VectorAssembler\n",
        "\n",
        "featureassembler=VectorAssembler(inputCols= \n",
        "['tip','size','Sex_indexed','smoker_indexed','day_indexed','time_indexed'],\n",
        "outputCol='Independent_Features')\n",
        "\n",
        "output=featureassembler.transform(df_r2)\n",
        "output.show()"
      ],
      "metadata": {
        "colab": {
          "base_uri": "https://localhost:8080/"
        },
        "id": "AfW2NmX3Y69z",
        "outputId": "96a7dc46-2949-4a1f-b887-2dbbbb1f25b3"
      },
      "execution_count": 107,
      "outputs": [
        {
          "output_type": "stream",
          "name": "stdout",
          "text": [
            "+----------+----+------+------+---+------+----+-----------+--------------+-----------+------------+--------------------+\n",
            "|total_bill| tip|   sex|smoker|day|  time|size|Sex_indexed|smoker_indexed|day_indexed|time_indexed|Independent_Features|\n",
            "+----------+----+------+------+---+------+----+-----------+--------------+-----------+------------+--------------------+\n",
            "|     16.99|1.01|Female|    No|Sun|Dinner|   2|        1.0|           0.0|        1.0|         0.0|[1.01,2.0,1.0,0.0...|\n",
            "|     10.34|1.66|  Male|    No|Sun|Dinner|   3|        0.0|           0.0|        1.0|         0.0|[1.66,3.0,0.0,0.0...|\n",
            "|     21.01| 3.5|  Male|    No|Sun|Dinner|   3|        0.0|           0.0|        1.0|         0.0|[3.5,3.0,0.0,0.0,...|\n",
            "|     23.68|3.31|  Male|    No|Sun|Dinner|   2|        0.0|           0.0|        1.0|         0.0|[3.31,2.0,0.0,0.0...|\n",
            "|     24.59|3.61|Female|    No|Sun|Dinner|   4|        1.0|           0.0|        1.0|         0.0|[3.61,4.0,1.0,0.0...|\n",
            "|     25.29|4.71|  Male|    No|Sun|Dinner|   4|        0.0|           0.0|        1.0|         0.0|[4.71,4.0,0.0,0.0...|\n",
            "|      8.77| 2.0|  Male|    No|Sun|Dinner|   2|        0.0|           0.0|        1.0|         0.0|[2.0,2.0,0.0,0.0,...|\n",
            "|     26.88|3.12|  Male|    No|Sun|Dinner|   4|        0.0|           0.0|        1.0|         0.0|[3.12,4.0,0.0,0.0...|\n",
            "|     15.04|1.96|  Male|    No|Sun|Dinner|   2|        0.0|           0.0|        1.0|         0.0|[1.96,2.0,0.0,0.0...|\n",
            "|     14.78|3.23|  Male|    No|Sun|Dinner|   2|        0.0|           0.0|        1.0|         0.0|[3.23,2.0,0.0,0.0...|\n",
            "|     10.27|1.71|  Male|    No|Sun|Dinner|   2|        0.0|           0.0|        1.0|         0.0|[1.71,2.0,0.0,0.0...|\n",
            "|     35.26| 5.0|Female|    No|Sun|Dinner|   4|        1.0|           0.0|        1.0|         0.0|[5.0,4.0,1.0,0.0,...|\n",
            "|     15.42|1.57|  Male|    No|Sun|Dinner|   2|        0.0|           0.0|        1.0|         0.0|[1.57,2.0,0.0,0.0...|\n",
            "|     18.43| 3.0|  Male|    No|Sun|Dinner|   4|        0.0|           0.0|        1.0|         0.0|[3.0,4.0,0.0,0.0,...|\n",
            "|     14.83|3.02|Female|    No|Sun|Dinner|   2|        1.0|           0.0|        1.0|         0.0|[3.02,2.0,1.0,0.0...|\n",
            "|     21.58|3.92|  Male|    No|Sun|Dinner|   2|        0.0|           0.0|        1.0|         0.0|[3.92,2.0,0.0,0.0...|\n",
            "|     10.33|1.67|Female|    No|Sun|Dinner|   3|        1.0|           0.0|        1.0|         0.0|[1.67,3.0,1.0,0.0...|\n",
            "|     16.29|3.71|  Male|    No|Sun|Dinner|   3|        0.0|           0.0|        1.0|         0.0|[3.71,3.0,0.0,0.0...|\n",
            "|     16.97| 3.5|Female|    No|Sun|Dinner|   3|        1.0|           0.0|        1.0|         0.0|[3.5,3.0,1.0,0.0,...|\n",
            "|     20.65|3.35|  Male|    No|Sat|Dinner|   3|        0.0|           0.0|        0.0|         0.0|(6,[0,1],[3.35,3.0])|\n",
            "+----------+----+------+------+---+------+----+-----------+--------------+-----------+------------+--------------------+\n",
            "only showing top 20 rows\n",
            "\n"
          ]
        }
      ]
    },
    {
      "cell_type": "code",
      "source": [
        "output.select('Independent_Features').show()"
      ],
      "metadata": {
        "colab": {
          "base_uri": "https://localhost:8080/"
        },
        "id": "y_wTrIqEY7Aw",
        "outputId": "8ba69d7a-512d-40b7-b5e0-2a8e98823f45"
      },
      "execution_count": 105,
      "outputs": [
        {
          "output_type": "stream",
          "name": "stdout",
          "text": [
            "+--------------------+\n",
            "|Independent_Features|\n",
            "+--------------------+\n",
            "|[1.01,2.0,1.0,0.0...|\n",
            "|[1.66,3.0,0.0,0.0...|\n",
            "|[3.5,3.0,0.0,0.0,...|\n",
            "|[3.31,2.0,0.0,0.0...|\n",
            "|[3.61,4.0,1.0,0.0...|\n",
            "|[4.71,4.0,0.0,0.0...|\n",
            "|[2.0,2.0,0.0,0.0,...|\n",
            "|[3.12,4.0,0.0,0.0...|\n",
            "|[1.96,2.0,0.0,0.0...|\n",
            "|[3.23,2.0,0.0,0.0...|\n",
            "|[1.71,2.0,0.0,0.0...|\n",
            "|[5.0,4.0,1.0,0.0,...|\n",
            "|[1.57,2.0,0.0,0.0...|\n",
            "|[3.0,4.0,0.0,0.0,...|\n",
            "|[3.02,2.0,1.0,0.0...|\n",
            "|[3.92,2.0,0.0,0.0...|\n",
            "|[1.67,3.0,1.0,0.0...|\n",
            "|[3.71,3.0,0.0,0.0...|\n",
            "|[3.5,3.0,1.0,0.0,...|\n",
            "|(6,[0,1],[3.35,3.0])|\n",
            "+--------------------+\n",
            "only showing top 20 rows\n",
            "\n"
          ]
        }
      ]
    },
    {
      "cell_type": "code",
      "source": [
        "finalized_data=output.select('Independent_Features','total_bill')\n",
        "finalized_data.show()\n"
      ],
      "metadata": {
        "colab": {
          "base_uri": "https://localhost:8080/"
        },
        "id": "BuZHiblcY7Dt",
        "outputId": "ab19c328-7769-4570-8b2f-47b4f58c525b"
      },
      "execution_count": 108,
      "outputs": [
        {
          "output_type": "stream",
          "name": "stdout",
          "text": [
            "+--------------------+----------+\n",
            "|Independent_Features|total_bill|\n",
            "+--------------------+----------+\n",
            "|[1.01,2.0,1.0,0.0...|     16.99|\n",
            "|[1.66,3.0,0.0,0.0...|     10.34|\n",
            "|[3.5,3.0,0.0,0.0,...|     21.01|\n",
            "|[3.31,2.0,0.0,0.0...|     23.68|\n",
            "|[3.61,4.0,1.0,0.0...|     24.59|\n",
            "|[4.71,4.0,0.0,0.0...|     25.29|\n",
            "|[2.0,2.0,0.0,0.0,...|      8.77|\n",
            "|[3.12,4.0,0.0,0.0...|     26.88|\n",
            "|[1.96,2.0,0.0,0.0...|     15.04|\n",
            "|[3.23,2.0,0.0,0.0...|     14.78|\n",
            "|[1.71,2.0,0.0,0.0...|     10.27|\n",
            "|[5.0,4.0,1.0,0.0,...|     35.26|\n",
            "|[1.57,2.0,0.0,0.0...|     15.42|\n",
            "|[3.0,4.0,0.0,0.0,...|     18.43|\n",
            "|[3.02,2.0,1.0,0.0...|     14.83|\n",
            "|[3.92,2.0,0.0,0.0...|     21.58|\n",
            "|[1.67,3.0,1.0,0.0...|     10.33|\n",
            "|[3.71,3.0,0.0,0.0...|     16.29|\n",
            "|[3.5,3.0,1.0,0.0,...|     16.97|\n",
            "|(6,[0,1],[3.35,3.0])|     20.65|\n",
            "+--------------------+----------+\n",
            "only showing top 20 rows\n",
            "\n"
          ]
        }
      ]
    },
    {
      "cell_type": "code",
      "source": [
        "from pyspark.ml.regression import LinearRegression\n",
        "\n",
        "##train test split\n",
        "train_data,test_data=finalized_data.randomSplit([0.75,0.25])\n",
        "\n",
        "regressor=LinearRegression(featuresCol='Independent_Features', labelCol='total_bill')\n",
        "regressor=regressor.fit(train_data)"
      ],
      "metadata": {
        "id": "fIYU6UEZdDdZ"
      },
      "execution_count": 109,
      "outputs": []
    },
    {
      "cell_type": "code",
      "source": [
        "regressor.coefficients\n"
      ],
      "metadata": {
        "colab": {
          "base_uri": "https://localhost:8080/"
        },
        "id": "7vNaxnkLdRTr",
        "outputId": "8a656951-febb-4352-dc2d-41d6be2b532f"
      },
      "execution_count": 110,
      "outputs": [
        {
          "output_type": "execute_result",
          "data": {
            "text/plain": [
              "DenseVector([3.2401, 3.3669, -1.2628, 2.4632, -0.0213, -1.0864])"
            ]
          },
          "metadata": {},
          "execution_count": 110
        }
      ]
    },
    {
      "cell_type": "code",
      "source": [
        "regressor.intercept\n"
      ],
      "metadata": {
        "colab": {
          "base_uri": "https://localhost:8080/"
        },
        "id": "6xeoleKgdSnK",
        "outputId": "f496a1ba-6d2c-43b6-cb9b-f5379769acdd"
      },
      "execution_count": 111,
      "outputs": [
        {
          "output_type": "execute_result",
          "data": {
            "text/plain": [
              "0.9903981225611963"
            ]
          },
          "metadata": {},
          "execution_count": 111
        }
      ]
    },
    {
      "cell_type": "code",
      "source": [
        "# show predictions\n",
        "\n",
        "pred_result=regressor.evaluate(test_data)"
      ],
      "metadata": {
        "id": "cvxSynzpdUuh"
      },
      "execution_count": 112,
      "outputs": []
    },
    {
      "cell_type": "code",
      "source": [
        "type(pred_result)\n"
      ],
      "metadata": {
        "colab": {
          "base_uri": "https://localhost:8080/"
        },
        "id": "zufqj5qMdbG_",
        "outputId": "cbd372f7-5a6e-44a0-bbff-13431ffc486b"
      },
      "execution_count": 113,
      "outputs": [
        {
          "output_type": "execute_result",
          "data": {
            "text/plain": [
              "pyspark.ml.regression.LinearRegressionSummary"
            ]
          },
          "metadata": {},
          "execution_count": 113
        }
      ]
    },
    {
      "cell_type": "code",
      "source": [
        "pred_result.predictions.show()\n"
      ],
      "metadata": {
        "colab": {
          "base_uri": "https://localhost:8080/"
        },
        "id": "dSZbaFPQdcgi",
        "outputId": "0fa3f73e-be5f-492a-cbff-08d4342a47a2"
      },
      "execution_count": 114,
      "outputs": [
        {
          "output_type": "stream",
          "name": "stdout",
          "text": [
            "+--------------------+----------+------------------+\n",
            "|Independent_Features|total_bill|        prediction|\n",
            "+--------------------+----------+------------------+\n",
            "|(6,[0,1],[1.97,2.0])|     12.02|14.107256027423063|\n",
            "|(6,[0,1],[2.01,2.0])|     20.23|14.236860264752679|\n",
            "|(6,[0,1],[2.34,4.0])|     17.81|22.039944439100314|\n",
            "| (6,[0,1],[2.5,4.0])|     18.35|22.558361388418774|\n",
            "| (6,[0,1],[4.3,2.0])|      21.7| 21.65670285187316|\n",
            "|(6,[0,1],[5.92,3.0])|     29.03|30.272599071911735|\n",
            "|[1.01,2.0,1.0,0.0...|     16.99|  9.71263339555111|\n",
            "|[1.17,2.0,0.0,1.0...|     32.83|13.978408881811655|\n",
            "|[1.5,2.0,0.0,0.0,...|     12.46|12.520445716130759|\n",
            "|[1.5,2.0,1.0,0.0,...|      8.35|10.192557841537461|\n",
            "|[1.57,2.0,0.0,0.0...|     15.42|12.789893479903801|\n",
            "|[1.63,2.0,1.0,0.0...|     11.87|10.613771612858711|\n",
            "|[1.64,2.0,0.0,1.0...|     15.36|15.501258670434636|\n",
            "|[1.92,1.0,0.0,1.0...|      8.58|11.891195913805136|\n",
            "|[2.0,2.0,0.0,0.0,...|     13.13|14.183139031197166|\n",
            "|[2.0,2.0,0.0,0.0,...|     15.95| 13.07541156989573|\n",
            "|[2.0,2.0,1.0,0.0,...|     12.26|11.812610808157654|\n",
            "|[2.0,2.0,1.0,0.0,...|     14.15|11.812610808157654|\n",
            "|[2.0,2.0,1.0,1.0,...|     10.63|15.404896044663099|\n",
            "|[2.0,4.0,0.0,0.0,...|     16.49| 20.91698824757548|\n",
            "+--------------------+----------+------------------+\n",
            "only showing top 20 rows\n",
            "\n"
          ]
        }
      ]
    },
    {
      "cell_type": "code",
      "source": [
        "type(pred_result.predictions)\n"
      ],
      "metadata": {
        "colab": {
          "base_uri": "https://localhost:8080/"
        },
        "id": "2L3eFOyvdeXO",
        "outputId": "6964a515-aa5d-4eda-f5cf-dbcc57a5704c"
      },
      "execution_count": 115,
      "outputs": [
        {
          "output_type": "execute_result",
          "data": {
            "text/plain": [
              "pyspark.sql.dataframe.DataFrame"
            ]
          },
          "metadata": {},
          "execution_count": 115
        }
      ]
    },
    {
      "cell_type": "code",
      "source": [
        "pred_result.r2,pred_result.meanAbsoluteError,pred_result.meanSquaredError\n"
      ],
      "metadata": {
        "colab": {
          "base_uri": "https://localhost:8080/"
        },
        "id": "KNeDSOOddo6S",
        "outputId": "64b8327b-14bc-46d0-95bc-23884cb5cdaf"
      },
      "execution_count": 116,
      "outputs": [
        {
          "output_type": "execute_result",
          "data": {
            "text/plain": [
              "(0.5534380932715244, 4.04608688591347, 33.178019933363004)"
            ]
          },
          "metadata": {},
          "execution_count": 116
        }
      ]
    },
    {
      "cell_type": "code",
      "source": [
        "#save in cd of colab\n",
        "save_location=\"/content/tips_predictions_3.csv\"\n",
        "regressor.save(path=save_location)"
      ],
      "metadata": {
        "id": "uS-bSC1CdyYu"
      },
      "execution_count": 121,
      "outputs": []
    },
    {
      "cell_type": "markdown",
      "source": [
        "# session 8\n",
        "## \n"
      ],
      "metadata": {
        "id": "02k5g_nifAzb"
      }
    },
    {
      "cell_type": "code",
      "source": [
        "\n"
      ],
      "metadata": {
        "id": "Mi71gB08d1zh"
      },
      "execution_count": 119,
      "outputs": []
    },
    {
      "cell_type": "code",
      "source": [],
      "metadata": {
        "id": "LaqT9ceveNVK"
      },
      "execution_count": null,
      "outputs": []
    }
  ]
}