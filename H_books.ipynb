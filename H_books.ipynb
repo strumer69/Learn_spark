{
  "nbformat": 4,
  "nbformat_minor": 0,
  "metadata": {
    "colab": {
      "provenance": [],
      "mount_file_id": "1ja21TKLFpqeiZgyReOfr3vU4evU_0b0v",
      "authorship_tag": "ABX9TyP4JlZKq6dPR+3QsBnPD/gu",
      "include_colab_link": true
    },
    "kernelspec": {
      "name": "python3",
      "display_name": "Python 3"
    },
    "language_info": {
      "name": "python"
    }
  },
  "cells": [
    {
      "cell_type": "markdown",
      "metadata": {
        "id": "view-in-github",
        "colab_type": "text"
      },
      "source": [
        "<a href=\"https://colab.research.google.com/github/strumer69/Learn_spark/blob/main/H_books.ipynb\" target=\"_parent\"><img src=\"https://colab.research.google.com/assets/colab-badge.svg\" alt=\"Open In Colab\"/></a>"
      ]
    },
    {
      "cell_type": "code",
      "execution_count": 1,
      "metadata": {
        "colab": {
          "base_uri": "https://localhost:8080/"
        },
        "id": "XHGMiYHzlZ0Q",
        "outputId": "5ac5c255-0e4d-4a42-f276-fff95989109e"
      },
      "outputs": [
        {
          "output_type": "stream",
          "name": "stdout",
          "text": [
            "Looking in indexes: https://pypi.org/simple, https://us-python.pkg.dev/colab-wheels/public/simple/\n",
            "Collecting pyspark\n",
            "  Downloading pyspark-3.3.2.tar.gz (281.4 MB)\n",
            "\u001b[2K     \u001b[90m━━━━━━━━━━━━━━━━━━━━━━━━━━━━━━━━━━━━━━━\u001b[0m \u001b[32m281.4/281.4 MB\u001b[0m \u001b[31m3.6 MB/s\u001b[0m eta \u001b[36m0:00:00\u001b[0m\n",
            "\u001b[?25h  Preparing metadata (setup.py) ... \u001b[?25l\u001b[?25hdone\n",
            "Collecting py4j==0.10.9.5\n",
            "  Downloading py4j-0.10.9.5-py2.py3-none-any.whl (199 kB)\n",
            "\u001b[2K     \u001b[90m━━━━━━━━━━━━━━━━━━━━━━━━━━━━━━━━━━━━━━\u001b[0m \u001b[32m199.7/199.7 KB\u001b[0m \u001b[31m11.1 MB/s\u001b[0m eta \u001b[36m0:00:00\u001b[0m\n",
            "\u001b[?25hBuilding wheels for collected packages: pyspark\n",
            "  Building wheel for pyspark (setup.py) ... \u001b[?25l\u001b[?25hdone\n",
            "  Created wheel for pyspark: filename=pyspark-3.3.2-py2.py3-none-any.whl size=281824025 sha256=32109aaeb84336952e498cfc70b9df23f04467e355585c86ffcc89d3a6df4a8d\n",
            "  Stored in directory: /root/.cache/pip/wheels/6c/e3/9b/0525ce8a69478916513509d43693511463c6468db0de237c86\n",
            "Successfully built pyspark\n",
            "Installing collected packages: py4j, pyspark\n",
            "Successfully installed py4j-0.10.9.5 pyspark-3.3.2\n"
          ]
        }
      ],
      "source": [
        "pip install pyspark"
      ]
    },
    {
      "cell_type": "code",
      "source": [
        "from pyspark.sql import SparkSession\n",
        "spark=SparkSession.builder.appName('Practicec').getOrCreate()\n"
      ],
      "metadata": {
        "id": "OudYpxnnlcDL"
      },
      "execution_count": 2,
      "outputs": []
    },
    {
      "cell_type": "code",
      "source": [
        "spark"
      ],
      "metadata": {
        "colab": {
          "base_uri": "https://localhost:8080/",
          "height": 219
        },
        "id": "RdJygLWHluHw",
        "outputId": "7df516a9-54d7-4caa-a08c-d1334f24ad48"
      },
      "execution_count": 3,
      "outputs": [
        {
          "output_type": "execute_result",
          "data": {
            "text/plain": [
              "<pyspark.sql.session.SparkSession at 0x7fd008708070>"
            ],
            "text/html": [
              "\n",
              "            <div>\n",
              "                <p><b>SparkSession - in-memory</b></p>\n",
              "                \n",
              "        <div>\n",
              "            <p><b>SparkContext</b></p>\n",
              "\n",
              "            <p><a href=\"http://4e1c2664b6c0:4040\">Spark UI</a></p>\n",
              "\n",
              "            <dl>\n",
              "              <dt>Version</dt>\n",
              "                <dd><code>v3.3.2</code></dd>\n",
              "              <dt>Master</dt>\n",
              "                <dd><code>local[*]</code></dd>\n",
              "              <dt>AppName</dt>\n",
              "                <dd><code>Practicec</code></dd>\n",
              "            </dl>\n",
              "        </div>\n",
              "        \n",
              "            </div>\n",
              "        "
            ]
          },
          "metadata": {},
          "execution_count": 3
        }
      ]
    },
    {
      "cell_type": "code",
      "source": [
        "spark.sparkContext"
      ],
      "metadata": {
        "colab": {
          "base_uri": "https://localhost:8080/",
          "height": 196
        },
        "id": "FoKclGiLaE01",
        "outputId": "5756c08c-f921-4842-cb7f-ed842c1e651d"
      },
      "execution_count": 4,
      "outputs": [
        {
          "output_type": "execute_result",
          "data": {
            "text/plain": [
              "<SparkContext master=local[*] appName=Practicec>"
            ],
            "text/html": [
              "\n",
              "        <div>\n",
              "            <p><b>SparkContext</b></p>\n",
              "\n",
              "            <p><a href=\"http://4e1c2664b6c0:4040\">Spark UI</a></p>\n",
              "\n",
              "            <dl>\n",
              "              <dt>Version</dt>\n",
              "                <dd><code>v3.3.2</code></dd>\n",
              "              <dt>Master</dt>\n",
              "                <dd><code>local[*]</code></dd>\n",
              "              <dt>AppName</dt>\n",
              "                <dd><code>Practicec</code></dd>\n",
              "            </dl>\n",
              "        </div>\n",
              "        "
            ]
          },
          "metadata": {},
          "execution_count": 4
        }
      ]
    },
    {
      "cell_type": "code",
      "source": [
        "# link of data:\n",
        "# https://drive.google.com/file/d/1LgibGOp2aJGbqjqAuU3iKKWYWcB0SAZd/view?usp=share_link\n",
        "df1=spark.read.csv('Book-Ratings.csv')"
      ],
      "metadata": {
        "id": "145myCGwZ7u1"
      },
      "execution_count": 5,
      "outputs": []
    },
    {
      "cell_type": "code",
      "source": [],
      "metadata": {
        "id": "MWSc6lNT3Jeq"
      },
      "execution_count": null,
      "outputs": []
    },
    {
      "cell_type": "code",
      "source": [
        "df1.printSchema()"
      ],
      "metadata": {
        "id": "SLAP3wIslhBB",
        "colab": {
          "base_uri": "https://localhost:8080/"
        },
        "outputId": "26dd26d2-8ec8-4ddc-e056-4ed2c99a09f5"
      },
      "execution_count": 6,
      "outputs": [
        {
          "output_type": "stream",
          "name": "stdout",
          "text": [
            "root\n",
            " |-- _c0: string (nullable = true)\n",
            "\n"
          ]
        }
      ]
    },
    {
      "cell_type": "code",
      "source": [
        "df1.show()"
      ],
      "metadata": {
        "colab": {
          "base_uri": "https://localhost:8080/"
        },
        "id": "rCurCVHmY9Td",
        "outputId": "5d60d96e-840f-409e-9fbd-793d03597e64"
      },
      "execution_count": 7,
      "outputs": [
        {
          "output_type": "stream",
          "name": "stdout",
          "text": [
            "+--------------------+\n",
            "|                 _c0|\n",
            "+--------------------+\n",
            "|\"userid\";\"isbn\";\"...|\n",
            "|\"276725\";\"0345451...|\n",
            "|\"276726\";\"0155061...|\n",
            "|\"276727\";\"0446520...|\n",
            "|\"276729\";\"0521656...|\n",
            "|\"276729\";\"0521795...|\n",
            "|\"276733\";\"2080674...|\n",
            "|\"276736\";\"3257224...|\n",
            "|\"276737\";\"0600570...|\n",
            "|\"276744\";\"0385501...|\n",
            "|\"276745\";\"3423105...|\n",
            "|\"276746\";\"0425115...|\n",
            "|\"276746\";\"0449006...|\n",
            "|\"276746\";\"0553561...|\n",
            "|\"276746\";\"0553564...|\n",
            "|\"276746\";\"0786013...|\n",
            "|\"276746\";\"0786014...|\n",
            "|\"276747\";\"0060517...|\n",
            "|\"276747\";\"0451192...|\n",
            "|\"276747\";\"0609801...|\n",
            "+--------------------+\n",
            "only showing top 20 rows\n",
            "\n"
          ]
        }
      ]
    },
    {
      "cell_type": "code",
      "source": [
        "df1=spark.read.options(sep=';').csv('Book-Ratings.csv')\n",
        "df1.show()"
      ],
      "metadata": {
        "colab": {
          "base_uri": "https://localhost:8080/"
        },
        "id": "42ljXBL6gNiy",
        "outputId": "72b6bbb2-3236-437b-8619-58f621ea3eaf"
      },
      "execution_count": 8,
      "outputs": [
        {
          "output_type": "stream",
          "name": "stdout",
          "text": [
            "+------+----------+----+\n",
            "|   _c0|       _c1| _c2|\n",
            "+------+----------+----+\n",
            "|userid|      isbn|rate|\n",
            "|276725|034545104X|   0|\n",
            "|276726|0155061224|   5|\n",
            "|276727|0446520802|   0|\n",
            "|276729|052165615X|   3|\n",
            "|276729|0521795028|   6|\n",
            "|276733|2080674722|   0|\n",
            "|276736|3257224281|   8|\n",
            "|276737|0600570967|   6|\n",
            "|276744|038550120X|   7|\n",
            "|276745| 342310538|  10|\n",
            "|276746|0425115801|   0|\n",
            "|276746|0449006522|   0|\n",
            "|276746|0553561618|   0|\n",
            "|276746|055356451X|   0|\n",
            "|276746|0786013990|   0|\n",
            "|276746|0786014512|   0|\n",
            "|276747|0060517794|   9|\n",
            "|276747|0451192001|   0|\n",
            "|276747|0609801279|   0|\n",
            "+------+----------+----+\n",
            "only showing top 20 rows\n",
            "\n"
          ]
        }
      ]
    },
    {
      "cell_type": "code",
      "source": [
        "df1=spark.read.options(sep=';',header=True).csv('Book-Ratings.csv')\n",
        "df1.show()"
      ],
      "metadata": {
        "colab": {
          "base_uri": "https://localhost:8080/"
        },
        "id": "-DOXiTqjiYdh",
        "outputId": "64da48de-d4f1-4edc-d01f-c160e604884a"
      },
      "execution_count": 9,
      "outputs": [
        {
          "output_type": "stream",
          "name": "stdout",
          "text": [
            "+------+----------+----+\n",
            "|userid|      isbn|rate|\n",
            "+------+----------+----+\n",
            "|276725|034545104X|   0|\n",
            "|276726|0155061224|   5|\n",
            "|276727|0446520802|   0|\n",
            "|276729|052165615X|   3|\n",
            "|276729|0521795028|   6|\n",
            "|276733|2080674722|   0|\n",
            "|276736|3257224281|   8|\n",
            "|276737|0600570967|   6|\n",
            "|276744|038550120X|   7|\n",
            "|276745| 342310538|  10|\n",
            "|276746|0425115801|   0|\n",
            "|276746|0449006522|   0|\n",
            "|276746|0553561618|   0|\n",
            "|276746|055356451X|   0|\n",
            "|276746|0786013990|   0|\n",
            "|276746|0786014512|   0|\n",
            "|276747|0060517794|   9|\n",
            "|276747|0451192001|   0|\n",
            "|276747|0609801279|   0|\n",
            "|276747|0671537458|   9|\n",
            "+------+----------+----+\n",
            "only showing top 20 rows\n",
            "\n"
          ]
        }
      ]
    },
    {
      "cell_type": "code",
      "source": [
        "df1.printSchema()"
      ],
      "metadata": {
        "colab": {
          "base_uri": "https://localhost:8080/"
        },
        "id": "kNhUPkfAlD60",
        "outputId": "5eb3e5e1-56a0-4c6d-ca07-73465f8acd54"
      },
      "execution_count": 10,
      "outputs": [
        {
          "output_type": "stream",
          "name": "stdout",
          "text": [
            "root\n",
            " |-- userid: string (nullable = true)\n",
            " |-- isbn: string (nullable = true)\n",
            " |-- rate: string (nullable = true)\n",
            "\n"
          ]
        }
      ]
    },
    {
      "cell_type": "code",
      "source": [
        "df1=spark.read.options(sep=';',header=True,inferSchema=True).csv('Book-Ratings.csv')\n",
        "df1.printSchema()"
      ],
      "metadata": {
        "colab": {
          "base_uri": "https://localhost:8080/"
        },
        "id": "SD8vSGLQmN3T",
        "outputId": "d84b21b1-d644-49d7-fd5f-0fec7528253b"
      },
      "execution_count": 11,
      "outputs": [
        {
          "output_type": "stream",
          "name": "stdout",
          "text": [
            "root\n",
            " |-- userid: integer (nullable = true)\n",
            " |-- isbn: string (nullable = true)\n",
            " |-- rate: integer (nullable = true)\n",
            "\n"
          ]
        }
      ]
    },
    {
      "cell_type": "code",
      "source": [
        "df1.filter('rate>5').show()"
      ],
      "metadata": {
        "colab": {
          "base_uri": "https://localhost:8080/"
        },
        "id": "h2oFLNnFmw_h",
        "outputId": "719587d7-e765-4d4e-aa25-d8be505b3393"
      },
      "execution_count": 12,
      "outputs": [
        {
          "output_type": "stream",
          "name": "stdout",
          "text": [
            "+------+----------+----+\n",
            "|userid|      isbn|rate|\n",
            "+------+----------+----+\n",
            "|276729|0521795028|   6|\n",
            "|276736|3257224281|   8|\n",
            "|276737|0600570967|   6|\n",
            "|276744|038550120X|   7|\n",
            "|276745| 342310538|  10|\n",
            "|276747|0060517794|   9|\n",
            "|276747|0671537458|   9|\n",
            "|276747|0679776818|   8|\n",
            "|276747|0943066433|   7|\n",
            "|276747|1885408226|   7|\n",
            "|276748|0747558167|   6|\n",
            "|276751|3596218098|   8|\n",
            "|276754|0684867621|   8|\n",
            "|276760|8440682697|  10|\n",
            "|276762|3453092007|   8|\n",
            "|276772|0553572369|   7|\n",
            "|276772|3499230933|  10|\n",
            "|276772|3596151465|  10|\n",
            "|276774|3442136644|   9|\n",
            "|276780|8484330478|   7|\n",
            "+------+----------+----+\n",
            "only showing top 20 rows\n",
            "\n"
          ]
        }
      ]
    },
    {
      "cell_type": "code",
      "source": [
        "df1.filter('rate>5').select('isbn').show()"
      ],
      "metadata": {
        "colab": {
          "base_uri": "https://localhost:8080/"
        },
        "id": "WH4Gjdcq8IFE",
        "outputId": "1872209c-5d75-43b2-bd92-734177b7c66d"
      },
      "execution_count": 13,
      "outputs": [
        {
          "output_type": "stream",
          "name": "stdout",
          "text": [
            "+----------+\n",
            "|      isbn|\n",
            "+----------+\n",
            "|0521795028|\n",
            "|3257224281|\n",
            "|0600570967|\n",
            "|038550120X|\n",
            "| 342310538|\n",
            "|0060517794|\n",
            "|0671537458|\n",
            "|0679776818|\n",
            "|0943066433|\n",
            "|1885408226|\n",
            "|0747558167|\n",
            "|3596218098|\n",
            "|0684867621|\n",
            "|8440682697|\n",
            "|3453092007|\n",
            "|0553572369|\n",
            "|3499230933|\n",
            "|3596151465|\n",
            "|3442136644|\n",
            "|8484330478|\n",
            "+----------+\n",
            "only showing top 20 rows\n",
            "\n"
          ]
        }
      ]
    },
    {
      "cell_type": "code",
      "source": [
        "df1.groupBy('isbn').avg('rate').show()"
      ],
      "metadata": {
        "colab": {
          "base_uri": "https://localhost:8080/"
        },
        "id": "c9M91KyF9LRT",
        "outputId": "b019a345-fc74-4af6-a2f3-3d61ad9cf899"
      },
      "execution_count": 14,
      "outputs": [
        {
          "output_type": "stream",
          "name": "stdout",
          "text": [
            "+----------+-----------------+\n",
            "|      isbn|        avg(rate)|\n",
            "+----------+-----------------+\n",
            "|2080674722|              0.0|\n",
            "|3499134004|              0.0|\n",
            "|3548603203|              4.8|\n",
            "|880781112X|              6.0|\n",
            "|0738205737|              5.0|\n",
            "|0749317256|              0.0|\n",
            "|0515131520|              3.0|\n",
            "|8471662531|              7.0|\n",
            "|0441005470|              0.0|\n",
            "|0739417096|              8.0|\n",
            "|0767906373|              0.0|\n",
            "|0425087859|              0.0|\n",
            "|0553574566|            3.125|\n",
            "|0498024253|              0.0|\n",
            "|0395977894|              5.0|\n",
            "|0505522004|              7.0|\n",
            "|0425188787|             2.75|\n",
            "|0515137111|              3.6|\n",
            "|0767905385|6.285714285714286|\n",
            "|0553580906|              1.5|\n",
            "+----------+-----------------+\n",
            "only showing top 20 rows\n",
            "\n"
          ]
        }
      ]
    },
    {
      "cell_type": "code",
      "source": [
        "df1.groupBy('isbn').count().show()"
      ],
      "metadata": {
        "colab": {
          "base_uri": "https://localhost:8080/"
        },
        "id": "j4AJCQlf-bAG",
        "outputId": "07311282-e2c5-41cf-b92c-67adb6441326"
      },
      "execution_count": 15,
      "outputs": [
        {
          "output_type": "stream",
          "name": "stdout",
          "text": [
            "+----------+-----+\n",
            "|      isbn|count|\n",
            "+----------+-----+\n",
            "|2080674722|    1|\n",
            "|3499134004|    1|\n",
            "|3548603203|    5|\n",
            "|880781112X|    1|\n",
            "|0738205737|    1|\n",
            "|0749317256|    1|\n",
            "|0515131520|    2|\n",
            "|8471662531|    1|\n",
            "|0441005470|    1|\n",
            "|0739417096|    2|\n",
            "|0767906373|    1|\n",
            "|0425087859|    1|\n",
            "|0553574566|    8|\n",
            "|0498024253|    1|\n",
            "|0395977894|    2|\n",
            "|0505522004|    1|\n",
            "|0425188787|    8|\n",
            "|0515137111|    5|\n",
            "|0767905385|   14|\n",
            "|0553580906|    8|\n",
            "+----------+-----+\n",
            "only showing top 20 rows\n",
            "\n"
          ]
        }
      ]
    },
    {
      "cell_type": "code",
      "source": [
        "from pyspark.sql.functions import *"
      ],
      "metadata": {
        "id": "wOfWwj8N-7W_"
      },
      "execution_count": 16,
      "outputs": []
    },
    {
      "cell_type": "code",
      "source": [
        "df1.groupBy('isbn').agg(sum('rate'),count('rate'),avg('rate'),max('rate')).show()"
      ],
      "metadata": {
        "colab": {
          "base_uri": "https://localhost:8080/"
        },
        "id": "MQCgV0zqAGFD",
        "outputId": "6dba10d9-9a33-4bca-c42b-0df1123a28dd"
      },
      "execution_count": 17,
      "outputs": [
        {
          "output_type": "stream",
          "name": "stdout",
          "text": [
            "+----------+---------+-----------+-----------------+---------+\n",
            "|      isbn|sum(rate)|count(rate)|        avg(rate)|max(rate)|\n",
            "+----------+---------+-----------+-----------------+---------+\n",
            "|2080674722|        0|          1|              0.0|        0|\n",
            "|3499134004|        0|          1|              0.0|        0|\n",
            "|3548603203|       24|          5|              4.8|        9|\n",
            "|880781112X|        6|          1|              6.0|        6|\n",
            "|0738205737|        5|          1|              5.0|        5|\n",
            "|0749317256|        0|          1|              0.0|        0|\n",
            "|0515131520|        6|          2|              3.0|        6|\n",
            "|8471662531|        7|          1|              7.0|        7|\n",
            "|0441005470|        0|          1|              0.0|        0|\n",
            "|0739417096|       16|          2|              8.0|        8|\n",
            "|0767906373|        0|          1|              0.0|        0|\n",
            "|0425087859|        0|          1|              0.0|        0|\n",
            "|0553574566|       25|          8|            3.125|        9|\n",
            "|0498024253|        0|          1|              0.0|        0|\n",
            "|0395977894|       10|          2|              5.0|       10|\n",
            "|0505522004|        7|          1|              7.0|        7|\n",
            "|0425188787|       22|          8|             2.75|        9|\n",
            "|0515137111|       18|          5|              3.6|       10|\n",
            "|0767905385|       88|         14|6.285714285714286|       10|\n",
            "|0553580906|       12|          8|              1.5|        8|\n",
            "+----------+---------+-----------+-----------------+---------+\n",
            "only showing top 20 rows\n",
            "\n"
          ]
        }
      ]
    },
    {
      "cell_type": "code",
      "source": [
        "df1.groupBy('isbn').agg(sum('rate'),count('rate'),avg('rate'),max('rate')).printSchema()"
      ],
      "metadata": {
        "colab": {
          "base_uri": "https://localhost:8080/"
        },
        "id": "s5BLYb7rAgW5",
        "outputId": "2d29c4f2-8705-4d71-aabb-d4ac2f0cd755"
      },
      "execution_count": 18,
      "outputs": [
        {
          "output_type": "stream",
          "name": "stdout",
          "text": [
            "root\n",
            " |-- isbn: string (nullable = true)\n",
            " |-- sum(rate): long (nullable = true)\n",
            " |-- count(rate): long (nullable = false)\n",
            " |-- avg(rate): double (nullable = true)\n",
            " |-- max(rate): integer (nullable = true)\n",
            "\n"
          ]
        }
      ]
    },
    {
      "cell_type": "code",
      "source": [
        "df3=df1.groupBy('isbn').agg(sum('rate').alias('sum'),count('rate').alias('countee'),avg('rate').alias('avge'),max('rate'))"
      ],
      "metadata": {
        "id": "ZgjBpewNCY3F"
      },
      "execution_count": 19,
      "outputs": []
    },
    {
      "cell_type": "code",
      "source": [
        "df3.filter('avge>3').show()"
      ],
      "metadata": {
        "colab": {
          "base_uri": "https://localhost:8080/"
        },
        "id": "UPdFCmDTCfJS",
        "outputId": "c8c97b42-4f61-4450-8378-04a07f45e508"
      },
      "execution_count": 20,
      "outputs": [
        {
          "output_type": "stream",
          "name": "stdout",
          "text": [
            "+----------+---+-------+-----------------+---------+\n",
            "|      isbn|sum|countee|             avge|max(rate)|\n",
            "+----------+---+-------+-----------------+---------+\n",
            "|3548603203| 24|      5|              4.8|        9|\n",
            "|880781112X|  6|      1|              6.0|        6|\n",
            "|0738205737|  5|      1|              5.0|        5|\n",
            "|8471662531|  7|      1|              7.0|        7|\n",
            "|0739417096| 16|      2|              8.0|        8|\n",
            "|0553574566| 25|      8|            3.125|        9|\n",
            "|0395977894| 10|      2|              5.0|       10|\n",
            "|0505522004|  7|      1|              7.0|        7|\n",
            "|0515137111| 18|      5|              3.6|       10|\n",
            "|0767905385| 88|     14|6.285714285714286|       10|\n",
            "|0060801115| 15|      3|              5.0|        8|\n",
            "|  19973/88|  6|      1|              6.0|        6|\n",
            "|0842329129|109|     28|3.892857142857143|       10|\n",
            "|0425168948|  7|      1|              7.0|        7|\n",
            "|3423620005| 18|      2|              9.0|        9|\n",
            "|0174434642|  8|      1|              8.0|        8|\n",
            "|0446606723|  7|      1|              7.0|        7|\n",
            "|0099428385|  8|      1|              8.0|        8|\n",
            "|0886773776| 10|      1|             10.0|       10|\n",
            "|8879830678|  5|      1|              5.0|        5|\n",
            "+----------+---+-------+-----------------+---------+\n",
            "only showing top 20 rows\n",
            "\n"
          ]
        }
      ]
    },
    {
      "cell_type": "code",
      "source": [
        "df3=df1.groupBy('isbn').agg(sum('rate').alias('sum'),count('rate').alias('countee'),avg('rate').alias('avge'),max('rate'))\n",
        "df3.filter('countee>200').filter('avge>4').show()"
      ],
      "metadata": {
        "colab": {
          "base_uri": "https://localhost:8080/"
        },
        "id": "1PPPndbvCfKo",
        "outputId": "e3d0398d-8191-40c1-e917-7483f91265db"
      },
      "execution_count": 21,
      "outputs": [
        {
          "output_type": "stream",
          "name": "stdout",
          "text": [
            "+----+---+-------+----+---------+\n",
            "|isbn|sum|countee|avge|max(rate)|\n",
            "+----+---+-------+----+---------+\n",
            "+----+---+-------+----+---------+\n",
            "\n"
          ]
        }
      ]
    },
    {
      "cell_type": "code",
      "source": [
        "df1.groupBy('isbn').count().orderBy(col('count').desc()).show()\n",
        "\n"
      ],
      "metadata": {
        "colab": {
          "base_uri": "https://localhost:8080/"
        },
        "id": "0YKOLI7lCfPA",
        "outputId": "6090815c-2c42-42ad-a35c-28f33338e7d0"
      },
      "execution_count": 22,
      "outputs": [
        {
          "output_type": "stream",
          "name": "stdout",
          "text": [
            "+----------+-----+\n",
            "|      isbn|count|\n",
            "+----------+-----+\n",
            "|0971880107|  241|\n",
            "|0316666343|  135|\n",
            "|0385504209|   92|\n",
            "|0060928336|   84|\n",
            "|0312195516|   75|\n",
            "|059035342X|   68|\n",
            "|0142001740|   65|\n",
            "|067976402X|   64|\n",
            "|0679781587|   64|\n",
            "|0446672211|   62|\n",
            "|0440214041|   59|\n",
            "|0060930535|   59|\n",
            "|0375727345|   58|\n",
            "|0156027321|   57|\n",
            "|044023722X|   56|\n",
            "|0316601950|   54|\n",
            "|0440226430|   53|\n",
            "|044021145X|   53|\n",
            "|0804106304|   52|\n",
            "|0743418174|   50|\n",
            "+----------+-----+\n",
            "only showing top 20 rows\n",
            "\n"
          ]
        }
      ]
    },
    {
      "cell_type": "code",
      "source": [
        "df3.orderBy(col('countee').desc()).show()\n"
      ],
      "metadata": {
        "colab": {
          "base_uri": "https://localhost:8080/"
        },
        "id": "T6kVocLTCfQJ",
        "outputId": "ccd97c37-3b85-4de3-8f73-ef6e23a2bf6f"
      },
      "execution_count": 23,
      "outputs": [
        {
          "output_type": "stream",
          "name": "stdout",
          "text": [
            "+----------+---+-------+------------------+---------+\n",
            "|      isbn|sum|countee|              avge|max(rate)|\n",
            "+----------+---+-------+------------------+---------+\n",
            "|0971880107|238|    241|0.9875518672199171|       10|\n",
            "|0316666343|609|    135| 4.511111111111111|       10|\n",
            "|0385504209|419|     92| 4.554347826086956|       10|\n",
            "|0060928336|331|     84|3.9404761904761907|       10|\n",
            "|0312195516|352|     75| 4.693333333333333|       10|\n",
            "|059035342X|306|     68|               4.5|       10|\n",
            "|0142001740|310|     65| 4.769230769230769|       10|\n",
            "|067976402X|221|     64|          3.453125|       10|\n",
            "|0679781587|318|     64|           4.96875|       10|\n",
            "|0446672211|274|     62| 4.419354838709677|       10|\n",
            "|0440214041|176|     59| 2.983050847457627|       10|\n",
            "|0060930535|249|     59| 4.220338983050848|       10|\n",
            "|0375727345|179|     58| 3.086206896551724|       10|\n",
            "|0156027321|204|     57|3.5789473684210527|       10|\n",
            "|044023722X|199|     56|3.5535714285714284|       10|\n",
            "|0316601950|201|     54|3.7222222222222223|       10|\n",
            "|0440226430|217|     53|  4.09433962264151|       10|\n",
            "|044021145X|158|     53| 2.981132075471698|       10|\n",
            "|0804106304|175|     52|3.3653846153846154|       10|\n",
            "|0743418174|246|     50|              4.92|       10|\n",
            "+----------+---+-------+------------------+---------+\n",
            "only showing top 20 rows\n",
            "\n"
          ]
        }
      ]
    },
    {
      "cell_type": "code",
      "source": [
        "# مبحث بعدی\n",
        "df1.createOrReplaceTempView('my_rating')"
      ],
      "metadata": {
        "id": "zTaVkmOHCfVD"
      },
      "execution_count": 24,
      "outputs": []
    },
    {
      "cell_type": "code",
      "source": [
        "spark.sql('select * from my_rating where rate > 5').show()"
      ],
      "metadata": {
        "colab": {
          "base_uri": "https://localhost:8080/"
        },
        "id": "RidP6nUrR5FN",
        "outputId": "5db76f96-26c9-4cab-c98a-4a7a063707ba"
      },
      "execution_count": 25,
      "outputs": [
        {
          "output_type": "stream",
          "name": "stdout",
          "text": [
            "+------+----------+----+\n",
            "|userid|      isbn|rate|\n",
            "+------+----------+----+\n",
            "|276729|0521795028|   6|\n",
            "|276736|3257224281|   8|\n",
            "|276737|0600570967|   6|\n",
            "|276744|038550120X|   7|\n",
            "|276745| 342310538|  10|\n",
            "|276747|0060517794|   9|\n",
            "|276747|0671537458|   9|\n",
            "|276747|0679776818|   8|\n",
            "|276747|0943066433|   7|\n",
            "|276747|1885408226|   7|\n",
            "|276748|0747558167|   6|\n",
            "|276751|3596218098|   8|\n",
            "|276754|0684867621|   8|\n",
            "|276760|8440682697|  10|\n",
            "|276762|3453092007|   8|\n",
            "|276772|0553572369|   7|\n",
            "|276772|3499230933|  10|\n",
            "|276772|3596151465|  10|\n",
            "|276774|3442136644|   9|\n",
            "|276780|8484330478|   7|\n",
            "+------+----------+----+\n",
            "only showing top 20 rows\n",
            "\n"
          ]
        }
      ]
    },
    {
      "cell_type": "code",
      "source": [
        "spark.sql('select isbn, avg(rate) as AVG from my_rating group By isbn').show()"
      ],
      "metadata": {
        "colab": {
          "base_uri": "https://localhost:8080/"
        },
        "id": "WvBq_7LWSzdd",
        "outputId": "fa1c2964-f0c4-417e-a717-5a8a14248317"
      },
      "execution_count": 26,
      "outputs": [
        {
          "output_type": "stream",
          "name": "stdout",
          "text": [
            "+----------+-----------------+\n",
            "|      isbn|              AVG|\n",
            "+----------+-----------------+\n",
            "|2080674722|              0.0|\n",
            "|3499134004|              0.0|\n",
            "|3548603203|              4.8|\n",
            "|880781112X|              6.0|\n",
            "|0738205737|              5.0|\n",
            "|0749317256|              0.0|\n",
            "|0515131520|              3.0|\n",
            "|8471662531|              7.0|\n",
            "|0441005470|              0.0|\n",
            "|0739417096|              8.0|\n",
            "|0767906373|              0.0|\n",
            "|0425087859|              0.0|\n",
            "|0553574566|            3.125|\n",
            "|0498024253|              0.0|\n",
            "|0395977894|              5.0|\n",
            "|0505522004|              7.0|\n",
            "|0425188787|             2.75|\n",
            "|0515137111|              3.6|\n",
            "|0767905385|6.285714285714286|\n",
            "|0553580906|              1.5|\n",
            "+----------+-----------------+\n",
            "only showing top 20 rows\n",
            "\n"
          ]
        }
      ]
    },
    {
      "cell_type": "code",
      "source": [
        "spark.sql('select isbn, avg(rate) as AVG from my_rating group By isbn ORDER BY AVG DESC').show()"
      ],
      "metadata": {
        "colab": {
          "base_uri": "https://localhost:8080/"
        },
        "id": "bBFnVXXaU-Lr",
        "outputId": "7e742835-dae4-4662-e6e9-1bce46f8acb6"
      },
      "execution_count": 27,
      "outputs": [
        {
          "output_type": "stream",
          "name": "stdout",
          "text": [
            "+-----------+----+\n",
            "|       isbn| AVG|\n",
            "+-----------+----+\n",
            "| 0394731271|10.0|\n",
            "| 0425182150|10.0|\n",
            "| 0690041535|10.0|\n",
            "| 0886773776|10.0|\n",
            "| 0688141862|10.0|\n",
            "| 067088782X|10.0|\n",
            "| 0945367198|10.0|\n",
            "| 0688176461|10.0|\n",
            "| 0874774357|10.0|\n",
            "| 3937341145|10.0|\n",
            "| 3257202083|10.0|\n",
            "| 0525938508|10.0|\n",
            "| 1565111575|10.0|\n",
            "| 0859051595|10.0|\n",
            "|44007424195|10.0|\n",
            "| 0803720963|10.0|\n",
            "| 8882740455|10.0|\n",
            "| 0307124568|10.0|\n",
            "| 0590683608|10.0|\n",
            "| 0333968158|10.0|\n",
            "+-----------+----+\n",
            "only showing top 20 rows\n",
            "\n"
          ]
        }
      ]
    },
    {
      "cell_type": "code",
      "source": [
        "spark.sql('select isbn, avg(rate) as AVG from my_rating group By isbn ORDER BY AVG DESC').show()"
      ],
      "metadata": {
        "colab": {
          "base_uri": "https://localhost:8080/"
        },
        "id": "umUlNSX3WaIO",
        "outputId": "91573578-0a94-4f6f-c64f-51b304c38b19"
      },
      "execution_count": 28,
      "outputs": [
        {
          "output_type": "stream",
          "name": "stdout",
          "text": [
            "+-----------+----+\n",
            "|       isbn| AVG|\n",
            "+-----------+----+\n",
            "| 0394731271|10.0|\n",
            "| 0425182150|10.0|\n",
            "| 0690041535|10.0|\n",
            "| 0886773776|10.0|\n",
            "| 0688141862|10.0|\n",
            "| 067088782X|10.0|\n",
            "| 0945367198|10.0|\n",
            "| 0688176461|10.0|\n",
            "| 0874774357|10.0|\n",
            "| 3937341145|10.0|\n",
            "| 3257202083|10.0|\n",
            "| 0525938508|10.0|\n",
            "| 1565111575|10.0|\n",
            "| 0859051595|10.0|\n",
            "|44007424195|10.0|\n",
            "| 0803720963|10.0|\n",
            "| 8882740455|10.0|\n",
            "| 0307124568|10.0|\n",
            "| 0590683608|10.0|\n",
            "| 0333968158|10.0|\n",
            "+-----------+----+\n",
            "only showing top 20 rows\n",
            "\n"
          ]
        }
      ]
    },
    {
      "cell_type": "markdown",
      "source": [
        "## next\n",
        "### join"
      ],
      "metadata": {
        "id": "9waAwXYW1_H2"
      }
    },
    {
      "cell_type": "code",
      "source": [
        "rating_df=spark.read.options(sep=';',header=True,inferSchema=True).csv('Book-Ratings.csv')\n",
        "book_df=  spark.read.options(sep=';',header=True,inferSchema=True).csv('Books.csv')\n",
        "user_df=  spark.read.options(sep=';',header=True,inferSchema=True).csv('Users.csv')\n"
      ],
      "metadata": {
        "id": "0Fz6EtGo0K2j"
      },
      "execution_count": 29,
      "outputs": []
    },
    {
      "cell_type": "code",
      "source": [
        "rating_df.printSchema()"
      ],
      "metadata": {
        "colab": {
          "base_uri": "https://localhost:8080/"
        },
        "id": "D9Oa4ti12e7U",
        "outputId": "0fe5af14-1cdd-4f7d-fda7-e5f16e9127b0"
      },
      "execution_count": 30,
      "outputs": [
        {
          "output_type": "stream",
          "name": "stdout",
          "text": [
            "root\n",
            " |-- userid: integer (nullable = true)\n",
            " |-- isbn: string (nullable = true)\n",
            " |-- rate: integer (nullable = true)\n",
            "\n"
          ]
        }
      ]
    },
    {
      "cell_type": "code",
      "source": [
        "book_df.printSchema()"
      ],
      "metadata": {
        "colab": {
          "base_uri": "https://localhost:8080/"
        },
        "id": "oUctXlXk2ns2",
        "outputId": "b94dc124-2488-409a-b172-68c4eb43136b"
      },
      "execution_count": 31,
      "outputs": [
        {
          "output_type": "stream",
          "name": "stdout",
          "text": [
            "root\n",
            " |-- ISBN: string (nullable = true)\n",
            " |-- BookTitle: string (nullable = true)\n",
            " |-- BookAuthor: string (nullable = true)\n",
            " |-- YearOfPublication: integer (nullable = true)\n",
            " |-- Publisher: string (nullable = true)\n",
            " |-- ImageURLS: string (nullable = true)\n",
            " |-- ImageURLM: string (nullable = true)\n",
            " |-- ImageURLL: string (nullable = true)\n",
            "\n"
          ]
        }
      ]
    },
    {
      "cell_type": "code",
      "source": [
        "user_df.printSchema()"
      ],
      "metadata": {
        "colab": {
          "base_uri": "https://localhost:8080/"
        },
        "id": "r5nHuQ7I2zxj",
        "outputId": "0bc7c611-43e6-4202-c7cd-e723be3b1e8c"
      },
      "execution_count": 32,
      "outputs": [
        {
          "output_type": "stream",
          "name": "stdout",
          "text": [
            "root\n",
            " |-- UserID: integer (nullable = true)\n",
            " |-- USERNAME: string (nullable = true)\n",
            " |-- Location: string (nullable = true)\n",
            " |-- Age: string (nullable = true)\n",
            "\n"
          ]
        }
      ]
    },
    {
      "cell_type": "code",
      "source": [
        "rating_df.join(user_df).show()\n",
        "# the default is cross_join"
      ],
      "metadata": {
        "colab": {
          "base_uri": "https://localhost:8080/"
        },
        "id": "VSDfOX-F256p",
        "outputId": "e16343bd-6c67-41ef-9970-9adadf876f2d"
      },
      "execution_count": 33,
      "outputs": [
        {
          "output_type": "stream",
          "name": "stdout",
          "text": [
            "+------+----------+----+------+-----------+------------------+----+\n",
            "|userid|      isbn|rate|UserID|   USERNAME|          Location| Age|\n",
            "+------+----------+----+------+-----------+------------------+----+\n",
            "|276725|034545104X|   0|     1|bzsufoRTLN2|nyc, new york, usa|NULL|\n",
            "|276726|0155061224|   5|     1|bzsufoRTLN2|nyc, new york, usa|NULL|\n",
            "|276727|0446520802|   0|     1|bzsufoRTLN2|nyc, new york, usa|NULL|\n",
            "|276729|052165615X|   3|     1|bzsufoRTLN2|nyc, new york, usa|NULL|\n",
            "|276729|0521795028|   6|     1|bzsufoRTLN2|nyc, new york, usa|NULL|\n",
            "|276733|2080674722|   0|     1|bzsufoRTLN2|nyc, new york, usa|NULL|\n",
            "|276736|3257224281|   8|     1|bzsufoRTLN2|nyc, new york, usa|NULL|\n",
            "|276737|0600570967|   6|     1|bzsufoRTLN2|nyc, new york, usa|NULL|\n",
            "|276744|038550120X|   7|     1|bzsufoRTLN2|nyc, new york, usa|NULL|\n",
            "|276745| 342310538|  10|     1|bzsufoRTLN2|nyc, new york, usa|NULL|\n",
            "|276746|0425115801|   0|     1|bzsufoRTLN2|nyc, new york, usa|NULL|\n",
            "|276746|0449006522|   0|     1|bzsufoRTLN2|nyc, new york, usa|NULL|\n",
            "|276746|0553561618|   0|     1|bzsufoRTLN2|nyc, new york, usa|NULL|\n",
            "|276746|055356451X|   0|     1|bzsufoRTLN2|nyc, new york, usa|NULL|\n",
            "|276746|0786013990|   0|     1|bzsufoRTLN2|nyc, new york, usa|NULL|\n",
            "|276746|0786014512|   0|     1|bzsufoRTLN2|nyc, new york, usa|NULL|\n",
            "|276747|0060517794|   9|     1|bzsufoRTLN2|nyc, new york, usa|NULL|\n",
            "|276747|0451192001|   0|     1|bzsufoRTLN2|nyc, new york, usa|NULL|\n",
            "|276747|0609801279|   0|     1|bzsufoRTLN2|nyc, new york, usa|NULL|\n",
            "|276747|0671537458|   9|     1|bzsufoRTLN2|nyc, new york, usa|NULL|\n",
            "+------+----------+----+------+-----------+------------------+----+\n",
            "only showing top 20 rows\n",
            "\n"
          ]
        }
      ]
    },
    {
      "cell_type": "code",
      "source": [
        "rating_df.join(user_df,rating_df['userid']==user_df['UserID']).show()\n",
        "# جوین با شرط"
      ],
      "metadata": {
        "colab": {
          "base_uri": "https://localhost:8080/"
        },
        "id": "vJpCOlh14DAX",
        "outputId": "bcd22825-1a43-460b-d466-ef080648772e"
      },
      "execution_count": 34,
      "outputs": [
        {
          "output_type": "stream",
          "name": "stdout",
          "text": [
            "+------+----------+----+------+-----------+--------------------+----+\n",
            "|userid|      isbn|rate|UserID|   USERNAME|            Location| Age|\n",
            "+------+----------+----+------+-----------+--------------------+----+\n",
            "|     2|0195153448|   0|     2|fq7kfHg4VEI|stockton, califor...|  18|\n",
            "|     7| 034542252|   0|     7|7rdddpZpjWp| washington, dc, usa|NULL|\n",
            "|     8|1881320189|   7|     8|qiOJebWJS2i|timmins, ontario,...|NULL|\n",
            "|     8|1575663937|   6|     8|qiOJebWJS2i|timmins, ontario,...|NULL|\n",
            "|     8|1567407781|   6|     8|qiOJebWJS2i|timmins, ontario,...|NULL|\n",
            "|     8|1558746218|   0|     8|qiOJebWJS2i|timmins, ontario,...|NULL|\n",
            "|     8|1552041778|   5|     8|qiOJebWJS2i|timmins, ontario,...|NULL|\n",
            "|     8|0887841740|   5|     8|qiOJebWJS2i|timmins, ontario,...|NULL|\n",
            "|     8|080652121X|   0|     8|qiOJebWJS2i|timmins, ontario,...|NULL|\n",
            "|     8|0771074670|   0|     8|qiOJebWJS2i|timmins, ontario,...|NULL|\n",
            "|     8|0771025661|   0|     8|qiOJebWJS2i|timmins, ontario,...|NULL|\n",
            "|     8|074322678X|   5|     8|qiOJebWJS2i|timmins, ontario,...|NULL|\n",
            "|     8|0679425608|   0|     8|qiOJebWJS2i|timmins, ontario,...|NULL|\n",
            "|     8|0671870432|   0|     8|qiOJebWJS2i|timmins, ontario,...|NULL|\n",
            "|     8|0425176428|   0|     8|qiOJebWJS2i|timmins, ontario,...|NULL|\n",
            "|     8|0399135782|   0|     8|qiOJebWJS2i|timmins, ontario,...|NULL|\n",
            "|     8|0393045218|   0|     8|qiOJebWJS2i|timmins, ontario,...|NULL|\n",
            "|     8|0374157065|   0|     8|qiOJebWJS2i|timmins, ontario,...|NULL|\n",
            "|     8|0060973129|   0|     8|qiOJebWJS2i|timmins, ontario,...|NULL|\n",
            "|     8|0002005018|   5|     8|qiOJebWJS2i|timmins, ontario,...|NULL|\n",
            "+------+----------+----+------+-----------+--------------------+----+\n",
            "only showing top 20 rows\n",
            "\n"
          ]
        }
      ]
    },
    {
      "cell_type": "code",
      "source": [
        "rating_df.join(user_df,rating_df['userid']==user_df['UserID']).show(truncate=False)\n"
      ],
      "metadata": {
        "colab": {
          "base_uri": "https://localhost:8080/"
        },
        "id": "oGunCNNq6bfj",
        "outputId": "fdc49db5-f578-474d-942d-4e31b3510e85"
      },
      "execution_count": 35,
      "outputs": [
        {
          "output_type": "stream",
          "name": "stdout",
          "text": [
            "+------+----------+----+------+-----------+-------------------------+----+\n",
            "|userid|isbn      |rate|UserID|USERNAME   |Location                 |Age |\n",
            "+------+----------+----+------+-----------+-------------------------+----+\n",
            "|2     |0195153448|0   |2     |fq7kfHg4VEI|stockton, california, usa|18  |\n",
            "|7     |034542252 |0   |7     |7rdddpZpjWp|washington, dc, usa      |NULL|\n",
            "|8     |1881320189|7   |8     |qiOJebWJS2i|timmins, ontario, canada |NULL|\n",
            "|8     |1575663937|6   |8     |qiOJebWJS2i|timmins, ontario, canada |NULL|\n",
            "|8     |1567407781|6   |8     |qiOJebWJS2i|timmins, ontario, canada |NULL|\n",
            "|8     |1558746218|0   |8     |qiOJebWJS2i|timmins, ontario, canada |NULL|\n",
            "|8     |1552041778|5   |8     |qiOJebWJS2i|timmins, ontario, canada |NULL|\n",
            "|8     |0887841740|5   |8     |qiOJebWJS2i|timmins, ontario, canada |NULL|\n",
            "|8     |080652121X|0   |8     |qiOJebWJS2i|timmins, ontario, canada |NULL|\n",
            "|8     |0771074670|0   |8     |qiOJebWJS2i|timmins, ontario, canada |NULL|\n",
            "|8     |0771025661|0   |8     |qiOJebWJS2i|timmins, ontario, canada |NULL|\n",
            "|8     |074322678X|5   |8     |qiOJebWJS2i|timmins, ontario, canada |NULL|\n",
            "|8     |0679425608|0   |8     |qiOJebWJS2i|timmins, ontario, canada |NULL|\n",
            "|8     |0671870432|0   |8     |qiOJebWJS2i|timmins, ontario, canada |NULL|\n",
            "|8     |0425176428|0   |8     |qiOJebWJS2i|timmins, ontario, canada |NULL|\n",
            "|8     |0399135782|0   |8     |qiOJebWJS2i|timmins, ontario, canada |NULL|\n",
            "|8     |0393045218|0   |8     |qiOJebWJS2i|timmins, ontario, canada |NULL|\n",
            "|8     |0374157065|0   |8     |qiOJebWJS2i|timmins, ontario, canada |NULL|\n",
            "|8     |0060973129|0   |8     |qiOJebWJS2i|timmins, ontario, canada |NULL|\n",
            "|8     |0002005018|5   |8     |qiOJebWJS2i|timmins, ontario, canada |NULL|\n",
            "+------+----------+----+------+-----------+-------------------------+----+\n",
            "only showing top 20 rows\n",
            "\n"
          ]
        }
      ]
    },
    {
      "cell_type": "code",
      "source": [
        "joinType='left_anti'\n",
        "join_exp=rating_df['userid']==user_df['UserID']\n",
        "rating_df.join(user_df,join_exp , joinType).show(truncate=True)\n"
      ],
      "metadata": {
        "id": "V1VOLbUI7k_B",
        "colab": {
          "base_uri": "https://localhost:8080/"
        },
        "outputId": "839e88ef-58fa-49bb-bfcb-6d3a3209c9ce"
      },
      "execution_count": 38,
      "outputs": [
        {
          "output_type": "stream",
          "name": "stdout",
          "text": [
            "+------+----------+----+\n",
            "|userid|      isbn|rate|\n",
            "+------+----------+----+\n",
            "|276725|034545104X|   0|\n",
            "|276726|0155061224|   5|\n",
            "|276727|0446520802|   0|\n",
            "|276729|052165615X|   3|\n",
            "|276729|0521795028|   6|\n",
            "|276733|2080674722|   0|\n",
            "|276736|3257224281|   8|\n",
            "|276737|0600570967|   6|\n",
            "|276744|038550120X|   7|\n",
            "|276745| 342310538|  10|\n",
            "|276746|0425115801|   0|\n",
            "|276746|0449006522|   0|\n",
            "|276746|0553561618|   0|\n",
            "|276746|055356451X|   0|\n",
            "|276746|0786013990|   0|\n",
            "|276746|0786014512|   0|\n",
            "|276747|0060517794|   9|\n",
            "|276747|0451192001|   0|\n",
            "|276747|0609801279|   0|\n",
            "|276747|0671537458|   9|\n",
            "+------+----------+----+\n",
            "only showing top 20 rows\n",
            "\n"
          ]
        }
      ]
    },
    {
      "cell_type": "code",
      "source": [
        "type(join_exp)"
      ],
      "metadata": {
        "colab": {
          "base_uri": "https://localhost:8080/"
        },
        "id": "c9BtRTfU3mfv",
        "outputId": "1f55b707-b473-48f7-f87e-23d0abdb7c3e"
      },
      "execution_count": 39,
      "outputs": [
        {
          "output_type": "execute_result",
          "data": {
            "text/plain": [
              "pyspark.sql.column.Column"
            ]
          },
          "metadata": {},
          "execution_count": 39
        }
      ]
    },
    {
      "cell_type": "code",
      "source": [
        "joinType='left_anti'\n",
        "join_exp=rating_df['userid']==user_df['UserID']\n",
        "rating_df.join(user_df, join_exp , joinType).count()\n"
      ],
      "metadata": {
        "colab": {
          "base_uri": "https://localhost:8080/"
        },
        "id": "3pjsfgXP5F1M",
        "outputId": "0cb4081e-6abe-49c6-fe98-3c6bc3c483f3"
      },
      "execution_count": 41,
      "outputs": [
        {
          "output_type": "execute_result",
          "data": {
            "text/plain": [
              "9578"
            ]
          },
          "metadata": {},
          "execution_count": 41
        }
      ]
    },
    {
      "cell_type": "code",
      "source": [
        "print(rating_df.count())\n",
        "print(user_df.count())\n",
        "print(282381 *147789)\n",
        "print(rating_df.join(user_df).count())"
      ],
      "metadata": {
        "colab": {
          "base_uri": "https://localhost:8080/"
        },
        "id": "ifOKia6276xT",
        "outputId": "31aed043-43f0-45ee-c219-f345621842e6"
      },
      "execution_count": 50,
      "outputs": [
        {
          "output_type": "stream",
          "name": "stdout",
          "text": [
            "282381\n",
            "147789\n",
            "41732805609\n",
            "41732805609\n"
          ]
        }
      ]
    },
    {
      "cell_type": "markdown",
      "source": [
        "# next"
      ],
      "metadata": {
        "id": "q7LVWpfuBm1a"
      }
    },
    {
      "cell_type": "code",
      "source": [
        "rating_df.createOrReplaceTempView('rating')\n",
        "user_df.createOrReplaceTempView('users')\n",
        "book_df.createOrReplaceTempView('books')\n"
      ],
      "metadata": {
        "id": "UKCj_ZLs9Z5l"
      },
      "execution_count": 51,
      "outputs": []
    },
    {
      "cell_type": "code",
      "source": [
        "spark.sql('SELECT * FROM rating,users,books WHERE rating.userid==users.userid AND rating.isbn== books.isbn').show()"
      ],
      "metadata": {
        "colab": {
          "base_uri": "https://localhost:8080/"
        },
        "id": "HzjeAQoqB2Wd",
        "outputId": "f6fa706d-2565-4fe1-e6a1-5ca62528b8e8"
      },
      "execution_count": 54,
      "outputs": [
        {
          "output_type": "stream",
          "name": "stdout",
          "text": [
            "+------+----------+----+------+-----------+--------------------+----+----------+--------------------+--------------------+-----------------+--------------------+--------------------+--------------------+--------------------+\n",
            "|userid|      isbn|rate|UserID|   USERNAME|            Location| Age|      ISBN|           BookTitle|          BookAuthor|YearOfPublication|           Publisher|           ImageURLS|           ImageURLM|           ImageURLL|\n",
            "+------+----------+----+------+-----------+--------------------+----+----------+--------------------+--------------------+-----------------+--------------------+--------------------+--------------------+--------------------+\n",
            "|     2|0195153448|   0|     2|fq7kfHg4VEI|stockton, califor...|  18|0195153448| Classical Mythology|  Mark P. O. Morford|             2002|Oxford University...|http://images.ama...|http://images.ama...|http://images.ama...|\n",
            "|     8|1881320189|   7|     8|qiOJebWJS2i|timmins, ontario,...|NULL|1881320189|Goodbye to the Bu...|        Julia Oliver|             1994|      River City Pub|http://images.ama...|http://images.ama...|http://images.ama...|\n",
            "|     8|1575663937|   6|     8|qiOJebWJS2i|timmins, ontario,...|NULL|1575663937|More Cunning Than...|  Robert Hendrickson|             1999|Kensington Publis...|http://images.ama...|http://images.ama...|http://images.ama...|\n",
            "|     8|1567407781|   6|     8|qiOJebWJS2i|timmins, ontario,...|NULL|1567407781|The Witchfinder (...|   Loren D. Estleman|             1998|Brilliance Audio ...|http://images.ama...|http://images.ama...|http://images.ama...|\n",
            "|     8|1558746218|   0|     8|qiOJebWJS2i|timmins, ontario,...|NULL|1558746218|A Second Chicken ...|       Jack Canfield|             1998|Health Communicat...|http://images.ama...|http://images.ama...|http://images.ama...|\n",
            "|     8|1552041778|   5|     8|qiOJebWJS2i|timmins, ontario,...|NULL|1552041778|            Jane Doe|        R. J. Kaiser|             1999|          Mira Books|http://images.ama...|http://images.ama...|http://images.ama...|\n",
            "|     8|0887841740|   5|     8|qiOJebWJS2i|timmins, ontario,...|NULL|0887841740|  The Middle Stories|         Sheila Heti|             2004|House of Anansi P...|http://images.ama...|http://images.ama...|http://images.ama...|\n",
            "|     8|080652121X|   0|     8|qiOJebWJS2i|timmins, ontario,...|NULL|080652121X|Hitler's Secret B...|          Adam Lebor|             2000|       Citadel Press|http://images.ama...|http://images.ama...|http://images.ama...|\n",
            "|     8|0771074670|   0|     8|qiOJebWJS2i|timmins, ontario,...|NULL|0771074670|Nights Below Stat...|David Adams Richards|             1988|     Emblem Editions|http://images.ama...|http://images.ama...|http://images.ama...|\n",
            "|     8|074322678X|   5|     8|qiOJebWJS2i|timmins, ontario,...|NULL|074322678X|Where You'll Find...|         Ann Beattie|             2002|            Scribner|http://images.ama...|http://images.ama...|http://images.ama...|\n",
            "|     8|0679425608|   0|     8|qiOJebWJS2i|timmins, ontario,...|NULL|0679425608|Under the Black F...|     David Cordingly|             1996|        Random House|http://images.ama...|http://images.ama...|http://images.ama...|\n",
            "|     8|0671870432|   0|     8|qiOJebWJS2i|timmins, ontario,...|NULL|0671870432|     PLEADING GUILTY|         Scott Turow|             1993|          Audioworks|http://images.ama...|http://images.ama...|http://images.ama...|\n",
            "|     8|0425176428|   0|     8|qiOJebWJS2i|timmins, ontario,...|NULL|0425176428|What If?: The Wor...|       Robert Cowley|             2000|Berkley Publishin...|http://images.ama...|http://images.ama...|http://images.ama...|\n",
            "|     8|0399135782|   0|     8|qiOJebWJS2i|timmins, ontario,...|NULL|0399135782|The Kitchen God's...|             Amy Tan|             1991|    Putnam Pub Group|http://images.ama...|http://images.ama...|http://images.ama...|\n",
            "|     8|0393045218|   0|     8|qiOJebWJS2i|timmins, ontario,...|NULL|0393045218|The Mummies of Ur...|     E. J. W. Barber|             1999|W. W. Norton &amp...|http://images.ama...|http://images.ama...|http://images.ama...|\n",
            "|     8|0374157065|   0|     8|qiOJebWJS2i|timmins, ontario,...|NULL|0374157065|Flu: The Story of...|    Gina Bari Kolata|             1999|Farrar Straus Giroux|http://images.ama...|http://images.ama...|http://images.ama...|\n",
            "|     8|0060973129|   0|     8|qiOJebWJS2i|timmins, ontario,...|NULL|0060973129|Decision in Normandy|        Carlo D'Este|             1991|     HarperPerennial|http://images.ama...|http://images.ama...|http://images.ama...|\n",
            "|     8|0002005018|   5|     8|qiOJebWJS2i|timmins, ontario,...|NULL|0002005018|        Clara Callan|Richard Bruce Wright|             2001|HarperFlamingo Ca...|http://images.ama...|http://images.ama...|http://images.ama...|\n",
            "|     9|0609804618|   0|     9|gkcxQJLS13A|germantown, tenne...|NULL|0609804618|Our Dumb Century:...|           The Onion|             1999|  Three Rivers Press|http://images.ama...|http://images.ama...|http://images.ama...|\n",
            "|     9|0452264464|   6|     9|gkcxQJLS13A|germantown, tenne...|NULL|0452264464|Beloved (Plume Co...|       Toni Morrison|             1994|               Plume|http://images.ama...|http://images.ama...|http://images.ama...|\n",
            "+------+----------+----+------+-----------+--------------------+----+----------+--------------------+--------------------+-----------------+--------------------+--------------------+--------------------+--------------------+\n",
            "only showing top 20 rows\n",
            "\n"
          ]
        }
      ]
    },
    {
      "cell_type": "code",
      "source": [
        "spark.sql('SELECT * FROM rating,users,books WHERE rating.userid==users.userid AND rating.isbn== books.isbn').show(truncate=False,vertical=True)"
      ],
      "metadata": {
        "colab": {
          "base_uri": "https://localhost:8080/"
        },
        "id": "Z1j2x9OhC6I2",
        "outputId": "1441f45e-7791-4518-e5b5-e5d430e6dba3"
      },
      "execution_count": 55,
      "outputs": [
        {
          "output_type": "stream",
          "name": "stdout",
          "text": [
            "-RECORD 0---------------------------------------------------------------------------------------------------------------\n",
            " userid            | 2                                                                                                  \n",
            " isbn              | 0195153448                                                                                         \n",
            " rate              | 0                                                                                                  \n",
            " UserID            | 2                                                                                                  \n",
            " USERNAME          | fq7kfHg4VEI                                                                                        \n",
            " Location          | stockton, california, usa                                                                          \n",
            " Age               | 18                                                                                                 \n",
            " ISBN              | 0195153448                                                                                         \n",
            " BookTitle         | Classical Mythology                                                                                \n",
            " BookAuthor        | Mark P. O. Morford                                                                                 \n",
            " YearOfPublication | 2002                                                                                               \n",
            " Publisher         | Oxford University Press                                                                            \n",
            " ImageURLS         | http://images.amazon.com/images/P/0195153448.01.THUMBZZZ.jpg                                       \n",
            " ImageURLM         | http://images.amazon.com/images/P/0195153448.01.MZZZZZZZ.jpg                                       \n",
            " ImageURLL         | http://images.amazon.com/images/P/0195153448.01.LZZZZZZZ.jpg                                       \n",
            "-RECORD 1---------------------------------------------------------------------------------------------------------------\n",
            " userid            | 8                                                                                                  \n",
            " isbn              | 1881320189                                                                                         \n",
            " rate              | 7                                                                                                  \n",
            " UserID            | 8                                                                                                  \n",
            " USERNAME          | qiOJebWJS2i                                                                                        \n",
            " Location          | timmins, ontario, canada                                                                           \n",
            " Age               | NULL                                                                                               \n",
            " ISBN              | 1881320189                                                                                         \n",
            " BookTitle         | Goodbye to the Buttermilk Sky                                                                      \n",
            " BookAuthor        | Julia Oliver                                                                                       \n",
            " YearOfPublication | 1994                                                                                               \n",
            " Publisher         | River City Pub                                                                                     \n",
            " ImageURLS         | http://images.amazon.com/images/P/1881320189.01.THUMBZZZ.jpg                                       \n",
            " ImageURLM         | http://images.amazon.com/images/P/1881320189.01.MZZZZZZZ.jpg                                       \n",
            " ImageURLL         | http://images.amazon.com/images/P/1881320189.01.LZZZZZZZ.jpg                                       \n",
            "-RECORD 2---------------------------------------------------------------------------------------------------------------\n",
            " userid            | 8                                                                                                  \n",
            " isbn              | 1575663937                                                                                         \n",
            " rate              | 6                                                                                                  \n",
            " UserID            | 8                                                                                                  \n",
            " USERNAME          | qiOJebWJS2i                                                                                        \n",
            " Location          | timmins, ontario, canada                                                                           \n",
            " Age               | NULL                                                                                               \n",
            " ISBN              | 1575663937                                                                                         \n",
            " BookTitle         | More Cunning Than Man: A Social History of Rats and Man                                            \n",
            " BookAuthor        | Robert Hendrickson                                                                                 \n",
            " YearOfPublication | 1999                                                                                               \n",
            " Publisher         | Kensington Publishing Corp.                                                                        \n",
            " ImageURLS         | http://images.amazon.com/images/P/1575663937.01.THUMBZZZ.jpg                                       \n",
            " ImageURLM         | http://images.amazon.com/images/P/1575663937.01.MZZZZZZZ.jpg                                       \n",
            " ImageURLL         | http://images.amazon.com/images/P/1575663937.01.LZZZZZZZ.jpg                                       \n",
            "-RECORD 3---------------------------------------------------------------------------------------------------------------\n",
            " userid            | 8                                                                                                  \n",
            " isbn              | 1567407781                                                                                         \n",
            " rate              | 6                                                                                                  \n",
            " UserID            | 8                                                                                                  \n",
            " USERNAME          | qiOJebWJS2i                                                                                        \n",
            " Location          | timmins, ontario, canada                                                                           \n",
            " Age               | NULL                                                                                               \n",
            " ISBN              | 1567407781                                                                                         \n",
            " BookTitle         | The Witchfinder (Amos Walker Mystery Series)                                                       \n",
            " BookAuthor        | Loren D. Estleman                                                                                  \n",
            " YearOfPublication | 1998                                                                                               \n",
            " Publisher         | Brilliance Audio - Trade                                                                           \n",
            " ImageURLS         | http://images.amazon.com/images/P/1567407781.01.THUMBZZZ.jpg                                       \n",
            " ImageURLM         | http://images.amazon.com/images/P/1567407781.01.MZZZZZZZ.jpg                                       \n",
            " ImageURLL         | http://images.amazon.com/images/P/1567407781.01.LZZZZZZZ.jpg                                       \n",
            "-RECORD 4---------------------------------------------------------------------------------------------------------------\n",
            " userid            | 8                                                                                                  \n",
            " isbn              | 1558746218                                                                                         \n",
            " rate              | 0                                                                                                  \n",
            " UserID            | 8                                                                                                  \n",
            " USERNAME          | qiOJebWJS2i                                                                                        \n",
            " Location          | timmins, ontario, canada                                                                           \n",
            " Age               | NULL                                                                                               \n",
            " ISBN              | 1558746218                                                                                         \n",
            " BookTitle         | A Second Chicken Soup for the Woman's Soul (Chicken Soup for the Soul Series)                      \n",
            " BookAuthor        | Jack Canfield                                                                                      \n",
            " YearOfPublication | 1998                                                                                               \n",
            " Publisher         | Health Communications                                                                              \n",
            " ImageURLS         | http://images.amazon.com/images/P/1558746218.01.THUMBZZZ.jpg                                       \n",
            " ImageURLM         | http://images.amazon.com/images/P/1558746218.01.MZZZZZZZ.jpg                                       \n",
            " ImageURLL         | http://images.amazon.com/images/P/1558746218.01.LZZZZZZZ.jpg                                       \n",
            "-RECORD 5---------------------------------------------------------------------------------------------------------------\n",
            " userid            | 8                                                                                                  \n",
            " isbn              | 1552041778                                                                                         \n",
            " rate              | 5                                                                                                  \n",
            " UserID            | 8                                                                                                  \n",
            " USERNAME          | qiOJebWJS2i                                                                                        \n",
            " Location          | timmins, ontario, canada                                                                           \n",
            " Age               | NULL                                                                                               \n",
            " ISBN              | 1552041778                                                                                         \n",
            " BookTitle         | Jane Doe                                                                                           \n",
            " BookAuthor        | R. J. Kaiser                                                                                       \n",
            " YearOfPublication | 1999                                                                                               \n",
            " Publisher         | Mira Books                                                                                         \n",
            " ImageURLS         | http://images.amazon.com/images/P/1552041778.01.THUMBZZZ.jpg                                       \n",
            " ImageURLM         | http://images.amazon.com/images/P/1552041778.01.MZZZZZZZ.jpg                                       \n",
            " ImageURLL         | http://images.amazon.com/images/P/1552041778.01.LZZZZZZZ.jpg                                       \n",
            "-RECORD 6---------------------------------------------------------------------------------------------------------------\n",
            " userid            | 8                                                                                                  \n",
            " isbn              | 0887841740                                                                                         \n",
            " rate              | 5                                                                                                  \n",
            " UserID            | 8                                                                                                  \n",
            " USERNAME          | qiOJebWJS2i                                                                                        \n",
            " Location          | timmins, ontario, canada                                                                           \n",
            " Age               | NULL                                                                                               \n",
            " ISBN              | 0887841740                                                                                         \n",
            " BookTitle         | The Middle Stories                                                                                 \n",
            " BookAuthor        | Sheila Heti                                                                                        \n",
            " YearOfPublication | 2004                                                                                               \n",
            " Publisher         | House of Anansi Press                                                                              \n",
            " ImageURLS         | http://images.amazon.com/images/P/0887841740.01.THUMBZZZ.jpg                                       \n",
            " ImageURLM         | http://images.amazon.com/images/P/0887841740.01.MZZZZZZZ.jpg                                       \n",
            " ImageURLL         | http://images.amazon.com/images/P/0887841740.01.LZZZZZZZ.jpg                                       \n",
            "-RECORD 7---------------------------------------------------------------------------------------------------------------\n",
            " userid            | 8                                                                                                  \n",
            " isbn              | 080652121X                                                                                         \n",
            " rate              | 0                                                                                                  \n",
            " UserID            | 8                                                                                                  \n",
            " USERNAME          | qiOJebWJS2i                                                                                        \n",
            " Location          | timmins, ontario, canada                                                                           \n",
            " Age               | NULL                                                                                               \n",
            " ISBN              | 080652121X                                                                                         \n",
            " BookTitle         | Hitler's Secret Bankers: The Myth of Swiss Neutrality During the Holocaust                         \n",
            " BookAuthor        | Adam Lebor                                                                                         \n",
            " YearOfPublication | 2000                                                                                               \n",
            " Publisher         | Citadel Press                                                                                      \n",
            " ImageURLS         | http://images.amazon.com/images/P/080652121X.01.THUMBZZZ.jpg                                       \n",
            " ImageURLM         | http://images.amazon.com/images/P/080652121X.01.MZZZZZZZ.jpg                                       \n",
            " ImageURLL         | http://images.amazon.com/images/P/080652121X.01.LZZZZZZZ.jpg                                       \n",
            "-RECORD 8---------------------------------------------------------------------------------------------------------------\n",
            " userid            | 8                                                                                                  \n",
            " isbn              | 0771074670                                                                                         \n",
            " rate              | 0                                                                                                  \n",
            " UserID            | 8                                                                                                  \n",
            " USERNAME          | qiOJebWJS2i                                                                                        \n",
            " Location          | timmins, ontario, canada                                                                           \n",
            " Age               | NULL                                                                                               \n",
            " ISBN              | 0771074670                                                                                         \n",
            " BookTitle         | Nights Below Station Street                                                                        \n",
            " BookAuthor        | David Adams Richards                                                                               \n",
            " YearOfPublication | 1988                                                                                               \n",
            " Publisher         | Emblem Editions                                                                                    \n",
            " ImageURLS         | http://images.amazon.com/images/P/0771074670.01.THUMBZZZ.jpg                                       \n",
            " ImageURLM         | http://images.amazon.com/images/P/0771074670.01.MZZZZZZZ.jpg                                       \n",
            " ImageURLL         | http://images.amazon.com/images/P/0771074670.01.LZZZZZZZ.jpg                                       \n",
            "-RECORD 9---------------------------------------------------------------------------------------------------------------\n",
            " userid            | 8                                                                                                  \n",
            " isbn              | 074322678X                                                                                         \n",
            " rate              | 5                                                                                                  \n",
            " UserID            | 8                                                                                                  \n",
            " USERNAME          | qiOJebWJS2i                                                                                        \n",
            " Location          | timmins, ontario, canada                                                                           \n",
            " Age               | NULL                                                                                               \n",
            " ISBN              | 074322678X                                                                                         \n",
            " BookTitle         | Where You'll Find Me: And Other Stories                                                            \n",
            " BookAuthor        | Ann Beattie                                                                                        \n",
            " YearOfPublication | 2002                                                                                               \n",
            " Publisher         | Scribner                                                                                           \n",
            " ImageURLS         | http://images.amazon.com/images/P/074322678X.01.THUMBZZZ.jpg                                       \n",
            " ImageURLM         | http://images.amazon.com/images/P/074322678X.01.MZZZZZZZ.jpg                                       \n",
            " ImageURLL         | http://images.amazon.com/images/P/074322678X.01.LZZZZZZZ.jpg                                       \n",
            "-RECORD 10--------------------------------------------------------------------------------------------------------------\n",
            " userid            | 8                                                                                                  \n",
            " isbn              | 0679425608                                                                                         \n",
            " rate              | 0                                                                                                  \n",
            " UserID            | 8                                                                                                  \n",
            " USERNAME          | qiOJebWJS2i                                                                                        \n",
            " Location          | timmins, ontario, canada                                                                           \n",
            " Age               | NULL                                                                                               \n",
            " ISBN              | 0679425608                                                                                         \n",
            " BookTitle         | Under the Black Flag: The Romance and the Reality of Life Among the Pirates                        \n",
            " BookAuthor        | David Cordingly                                                                                    \n",
            " YearOfPublication | 1996                                                                                               \n",
            " Publisher         | Random House                                                                                       \n",
            " ImageURLS         | http://images.amazon.com/images/P/0679425608.01.THUMBZZZ.jpg                                       \n",
            " ImageURLM         | http://images.amazon.com/images/P/0679425608.01.MZZZZZZZ.jpg                                       \n",
            " ImageURLL         | http://images.amazon.com/images/P/0679425608.01.LZZZZZZZ.jpg                                       \n",
            "-RECORD 11--------------------------------------------------------------------------------------------------------------\n",
            " userid            | 8                                                                                                  \n",
            " isbn              | 0671870432                                                                                         \n",
            " rate              | 0                                                                                                  \n",
            " UserID            | 8                                                                                                  \n",
            " USERNAME          | qiOJebWJS2i                                                                                        \n",
            " Location          | timmins, ontario, canada                                                                           \n",
            " Age               | NULL                                                                                               \n",
            " ISBN              | 0671870432                                                                                         \n",
            " BookTitle         | PLEADING GUILTY                                                                                    \n",
            " BookAuthor        | Scott Turow                                                                                        \n",
            " YearOfPublication | 1993                                                                                               \n",
            " Publisher         | Audioworks                                                                                         \n",
            " ImageURLS         | http://images.amazon.com/images/P/0671870432.01.THUMBZZZ.jpg                                       \n",
            " ImageURLM         | http://images.amazon.com/images/P/0671870432.01.MZZZZZZZ.jpg                                       \n",
            " ImageURLL         | http://images.amazon.com/images/P/0671870432.01.LZZZZZZZ.jpg                                       \n",
            "-RECORD 12--------------------------------------------------------------------------------------------------------------\n",
            " userid            | 8                                                                                                  \n",
            " isbn              | 0425176428                                                                                         \n",
            " rate              | 0                                                                                                  \n",
            " UserID            | 8                                                                                                  \n",
            " USERNAME          | qiOJebWJS2i                                                                                        \n",
            " Location          | timmins, ontario, canada                                                                           \n",
            " Age               | NULL                                                                                               \n",
            " ISBN              | 0425176428                                                                                         \n",
            " BookTitle         | What If?: The World's Foremost Military Historians Imagine What Might Have Been                    \n",
            " BookAuthor        | Robert Cowley                                                                                      \n",
            " YearOfPublication | 2000                                                                                               \n",
            " Publisher         | Berkley Publishing Group                                                                           \n",
            " ImageURLS         | http://images.amazon.com/images/P/0425176428.01.THUMBZZZ.jpg                                       \n",
            " ImageURLM         | http://images.amazon.com/images/P/0425176428.01.MZZZZZZZ.jpg                                       \n",
            " ImageURLL         | http://images.amazon.com/images/P/0425176428.01.LZZZZZZZ.jpg                                       \n",
            "-RECORD 13--------------------------------------------------------------------------------------------------------------\n",
            " userid            | 8                                                                                                  \n",
            " isbn              | 0399135782                                                                                         \n",
            " rate              | 0                                                                                                  \n",
            " UserID            | 8                                                                                                  \n",
            " USERNAME          | qiOJebWJS2i                                                                                        \n",
            " Location          | timmins, ontario, canada                                                                           \n",
            " Age               | NULL                                                                                               \n",
            " ISBN              | 0399135782                                                                                         \n",
            " BookTitle         | The Kitchen God's Wife                                                                             \n",
            " BookAuthor        | Amy Tan                                                                                            \n",
            " YearOfPublication | 1991                                                                                               \n",
            " Publisher         | Putnam Pub Group                                                                                   \n",
            " ImageURLS         | http://images.amazon.com/images/P/0399135782.01.THUMBZZZ.jpg                                       \n",
            " ImageURLM         | http://images.amazon.com/images/P/0399135782.01.MZZZZZZZ.jpg                                       \n",
            " ImageURLL         | http://images.amazon.com/images/P/0399135782.01.LZZZZZZZ.jpg                                       \n",
            "-RECORD 14--------------------------------------------------------------------------------------------------------------\n",
            " userid            | 8                                                                                                  \n",
            " isbn              | 0393045218                                                                                         \n",
            " rate              | 0                                                                                                  \n",
            " UserID            | 8                                                                                                  \n",
            " USERNAME          | qiOJebWJS2i                                                                                        \n",
            " Location          | timmins, ontario, canada                                                                           \n",
            " Age               | NULL                                                                                               \n",
            " ISBN              | 0393045218                                                                                         \n",
            " BookTitle         | The Mummies of Urumchi                                                                             \n",
            " BookAuthor        | E. J. W. Barber                                                                                    \n",
            " YearOfPublication | 1999                                                                                               \n",
            " Publisher         | W. W. Norton &amp; Company                                                                         \n",
            " ImageURLS         | http://images.amazon.com/images/P/0393045218.01.THUMBZZZ.jpg                                       \n",
            " ImageURLM         | http://images.amazon.com/images/P/0393045218.01.MZZZZZZZ.jpg                                       \n",
            " ImageURLL         | http://images.amazon.com/images/P/0393045218.01.LZZZZZZZ.jpg                                       \n",
            "-RECORD 15--------------------------------------------------------------------------------------------------------------\n",
            " userid            | 8                                                                                                  \n",
            " isbn              | 0374157065                                                                                         \n",
            " rate              | 0                                                                                                  \n",
            " UserID            | 8                                                                                                  \n",
            " USERNAME          | qiOJebWJS2i                                                                                        \n",
            " Location          | timmins, ontario, canada                                                                           \n",
            " Age               | NULL                                                                                               \n",
            " ISBN              | 0374157065                                                                                         \n",
            " BookTitle         | Flu: The Story of the Great Influenza Pandemic of 1918 and the Search for the Virus That Caused It \n",
            " BookAuthor        | Gina Bari Kolata                                                                                   \n",
            " YearOfPublication | 1999                                                                                               \n",
            " Publisher         | Farrar Straus Giroux                                                                               \n",
            " ImageURLS         | http://images.amazon.com/images/P/0374157065.01.THUMBZZZ.jpg                                       \n",
            " ImageURLM         | http://images.amazon.com/images/P/0374157065.01.MZZZZZZZ.jpg                                       \n",
            " ImageURLL         | http://images.amazon.com/images/P/0374157065.01.LZZZZZZZ.jpg                                       \n",
            "-RECORD 16--------------------------------------------------------------------------------------------------------------\n",
            " userid            | 8                                                                                                  \n",
            " isbn              | 0060973129                                                                                         \n",
            " rate              | 0                                                                                                  \n",
            " UserID            | 8                                                                                                  \n",
            " USERNAME          | qiOJebWJS2i                                                                                        \n",
            " Location          | timmins, ontario, canada                                                                           \n",
            " Age               | NULL                                                                                               \n",
            " ISBN              | 0060973129                                                                                         \n",
            " BookTitle         | Decision in Normandy                                                                               \n",
            " BookAuthor        | Carlo D'Este                                                                                       \n",
            " YearOfPublication | 1991                                                                                               \n",
            " Publisher         | HarperPerennial                                                                                    \n",
            " ImageURLS         | http://images.amazon.com/images/P/0060973129.01.THUMBZZZ.jpg                                       \n",
            " ImageURLM         | http://images.amazon.com/images/P/0060973129.01.MZZZZZZZ.jpg                                       \n",
            " ImageURLL         | http://images.amazon.com/images/P/0060973129.01.LZZZZZZZ.jpg                                       \n",
            "-RECORD 17--------------------------------------------------------------------------------------------------------------\n",
            " userid            | 8                                                                                                  \n",
            " isbn              | 0002005018                                                                                         \n",
            " rate              | 5                                                                                                  \n",
            " UserID            | 8                                                                                                  \n",
            " USERNAME          | qiOJebWJS2i                                                                                        \n",
            " Location          | timmins, ontario, canada                                                                           \n",
            " Age               | NULL                                                                                               \n",
            " ISBN              | 0002005018                                                                                         \n",
            " BookTitle         | Clara Callan                                                                                       \n",
            " BookAuthor        | Richard Bruce Wright                                                                               \n",
            " YearOfPublication | 2001                                                                                               \n",
            " Publisher         | HarperFlamingo Canada                                                                              \n",
            " ImageURLS         | http://images.amazon.com/images/P/0002005018.01.THUMBZZZ.jpg                                       \n",
            " ImageURLM         | http://images.amazon.com/images/P/0002005018.01.MZZZZZZZ.jpg                                       \n",
            " ImageURLL         | http://images.amazon.com/images/P/0002005018.01.LZZZZZZZ.jpg                                       \n",
            "-RECORD 18--------------------------------------------------------------------------------------------------------------\n",
            " userid            | 9                                                                                                  \n",
            " isbn              | 0609804618                                                                                         \n",
            " rate              | 0                                                                                                  \n",
            " UserID            | 9                                                                                                  \n",
            " USERNAME          | gkcxQJLS13A                                                                                        \n",
            " Location          | germantown, tennessee, usa                                                                         \n",
            " Age               | NULL                                                                                               \n",
            " ISBN              | 0609804618                                                                                         \n",
            " BookTitle         | Our Dumb Century: The Onion Presents 100 Years of Headlines from America's Finest News Source      \n",
            " BookAuthor        | The Onion                                                                                          \n",
            " YearOfPublication | 1999                                                                                               \n",
            " Publisher         | Three Rivers Press                                                                                 \n",
            " ImageURLS         | http://images.amazon.com/images/P/0609804618.01.THUMBZZZ.jpg                                       \n",
            " ImageURLM         | http://images.amazon.com/images/P/0609804618.01.MZZZZZZZ.jpg                                       \n",
            " ImageURLL         | http://images.amazon.com/images/P/0609804618.01.LZZZZZZZ.jpg                                       \n",
            "-RECORD 19--------------------------------------------------------------------------------------------------------------\n",
            " userid            | 9                                                                                                  \n",
            " isbn              | 0452264464                                                                                         \n",
            " rate              | 6                                                                                                  \n",
            " UserID            | 9                                                                                                  \n",
            " USERNAME          | gkcxQJLS13A                                                                                        \n",
            " Location          | germantown, tennessee, usa                                                                         \n",
            " Age               | NULL                                                                                               \n",
            " ISBN              | 0452264464                                                                                         \n",
            " BookTitle         | Beloved (Plume Contemporary Fiction)                                                               \n",
            " BookAuthor        | Toni Morrison                                                                                      \n",
            " YearOfPublication | 1994                                                                                               \n",
            " Publisher         | Plume                                                                                              \n",
            " ImageURLS         | http://images.amazon.com/images/P/0452264464.01.THUMBZZZ.jpg                                       \n",
            " ImageURLM         | http://images.amazon.com/images/P/0452264464.01.MZZZZZZZ.jpg                                       \n",
            " ImageURLL         | http://images.amazon.com/images/P/0452264464.01.LZZZZZZZ.jpg                                       \n",
            "only showing top 20 rows\n",
            "\n"
          ]
        }
      ]
    },
    {
      "cell_type": "code",
      "source": [
        "from pyspark.sql import SparkSession"
      ],
      "metadata": {
        "id": "lies03EhEBLm"
      },
      "execution_count": 56,
      "outputs": []
    },
    {
      "cell_type": "code",
      "source": [
        "spark=SparkSession.builder.appName('DF transformation').getOrCreate()\n"
      ],
      "metadata": {
        "id": "VD5KsK6kGvfu"
      },
      "execution_count": 57,
      "outputs": []
    },
    {
      "cell_type": "code",
      "source": [
        "my_df=spark.read.options(sep=';',header=True).csv('Book-Ratings.csv')\n"
      ],
      "metadata": {
        "id": "MS7tUPw3HKU1"
      },
      "execution_count": 63,
      "outputs": []
    },
    {
      "cell_type": "markdown",
      "source": [
        "# working with DF without Schema"
      ],
      "metadata": {
        "id": "U0HJPDknGoq0"
      }
    },
    {
      "cell_type": "code",
      "source": [
        "from pyspark.sql.types import *"
      ],
      "metadata": {
        "id": "QNpHpwlOKRO7"
      },
      "execution_count": 58,
      "outputs": []
    },
    {
      "cell_type": "code",
      "source": [
        "user_id_field=StructField('u_id',StringType(),True)\n",
        "isbn_field=StructField('isbn',StringType(),True)\n",
        "rate_field=StructField('rating',StringType(),True)"
      ],
      "metadata": {
        "id": "uTiY1ajoKFgt"
      },
      "execution_count": 60,
      "outputs": []
    },
    {
      "cell_type": "code",
      "source": [
        "my_schema=StructType([user_id_field,isbn_field,rate_field])"
      ],
      "metadata": {
        "id": "49Pwda8RK3Dg"
      },
      "execution_count": 61,
      "outputs": []
    },
    {
      "cell_type": "code",
      "source": [
        "my_schema"
      ],
      "metadata": {
        "id": "j2hDb1qmRliA",
        "outputId": "6aceee67-1b7d-46df-b8ec-dd7f380bd8c0",
        "colab": {
          "base_uri": "https://localhost:8080/"
        }
      },
      "execution_count": 62,
      "outputs": [
        {
          "output_type": "execute_result",
          "data": {
            "text/plain": [
              "StructType([StructField('u_id', StringType(), True), StructField('isbn', StringType(), True), StructField('rating', StringType(), True)])"
            ]
          },
          "metadata": {},
          "execution_count": 62
        }
      ]
    },
    {
      "cell_type": "markdown",
      "source": [
        "# remove row or columns\n"
      ],
      "metadata": {
        "id": "xhTjkop-TRYQ"
      }
    },
    {
      "cell_type": "code",
      "source": [
        "my_df.count()"
      ],
      "metadata": {
        "id": "EmLjvwBmRnqj",
        "outputId": "e1812b4e-482d-4897-b60a-59fc6cd040b8",
        "colab": {
          "base_uri": "https://localhost:8080/"
        }
      },
      "execution_count": 64,
      "outputs": [
        {
          "output_type": "execute_result",
          "data": {
            "text/plain": [
              "1149780"
            ]
          },
          "metadata": {},
          "execution_count": 64
        }
      ]
    },
    {
      "cell_type": "code",
      "source": [
        "my_df.filter('rate>5').count()"
      ],
      "metadata": {
        "id": "bXS1beu_TzsB",
        "outputId": "78db3df1-40dc-4b98-f94e-9266425b66ed",
        "colab": {
          "base_uri": "https://localhost:8080/"
        }
      },
      "execution_count": 66,
      "outputs": [
        {
          "output_type": "execute_result",
          "data": {
            "text/plain": [
              "363268"
            ]
          },
          "metadata": {},
          "execution_count": 66
        }
      ]
    },
    {
      "cell_type": "code",
      "source": [
        "my_df.show()"
      ],
      "metadata": {
        "id": "JYwEDShgT93e",
        "outputId": "9b7b5bbd-b6a0-4118-d6f5-b3bb873a0201",
        "colab": {
          "base_uri": "https://localhost:8080/"
        }
      },
      "execution_count": 67,
      "outputs": [
        {
          "output_type": "stream",
          "name": "stdout",
          "text": [
            "+------+----------+----+\n",
            "|userid|      isbn|rate|\n",
            "+------+----------+----+\n",
            "|276725|034545104X|   0|\n",
            "|276726|0155061224|   5|\n",
            "|276727|0446520802|   0|\n",
            "|276729|052165615X|   3|\n",
            "|276729|0521795028|   6|\n",
            "|276733|2080674722|   0|\n",
            "|276736|3257224281|   8|\n",
            "|276737|0600570967|   6|\n",
            "|276744|038550120X|   7|\n",
            "|276745| 342310538|  10|\n",
            "|276746|0425115801|   0|\n",
            "|276746|0449006522|   0|\n",
            "|276746|0553561618|   0|\n",
            "|276746|055356451X|   0|\n",
            "|276746|0786013990|   0|\n",
            "|276746|0786014512|   0|\n",
            "|276747|0060517794|   9|\n",
            "|276747|0451192001|   0|\n",
            "|276747|0609801279|   0|\n",
            "|276747|0671537458|   9|\n",
            "+------+----------+----+\n",
            "only showing top 20 rows\n",
            "\n"
          ]
        }
      ]
    },
    {
      "cell_type": "code",
      "source": [
        "#حذف ستون\n",
        "my_df.drop('rate').show()"
      ],
      "metadata": {
        "id": "3Fv43lRQUF5a",
        "outputId": "42223349-efe4-4c35-99e9-4e5ca719e404",
        "colab": {
          "base_uri": "https://localhost:8080/"
        }
      },
      "execution_count": 69,
      "outputs": [
        {
          "output_type": "stream",
          "name": "stdout",
          "text": [
            "+------+----------+\n",
            "|userid|      isbn|\n",
            "+------+----------+\n",
            "|276725|034545104X|\n",
            "|276726|0155061224|\n",
            "|276727|0446520802|\n",
            "|276729|052165615X|\n",
            "|276729|0521795028|\n",
            "|276733|2080674722|\n",
            "|276736|3257224281|\n",
            "|276737|0600570967|\n",
            "|276744|038550120X|\n",
            "|276745| 342310538|\n",
            "|276746|0425115801|\n",
            "|276746|0449006522|\n",
            "|276746|0553561618|\n",
            "|276746|055356451X|\n",
            "|276746|0786013990|\n",
            "|276746|0786014512|\n",
            "|276747|0060517794|\n",
            "|276747|0451192001|\n",
            "|276747|0609801279|\n",
            "|276747|0671537458|\n",
            "+------+----------+\n",
            "only showing top 20 rows\n",
            "\n"
          ]
        }
      ]
    },
    {
      "cell_type": "markdown",
      "source": [
        "# add row or columns"
      ],
      "metadata": {
        "id": "v8Kzw59mUjBD"
      }
    },
    {
      "cell_type": "code",
      "source": [
        "new_df=my_df.filter('rate>5')"
      ],
      "metadata": {
        "id": "LJ6JRO7ZUbcr"
      },
      "execution_count": 70,
      "outputs": []
    },
    {
      "cell_type": "code",
      "source": [
        "my_df.count()"
      ],
      "metadata": {
        "id": "6IDQUTSrU1mB",
        "outputId": "329e42d0-3e30-45aa-9c8b-84fe98ad3800",
        "colab": {
          "base_uri": "https://localhost:8080/"
        }
      },
      "execution_count": 71,
      "outputs": [
        {
          "output_type": "execute_result",
          "data": {
            "text/plain": [
              "1149780"
            ]
          },
          "metadata": {},
          "execution_count": 71
        }
      ]
    },
    {
      "cell_type": "code",
      "source": [
        "new_df.count()"
      ],
      "metadata": {
        "id": "eXYdgJWwU4Fn",
        "outputId": "afac94fd-7498-4665-849a-8d24abb8edcb",
        "colab": {
          "base_uri": "https://localhost:8080/"
        }
      },
      "execution_count": 72,
      "outputs": [
        {
          "output_type": "execute_result",
          "data": {
            "text/plain": [
              "363268"
            ]
          },
          "metadata": {},
          "execution_count": 72
        }
      ]
    },
    {
      "cell_type": "code",
      "source": [
        "all_df=new_df.union(my_df)"
      ],
      "metadata": {
        "id": "5o5eIq7sU58n"
      },
      "execution_count": 73,
      "outputs": []
    },
    {
      "cell_type": "code",
      "source": [
        "all_df.count()"
      ],
      "metadata": {
        "id": "H6ZGzmNJVFN3",
        "outputId": "1fe910d5-0c88-4949-882e-102eb7e0a264",
        "colab": {
          "base_uri": "https://localhost:8080/"
        }
      },
      "execution_count": 74,
      "outputs": [
        {
          "output_type": "execute_result",
          "data": {
            "text/plain": [
              "1513048"
            ]
          },
          "metadata": {},
          "execution_count": 74
        }
      ]
    },
    {
      "cell_type": "code",
      "source": [
        "1149780+363268==all_df.count()"
      ],
      "metadata": {
        "id": "xSTBepvOVHC1",
        "outputId": "b1debee0-a618-4707-d15c-59441f63e25c",
        "colab": {
          "base_uri": "https://localhost:8080/"
        }
      },
      "execution_count": 75,
      "outputs": [
        {
          "output_type": "execute_result",
          "data": {
            "text/plain": [
              "True"
            ]
          },
          "metadata": {},
          "execution_count": 75
        }
      ]
    },
    {
      "cell_type": "code",
      "source": [
        "# تغییر نام ستون\n",
        "my_df.withColumnRenamed('u_id','user_id').show()\n"
      ],
      "metadata": {
        "id": "a5RqdbeJVNIs",
        "outputId": "a5414dd7-b0af-4ff7-bfd3-00877a856194",
        "colab": {
          "base_uri": "https://localhost:8080/"
        }
      },
      "execution_count": 76,
      "outputs": [
        {
          "output_type": "stream",
          "name": "stdout",
          "text": [
            "+------+----------+----+\n",
            "|userid|      isbn|rate|\n",
            "+------+----------+----+\n",
            "|276725|034545104X|   0|\n",
            "|276726|0155061224|   5|\n",
            "|276727|0446520802|   0|\n",
            "|276729|052165615X|   3|\n",
            "|276729|0521795028|   6|\n",
            "|276733|2080674722|   0|\n",
            "|276736|3257224281|   8|\n",
            "|276737|0600570967|   6|\n",
            "|276744|038550120X|   7|\n",
            "|276745| 342310538|  10|\n",
            "|276746|0425115801|   0|\n",
            "|276746|0449006522|   0|\n",
            "|276746|0553561618|   0|\n",
            "|276746|055356451X|   0|\n",
            "|276746|0786013990|   0|\n",
            "|276746|0786014512|   0|\n",
            "|276747|0060517794|   9|\n",
            "|276747|0451192001|   0|\n",
            "|276747|0609801279|   0|\n",
            "|276747|0671537458|   9|\n",
            "+------+----------+----+\n",
            "only showing top 20 rows\n",
            "\n"
          ]
        }
      ]
    },
    {
      "cell_type": "code",
      "source": [
        "#template--> my_df.withColumn('column name', Operation)\n",
        "from pyspark.sql.functions import lit # Literal = به معنای واقعی کلمه\n",
        "my_df.withColumn('new_call',lit(5)).show()"
      ],
      "metadata": {
        "id": "A5K9v05pVlFW",
        "outputId": "6f991d74-c85a-4135-9b50-5e3b8cfb0a49",
        "colab": {
          "base_uri": "https://localhost:8080/"
        }
      },
      "execution_count": 86,
      "outputs": [
        {
          "output_type": "stream",
          "name": "stdout",
          "text": [
            "+------+----------+----+--------+\n",
            "|userid|      isbn|rate|new_call|\n",
            "+------+----------+----+--------+\n",
            "|276725|034545104X|   0|       5|\n",
            "|276726|0155061224|   5|       5|\n",
            "|276727|0446520802|   0|       5|\n",
            "|276729|052165615X|   3|       5|\n",
            "|276729|0521795028|   6|       5|\n",
            "|276733|2080674722|   0|       5|\n",
            "|276736|3257224281|   8|       5|\n",
            "|276737|0600570967|   6|       5|\n",
            "|276744|038550120X|   7|       5|\n",
            "|276745| 342310538|  10|       5|\n",
            "|276746|0425115801|   0|       5|\n",
            "|276746|0449006522|   0|       5|\n",
            "|276746|0553561618|   0|       5|\n",
            "|276746|055356451X|   0|       5|\n",
            "|276746|0786013990|   0|       5|\n",
            "|276746|0786014512|   0|       5|\n",
            "|276747|0060517794|   9|       5|\n",
            "|276747|0451192001|   0|       5|\n",
            "|276747|0609801279|   0|       5|\n",
            "|276747|0671537458|   9|       5|\n",
            "+------+----------+----+--------+\n",
            "only showing top 20 rows\n",
            "\n"
          ]
        }
      ]
    },
    {
      "cell_type": "code",
      "source": [
        "#instead of literal we can have an operation\n",
        "my_df.withColumn('new_call',my_df['rate']>5).show()"
      ],
      "metadata": {
        "id": "l91DFStrWD36",
        "outputId": "a8751a1b-a323-4557-d3b1-d1882b3be495",
        "colab": {
          "base_uri": "https://localhost:8080/"
        }
      },
      "execution_count": 88,
      "outputs": [
        {
          "output_type": "stream",
          "name": "stdout",
          "text": [
            "+------+----------+----+--------+\n",
            "|userid|      isbn|rate|new_call|\n",
            "+------+----------+----+--------+\n",
            "|276725|034545104X|   0|   false|\n",
            "|276726|0155061224|   5|   false|\n",
            "|276727|0446520802|   0|   false|\n",
            "|276729|052165615X|   3|   false|\n",
            "|276729|0521795028|   6|    true|\n",
            "|276733|2080674722|   0|   false|\n",
            "|276736|3257224281|   8|    true|\n",
            "|276737|0600570967|   6|    true|\n",
            "|276744|038550120X|   7|    true|\n",
            "|276745| 342310538|  10|    true|\n",
            "|276746|0425115801|   0|   false|\n",
            "|276746|0449006522|   0|   false|\n",
            "|276746|0553561618|   0|   false|\n",
            "|276746|055356451X|   0|   false|\n",
            "|276746|0786013990|   0|   false|\n",
            "|276746|0786014512|   0|   false|\n",
            "|276747|0060517794|   9|    true|\n",
            "|276747|0451192001|   0|   false|\n",
            "|276747|0609801279|   0|   false|\n",
            "|276747|0671537458|   9|    true|\n",
            "+------+----------+----+--------+\n",
            "only showing top 20 rows\n",
            "\n"
          ]
        }
      ]
    },
    {
      "cell_type": "code",
      "source": [
        "# we can cast (changing the type of columns)\n",
        "my_df.withColumn('userid',col('userid').cast('long')).printSchema()"
      ],
      "metadata": {
        "id": "AqEiHarXYrtF",
        "outputId": "488a1adc-74da-4b6e-f026-4a5b2923ab94",
        "colab": {
          "base_uri": "https://localhost:8080/"
        }
      },
      "execution_count": 93,
      "outputs": [
        {
          "output_type": "stream",
          "name": "stdout",
          "text": [
            "root\n",
            " |-- userid: long (nullable = true)\n",
            " |-- isbn: string (nullable = true)\n",
            " |-- rate: string (nullable = true)\n",
            "\n"
          ]
        }
      ]
    },
    {
      "cell_type": "code",
      "source": [],
      "metadata": {
        "id": "mb39fQlwaVD_"
      },
      "execution_count": 94,
      "outputs": []
    },
    {
      "cell_type": "code",
      "source": [
        "#(where) is the other way of using (filter)\n"
      ],
      "metadata": {
        "id": "Ecxq5mBcaqxG"
      },
      "execution_count": 95,
      "outputs": []
    },
    {
      "cell_type": "code",
      "source": [
        "my_df.filter('rate > 5').show()"
      ],
      "metadata": {
        "id": "HQBDA0XMvMp5",
        "outputId": "73ddf848-87e0-449f-d443-ef53788bfdf5",
        "colab": {
          "base_uri": "https://localhost:8080/"
        }
      },
      "execution_count": 96,
      "outputs": [
        {
          "output_type": "stream",
          "name": "stdout",
          "text": [
            "+------+----------+----+\n",
            "|userid|      isbn|rate|\n",
            "+------+----------+----+\n",
            "|276729|0521795028|   6|\n",
            "|276736|3257224281|   8|\n",
            "|276737|0600570967|   6|\n",
            "|276744|038550120X|   7|\n",
            "|276745| 342310538|  10|\n",
            "|276747|0060517794|   9|\n",
            "|276747|0671537458|   9|\n",
            "|276747|0679776818|   8|\n",
            "|276747|0943066433|   7|\n",
            "|276747|1885408226|   7|\n",
            "|276748|0747558167|   6|\n",
            "|276751|3596218098|   8|\n",
            "|276754|0684867621|   8|\n",
            "|276760|8440682697|  10|\n",
            "|276762|3453092007|   8|\n",
            "|276772|0553572369|   7|\n",
            "|276772|3499230933|  10|\n",
            "|276772|3596151465|  10|\n",
            "|276774|3442136644|   9|\n",
            "|276780|8484330478|   7|\n",
            "+------+----------+----+\n",
            "only showing top 20 rows\n",
            "\n"
          ]
        }
      ]
    },
    {
      "cell_type": "code",
      "source": [
        "my_df.where('rate>5').show()"
      ],
      "metadata": {
        "id": "HVvKAs3bviXD",
        "outputId": "21b0f114-d18b-4f84-989d-7b082c117f9c",
        "colab": {
          "base_uri": "https://localhost:8080/"
        }
      },
      "execution_count": 97,
      "outputs": [
        {
          "output_type": "stream",
          "name": "stdout",
          "text": [
            "+------+----------+----+\n",
            "|userid|      isbn|rate|\n",
            "+------+----------+----+\n",
            "|276729|0521795028|   6|\n",
            "|276736|3257224281|   8|\n",
            "|276737|0600570967|   6|\n",
            "|276744|038550120X|   7|\n",
            "|276745| 342310538|  10|\n",
            "|276747|0060517794|   9|\n",
            "|276747|0671537458|   9|\n",
            "|276747|0679776818|   8|\n",
            "|276747|0943066433|   7|\n",
            "|276747|1885408226|   7|\n",
            "|276748|0747558167|   6|\n",
            "|276751|3596218098|   8|\n",
            "|276754|0684867621|   8|\n",
            "|276760|8440682697|  10|\n",
            "|276762|3453092007|   8|\n",
            "|276772|0553572369|   7|\n",
            "|276772|3499230933|  10|\n",
            "|276772|3596151465|  10|\n",
            "|276774|3442136644|   9|\n",
            "|276780|8484330478|   7|\n",
            "+------+----------+----+\n",
            "only showing top 20 rows\n",
            "\n"
          ]
        }
      ]
    },
    {
      "cell_type": "code",
      "source": [
        "#note\n",
        "# اسپارک تمام فیلترها را به طور همزمان اجرا میکند\n",
        "# حتی اگر برای مثال ده تا فیلتر نوشته باشیم، ترتیب آن تاثیری در جواب نهایی ندارد\n",
        "#این یک مزیت است\n"
      ],
      "metadata": {
        "id": "O9gQO3tNvrOi"
      },
      "execution_count": 98,
      "outputs": []
    },
    {
      "cell_type": "code",
      "source": [
        "#sort === Orderby\n",
        "#این دومورد کاری که انجام میدهند نتیجه یکسانی دارد\n"
      ],
      "metadata": {
        "id": "UZ3E88zOwLhI"
      },
      "execution_count": 99,
      "outputs": []
    },
    {
      "cell_type": "markdown",
      "source": [
        "# save as json file"
      ],
      "metadata": {
        "id": "EFJrCR7oxuAs"
      }
    },
    {
      "cell_type": "code",
      "source": [
        "my_df.write.json('khatam_sql2')\n",
        "# که به ازای هر 32 مگابایت یک پارتیشن تشکیل میشود"
      ],
      "metadata": {
        "id": "TWdrzY1cxevx"
      },
      "execution_count": 102,
      "outputs": []
    },
    {
      "cell_type": "markdown",
      "source": [
        "#save as CSV file"
      ],
      "metadata": {
        "id": "LgE1_v3xyRKE"
      }
    },
    {
      "cell_type": "code",
      "source": [
        "my_df.write.csv('khatam_sql2_CSV')\n"
      ],
      "metadata": {
        "id": "HpvyxeU2xm8X"
      },
      "execution_count": 103,
      "outputs": []
    },
    {
      "cell_type": "code",
      "source": [
        "# چهار مود برای رایت داریم\n",
        "#we have 4 modes for write\n",
        "# append -Overwrite - Ignor - Error\n"
      ],
      "metadata": {
        "id": "I2v71Ac6y2qK"
      },
      "execution_count": 104,
      "outputs": []
    },
    {
      "cell_type": "code",
      "source": [
        "# mode Overwrite\n",
        "my_df.write.mode('overwrite').options(header=True).csv('khatam_sql2_CSV')\n"
      ],
      "metadata": {
        "id": "QskkSTz8zJ-r"
      },
      "execution_count": 108,
      "outputs": []
    },
    {
      "cell_type": "code",
      "source": [
        "# mode append\n",
        "#تعداد فایلها افزایش می یابد\n",
        "my_df.write.mode('append').options(header=True).csv('khatam_sql2_CSV')\n"
      ],
      "metadata": {
        "id": "yZ8q-e-_0BsE"
      },
      "execution_count": 110,
      "outputs": []
    },
    {
      "cell_type": "code",
      "source": [
        "# mode ignore\n",
        "# کار خاصی نمیکند و در صورت اشغال بودن فایل تولید نمیشود، یعنی ارور تولید نمیکند و روی اعصاب نمیرود :)\n",
        "my_df.write.mode('ignore').options(header=True).csv('khatam_sql3_CSV')\n"
      ],
      "metadata": {
        "id": "YLXxmSjF05yz"
      },
      "execution_count": 112,
      "outputs": []
    },
    {
      "cell_type": "code",
      "source": [
        "# پایان"
      ],
      "metadata": {
        "id": "HLEEgBTx1eq8"
      },
      "execution_count": null,
      "outputs": []
    }
  ]
}