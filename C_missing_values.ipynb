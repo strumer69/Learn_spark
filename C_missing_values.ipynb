{
  "nbformat": 4,
  "nbformat_minor": 0,
  "metadata": {
    "colab": {
      "provenance": []
    },
    "kernelspec": {
      "name": "python3",
      "display_name": "Python 3"
    },
    "language_info": {
      "name": "python"
    }
  },
  "cells": [
    {
      "cell_type": "code",
      "execution_count": 41,
      "metadata": {
        "id": "_QAq2P-1ubKX"
      },
      "outputs": [],
      "source": []
    },
    {
      "cell_type": "markdown",
      "source": [
        "## Pyspark Handling Missing Values\n",
        "* Dropping Columns\n",
        "* Dropping Rows\n",
        "* Various Parameter In Dropping functionalities\n",
        "* Handling Missing values by Mean, MEdian And Mode"
      ],
      "metadata": {
        "id": "RZkkTemavIn3"
      }
    },
    {
      "cell_type": "code",
      "source": [
        "pip install pyspark"
      ],
      "metadata": {
        "colab": {
          "base_uri": "https://localhost:8080/"
        },
        "id": "CXjuf0v3vSWT",
        "outputId": "724b1728-5721-4525-c14d-738653a30027"
      },
      "execution_count": 42,
      "outputs": [
        {
          "output_type": "stream",
          "name": "stdout",
          "text": [
            "Looking in indexes: https://pypi.org/simple, https://us-python.pkg.dev/colab-wheels/public/simple/\n",
            "Requirement already satisfied: pyspark in /usr/local/lib/python3.8/dist-packages (3.3.2)\n",
            "Requirement already satisfied: py4j==0.10.9.5 in /usr/local/lib/python3.8/dist-packages (from pyspark) (0.10.9.5)\n"
          ]
        }
      ]
    },
    {
      "cell_type": "code",
      "source": [
        "from pyspark.sql import SparkSession\n",
        "spark=SparkSession.builder.appName('Practise').getOrCreate()"
      ],
      "metadata": {
        "id": "f52s1eW-vMhR"
      },
      "execution_count": 43,
      "outputs": []
    },
    {
      "cell_type": "code",
      "source": [
        "df_pyspark=spark.read.csv('table.csv',header=True,inferSchema=True)\n"
      ],
      "metadata": {
        "id": "CTxzkwgZwKi1"
      },
      "execution_count": 44,
      "outputs": []
    },
    {
      "cell_type": "code",
      "source": [
        "df_pyspark.printSchema()\n"
      ],
      "metadata": {
        "colab": {
          "base_uri": "https://localhost:8080/"
        },
        "id": "klE4yH2YwZHU",
        "outputId": "2d830948-87bc-4c93-c62b-e86be7e230d7"
      },
      "execution_count": 45,
      "outputs": [
        {
          "output_type": "stream",
          "name": "stdout",
          "text": [
            "root\n",
            " |-- Name: string (nullable = true)\n",
            " |-- age: integer (nullable = true)\n",
            " |-- Experience: integer (nullable = true)\n",
            " |-- Salary: integer (nullable = true)\n",
            "\n"
          ]
        }
      ]
    },
    {
      "cell_type": "code",
      "source": [
        "df_pyspark.show()\n"
      ],
      "metadata": {
        "colab": {
          "base_uri": "https://localhost:8080/"
        },
        "id": "rF1vAuU6wbF0",
        "outputId": "afad6db8-1edd-4dc8-ce71-2b31b67744e7"
      },
      "execution_count": 46,
      "outputs": [
        {
          "output_type": "stream",
          "name": "stdout",
          "text": [
            "+-------+----+----------+------+\n",
            "|   Name| age|Experience|Salary|\n",
            "+-------+----+----------+------+\n",
            "|    ali|  31|        10| 30000|\n",
            "|   reza|  30|         8| 25000|\n",
            "| mammad|  29|         4| 20000|\n",
            "|  david|  24|         3| 20000|\n",
            "| davood|  21|         1| 15000|\n",
            "|ebrahim|  23|         2| 18000|\n",
            "|abraham|null|      null| 40000|\n",
            "|   null|  34|        10| 38000|\n",
            "|   null|  36|      null|  null|\n",
            "+-------+----+----------+------+\n",
            "\n"
          ]
        }
      ]
    },
    {
      "cell_type": "code",
      "source": [
        "df_pyspark_miss_dar=df_pyspark.na.fill('missed')\n",
        "df_pyspark_miss_dar.show()"
      ],
      "metadata": {
        "colab": {
          "base_uri": "https://localhost:8080/"
        },
        "id": "IlOMOOUE8d5v",
        "outputId": "b6732395-6fed-4339-d5a5-13f0d6e72ba1"
      },
      "execution_count": 65,
      "outputs": [
        {
          "output_type": "stream",
          "name": "stdout",
          "text": [
            "+-------+----+----------+------+\n",
            "|   Name| age|Experience|Salary|\n",
            "+-------+----+----------+------+\n",
            "|    ali|  31|        10| 30000|\n",
            "|   reza|  30|         8| 25000|\n",
            "| mammad|  29|         4| 20000|\n",
            "|  david|  24|         3| 20000|\n",
            "| davood|  21|         1| 15000|\n",
            "|ebrahim|  23|         2| 18000|\n",
            "|abraham|null|      null| 40000|\n",
            "| missed|  34|        10| 38000|\n",
            "| missed|  36|      null|  null|\n",
            "+-------+----+----------+------+\n",
            "\n"
          ]
        }
      ]
    },
    {
      "cell_type": "code",
      "source": [
        "##drop the columns\n",
        "df_pyspark.drop('Name').show()"
      ],
      "metadata": {
        "colab": {
          "base_uri": "https://localhost:8080/"
        },
        "id": "ivBExWP9wcnp",
        "outputId": "1408614b-efea-405e-fbbb-003d769ec000"
      },
      "execution_count": 48,
      "outputs": [
        {
          "output_type": "stream",
          "name": "stdout",
          "text": [
            "+----+----------+------+\n",
            "| age|Experience|Salary|\n",
            "+----+----------+------+\n",
            "|  31|        10| 30000|\n",
            "|  30|         8| 25000|\n",
            "|  29|         4| 20000|\n",
            "|  24|         3| 20000|\n",
            "|  21|         1| 15000|\n",
            "|  23|         2| 18000|\n",
            "|null|      null| 40000|\n",
            "|  34|        10| 38000|\n",
            "|  36|      null|  null|\n",
            "+----+----------+------+\n",
            "\n"
          ]
        }
      ]
    },
    {
      "cell_type": "code",
      "source": [
        "df_pyspark.show()\n"
      ],
      "metadata": {
        "colab": {
          "base_uri": "https://localhost:8080/"
        },
        "id": "RG4Ynt3fwfJZ",
        "outputId": "f5cdcdd5-ca0a-4a17-d8f7-0e42c0d507ea"
      },
      "execution_count": 49,
      "outputs": [
        {
          "output_type": "stream",
          "name": "stdout",
          "text": [
            "+-------+----+----------+------+\n",
            "|   Name| age|Experience|Salary|\n",
            "+-------+----+----------+------+\n",
            "|    ali|  31|        10| 30000|\n",
            "|   reza|  30|         8| 25000|\n",
            "| mammad|  29|         4| 20000|\n",
            "|  david|  24|         3| 20000|\n",
            "| davood|  21|         1| 15000|\n",
            "|ebrahim|  23|         2| 18000|\n",
            "|abraham|null|      null| 40000|\n",
            "|   null|  34|        10| 38000|\n",
            "|   null|  36|      null|  null|\n",
            "+-------+----+----------+------+\n",
            "\n"
          ]
        }
      ]
    },
    {
      "cell_type": "code",
      "source": [
        "df_pyspark.na.drop().show()\n"
      ],
      "metadata": {
        "colab": {
          "base_uri": "https://localhost:8080/"
        },
        "id": "r-EMNxPcwmSs",
        "outputId": "c82ca3ee-b70a-413b-f13b-5cb7896f5aae"
      },
      "execution_count": 50,
      "outputs": [
        {
          "output_type": "stream",
          "name": "stdout",
          "text": [
            "+-------+---+----------+------+\n",
            "|   Name|age|Experience|Salary|\n",
            "+-------+---+----------+------+\n",
            "|    ali| 31|        10| 30000|\n",
            "|   reza| 30|         8| 25000|\n",
            "| mammad| 29|         4| 20000|\n",
            "|  david| 24|         3| 20000|\n",
            "| davood| 21|         1| 15000|\n",
            "|ebrahim| 23|         2| 18000|\n",
            "+-------+---+----------+------+\n",
            "\n"
          ]
        }
      ]
    },
    {
      "cell_type": "code",
      "source": [
        "### how==any\n",
        "df_pyspark.na.drop(how=\"any\").show()"
      ],
      "metadata": {
        "colab": {
          "base_uri": "https://localhost:8080/"
        },
        "id": "SL0mz_0CwpXo",
        "outputId": "f71fd9e4-fb25-43af-8530-169332871b09"
      },
      "execution_count": 51,
      "outputs": [
        {
          "output_type": "stream",
          "name": "stdout",
          "text": [
            "+-------+---+----------+------+\n",
            "|   Name|age|Experience|Salary|\n",
            "+-------+---+----------+------+\n",
            "|    ali| 31|        10| 30000|\n",
            "|   reza| 30|         8| 25000|\n",
            "| mammad| 29|         4| 20000|\n",
            "|  david| 24|         3| 20000|\n",
            "| davood| 21|         1| 15000|\n",
            "|ebrahim| 23|         2| 18000|\n",
            "+-------+---+----------+------+\n",
            "\n"
          ]
        }
      ]
    },
    {
      "cell_type": "code",
      "source": [
        "##threshold-- \n",
        "df_pyspark.na.drop(how=\"any\",thresh=1).show()"
      ],
      "metadata": {
        "colab": {
          "base_uri": "https://localhost:8080/"
        },
        "id": "5I76MwQdwuM1",
        "outputId": "03eb22a1-3e21-4702-fc81-e30a3395d3c1"
      },
      "execution_count": 52,
      "outputs": [
        {
          "output_type": "stream",
          "name": "stdout",
          "text": [
            "+-------+----+----------+------+\n",
            "|   Name| age|Experience|Salary|\n",
            "+-------+----+----------+------+\n",
            "|    ali|  31|        10| 30000|\n",
            "|   reza|  30|         8| 25000|\n",
            "| mammad|  29|         4| 20000|\n",
            "|  david|  24|         3| 20000|\n",
            "| davood|  21|         1| 15000|\n",
            "|ebrahim|  23|         2| 18000|\n",
            "|abraham|null|      null| 40000|\n",
            "|   null|  34|        10| 38000|\n",
            "|   null|  36|      null|  null|\n",
            "+-------+----+----------+------+\n",
            "\n"
          ]
        }
      ]
    },
    {
      "cell_type": "code",
      "source": [
        "##Subset-- delet nan values only from the subset column\n",
        "df_pyspark.na.drop(how=\"any\",subset=['Age']).show()"
      ],
      "metadata": {
        "colab": {
          "base_uri": "https://localhost:8080/"
        },
        "id": "o7bnqy4uw_JS",
        "outputId": "64880d24-93e7-47a4-b67a-1511621a2c21"
      },
      "execution_count": 53,
      "outputs": [
        {
          "output_type": "stream",
          "name": "stdout",
          "text": [
            "+-------+---+----------+------+\n",
            "|   Name|age|Experience|Salary|\n",
            "+-------+---+----------+------+\n",
            "|    ali| 31|        10| 30000|\n",
            "|   reza| 30|         8| 25000|\n",
            "| mammad| 29|         4| 20000|\n",
            "|  david| 24|         3| 20000|\n",
            "| davood| 21|         1| 15000|\n",
            "|ebrahim| 23|         2| 18000|\n",
            "|   null| 34|        10| 38000|\n",
            "|   null| 36|      null|  null|\n",
            "+-------+---+----------+------+\n",
            "\n"
          ]
        }
      ]
    },
    {
      "cell_type": "code",
      "source": [
        "### Filling the Missing Value\n",
        "df_pyspark_miss=df_pyspark.na.fill('Missed',['Experience','age'])\n",
        "#df_pyspark_miss_dar=df_pyspark.na.fill('Missing')\n",
        "df_pyspark_miss.show()"
      ],
      "metadata": {
        "colab": {
          "base_uri": "https://localhost:8080/"
        },
        "id": "s7epI93XxHqX",
        "outputId": "124c6729-852f-4610-93ac-66ff956f880c"
      },
      "execution_count": 68,
      "outputs": [
        {
          "output_type": "stream",
          "name": "stdout",
          "text": [
            "+-------+----+----------+------+\n",
            "|   Name| age|Experience|Salary|\n",
            "+-------+----+----------+------+\n",
            "|    ali|  31|        10| 30000|\n",
            "|   reza|  30|         8| 25000|\n",
            "| mammad|  29|         4| 20000|\n",
            "|  david|  24|         3| 20000|\n",
            "| davood|  21|         1| 15000|\n",
            "|ebrahim|  23|         2| 18000|\n",
            "|abraham|null|      null| 40000|\n",
            "|   null|  34|        10| 38000|\n",
            "|   null|  36|      null|  null|\n",
            "+-------+----+----------+------+\n",
            "\n"
          ]
        }
      ]
    },
    {
      "cell_type": "code",
      "source": [
        "df_pyspark_miss_dar.show()"
      ],
      "metadata": {
        "colab": {
          "base_uri": "https://localhost:8080/"
        },
        "id": "cExrp9_exKkq",
        "outputId": "45a18c7b-6170-4b65-fef6-a7904ea5ccfb"
      },
      "execution_count": 55,
      "outputs": [
        {
          "output_type": "stream",
          "name": "stdout",
          "text": [
            "+-------+----+----------+------+\n",
            "|   Name| age|Experience|Salary|\n",
            "+-------+----+----------+------+\n",
            "|    ali|  31|        10| 30000|\n",
            "|   reza|  30|         8| 25000|\n",
            "| mammad|  29|         4| 20000|\n",
            "|  david|  24|         3| 20000|\n",
            "| davood|  21|         1| 15000|\n",
            "|ebrahim|  23|         2| 18000|\n",
            "|abraham|null|      null| 40000|\n",
            "|Missing|  34|        10| 38000|\n",
            "|Missing|  36|      null|  null|\n",
            "+-------+----+----------+------+\n",
            "\n"
          ]
        }
      ]
    },
    {
      "cell_type": "code",
      "source": [
        "df_pyspark.printSchema()"
      ],
      "metadata": {
        "colab": {
          "base_uri": "https://localhost:8080/"
        },
        "id": "pr756AiwxMPz",
        "outputId": "2810d719-ddb5-4998-d082-515ba11691aa"
      },
      "execution_count": 56,
      "outputs": [
        {
          "output_type": "stream",
          "name": "stdout",
          "text": [
            "root\n",
            " |-- Name: string (nullable = true)\n",
            " |-- age: integer (nullable = true)\n",
            " |-- Experience: integer (nullable = true)\n",
            " |-- Salary: integer (nullable = true)\n",
            "\n"
          ]
        }
      ]
    },
    {
      "cell_type": "code",
      "source": [
        "# like the same in sklearn library\n",
        "from pyspark.ml.feature import Imputer\n",
        "\n",
        "imputer = Imputer(\n",
        "    inputCols=['age', 'Experience', 'Salary'], \n",
        "    outputCols=[\"{}_imputed\".format(c) for c in ['age', 'Experience', 'Salary']]\n",
        "    ).setStrategy(\"median\")"
      ],
      "metadata": {
        "id": "ML9MQl_ExNmu"
      },
      "execution_count": 57,
      "outputs": []
    },
    {
      "cell_type": "code",
      "source": [
        "# Add imputation cols to df\n",
        "imputer.fit(df_pyspark).transform(df_pyspark).show()"
      ],
      "metadata": {
        "id": "RIBdFkJ4xVR_",
        "outputId": "b056a2e6-f5c1-40b7-8078-e95e60e37d7e",
        "colab": {
          "base_uri": "https://localhost:8080/"
        }
      },
      "execution_count": 58,
      "outputs": [
        {
          "output_type": "stream",
          "name": "stdout",
          "text": [
            "+-------+----+----------+------+-----------+------------------+--------------+\n",
            "|   Name| age|Experience|Salary|age_imputed|Experience_imputed|Salary_imputed|\n",
            "+-------+----+----------+------+-----------+------------------+--------------+\n",
            "|    ali|  31|        10| 30000|         31|                10|         30000|\n",
            "|   reza|  30|         8| 25000|         30|                 8|         25000|\n",
            "| mammad|  29|         4| 20000|         29|                 4|         20000|\n",
            "|  david|  24|         3| 20000|         24|                 3|         20000|\n",
            "| davood|  21|         1| 15000|         21|                 1|         15000|\n",
            "|ebrahim|  23|         2| 18000|         23|                 2|         18000|\n",
            "|abraham|null|      null| 40000|         29|                 4|         40000|\n",
            "|   null|  34|        10| 38000|         34|                10|         38000|\n",
            "|   null|  36|      null|  null|         36|                 4|         20000|\n",
            "+-------+----+----------+------+-----------+------------------+--------------+\n",
            "\n"
          ]
        }
      ]
    },
    {
      "cell_type": "code",
      "source": [],
      "metadata": {
        "id": "JRzeotLExV70"
      },
      "execution_count": 58,
      "outputs": []
    }
  ]
}